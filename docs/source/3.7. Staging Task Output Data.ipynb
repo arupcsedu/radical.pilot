{
 "cells": [
  {
   "cell_type": "markdown",
   "id": "a2a16e4d",
   "metadata": {},
   "source": [
    "<h1>3.7. Staging Task Output Data</h1>"
   ]
  },
  {
   "cell_type": "markdown",
   "id": "2ad43774",
   "metadata": {},
   "source": [
    "Upon completion, tasks often create some amount of data. We have seen in Obtaining Task Details how we can inspect the task’s stdout string, but that will not be useful beyond the most trivial workloads. This section shows how to stage the output data of tasks back to the RP application, and/or to arbitrary storage locations and devices.\n",
    "\n",
    "In principle, output staging is specified as the input staging discussed in the previous section:\n",
    "\n",
    " - source: what files need to be staged from the context of the task that terminated execution\n",
    " - target: where should the files be staged to\n",
    " - action: how should files be staged.\n",
    " \n",
    "Note that in this example we specify the output file name to be changed to a unique name during staging:"
   ]
  },
  {
   "cell_type": "code",
   "execution_count": null,
   "id": "99777a8f",
   "metadata": {},
   "outputs": [],
   "source": [
    "for i in range(0, n):\n",
    "    cud.executable     = '/bin/cp'\n",
    "    cud.arguments      = ['-v', 'input.dat', 'output.dat']\n",
    "    cud.input_staging  = ['input.dat']\n",
    "    cud.output_staging = {'source': 'output.dat',\n",
    "                          'target': 'output_%03d.dat' % i,\n",
    "                          'action': rp.TRANSFER}"
   ]
  },
  {
   "cell_type": "markdown",
   "id": "fa7f609d",
   "metadata": {},
   "source": [
    "<h2>3.7.1. Running the Example</h2>"
   ]
  },
  {
   "cell_type": "markdown",
   "id": "b2fd4f28",
   "metadata": {},
   "source": [
    "Below is an example application which uses the code block above.\n",
    "\n",
    "We start by importing the radical.pilot module and initializing the reporter facility used for printing well formatted runtime and progress information."
   ]
  },
  {
   "cell_type": "code",
   "execution_count": null,
   "id": "a1e98a47",
   "metadata": {},
   "outputs": [],
   "source": [
    "import os\n",
    "import sys\n",
    "\n",
    "verbose  = os.environ.get('RADICAL_PILOT_VERBOSE', 'REPORT')\n",
    "os.environ['RADICAL_PILOT_VERBOSE'] = verbose\n",
    "\n",
    "import radical.pilot as rp\n",
    "import radical.utils as ru\n",
    "\n",
    "report = ru.Reporter(name='radical.pilot')\n",
    "report.title('Getting Started (RP version %s)' % rp.version)"
   ]
  },
  {
   "cell_type": "markdown",
   "id": "bde6ddc3",
   "metadata": {},
   "source": [
    "We will now import the dotenv module for fetching our environment variables. To create a new Session, you need to provide the URL of a MongoDB server which we will fetch from our .env file.\n",
    "\n",
    "We will set the resource value to 'local.localhost'. Using a resource key other than local.localhost implicitly tells RADICAL-Pilot that it is targeting a remote resource."
   ]
  },
  {
   "cell_type": "code",
   "execution_count": null,
   "id": "08053116",
   "metadata": {},
   "outputs": [],
   "source": [
    "from dotenv import load_dotenv\n",
    "load_dotenv()\n",
    "\n",
    "RADICAL_PILOT_DBURL = os.getenv(\"RADICAL_PILOT_DBURL\")\n",
    "os.environ['RADICAL_PILOT_DBURL'] = RADICAL_PILOT_DBURL\n",
    "resource = 'local.localhost'\n",
    "session = rp.Session()"
   ]
  },
  {
   "cell_type": "markdown",
   "id": "a109d90c",
   "metadata": {},
   "source": [
    "All other pilot code is now tried/excepted. If an exception is caught, we can rely on the session object to exist and be valid, and we can thus tear the whole RP stack down via a <i>'session.close()'</i> call in the <i>'finally'</i> clause."
   ]
  },
  {
   "cell_type": "code",
   "execution_count": null,
   "id": "509fa301",
   "metadata": {},
   "outputs": [],
   "source": [
    " try:\n",
    "\n",
    "    # read the config used for resource details\n",
    "    report.info('read config')\n",
    "    config = ru.read_json('/../config.json')\n",
    "    report.ok('>>ok\\n')\n",
    "\n",
    "    report.header('submit pilots')\n",
    "\n",
    "    # Add a Pilot Manager. Pilot managers manage one or more Pilots.\n",
    "    pmgr = rp.PilotManager(session=session)\n",
    "\n",
    "    # Define an [n]-core local pilot that runs for [x] minutes\n",
    "    # Here we use a dict to initialize the description object\n",
    "    pd_init = {\n",
    "               'resource'      : resource,\n",
    "               'runtime'       : 15,  # pilot runtime (min)\n",
    "               'exit_on_error' : True,\n",
    "               'project'       : config[resource].get('project', None),\n",
    "               'queue'         : config[resource].get('queue', None),\n",
    "               'access_schema' : config[resource].get('schema', None),\n",
    "               'cores'         : config[resource].get('cores', 1),\n",
    "               'gpus'          : config[resource].get('gpus', 0),\n",
    "              }\n",
    "    pdesc = rp.PilotDescription(pd_init)\n",
    "\n",
    "    # Launch the pilot.\n",
    "    pilot = pmgr.submit_pilots(pdesc)\n",
    "\n",
    "\n",
    "    report.header('submit tasks')\n",
    "\n",
    "    # Register the Pilot in a TaskManager object.\n",
    "    tmgr = rp.TaskManager(session=session)\n",
    "    tmgr.add_pilots(pilot)\n",
    "\n",
    "    # Create a workload of char-counting a simple file.  We first create the\n",
    "    # file right here, and then use it as task input data for each task.\n",
    "    os.system('hostname >  input.dat')\n",
    "    os.system('date     >> input.dat')\n",
    "\n",
    "    n = 128   # number of tasks to run\n",
    "    report.info('create %d task description(s)\\n\\t' % n)\n",
    "\n",
    "    tds = list()\n",
    "    for i in range(0, n):\n",
    "\n",
    "        # create a new Task description, and fill it.\n",
    "        # Here we don't use dict initialization.\n",
    "        td = rp.TaskDescription()\n",
    "        td.executable     = '/bin/cp'\n",
    "        td.arguments      = ['-v', 'input.dat', 'output.dat']\n",
    "        td.input_staging  = ['input.dat']\n",
    "        td.output_staging = {'source': 'task:///output.dat',\n",
    "                              'target': 'client:///output_%03d.dat' % i,\n",
    "                              'action': rp.TRANSFER}\n",
    "\n",
    "        tds.append(td)\n",
    "        report.progress()\n",
    "    report.ok('>>ok\\n')\n",
    "\n",
    "    # Submit the previously created Task descriptions to the\n",
    "    # PilotManager. This will trigger the selected scheduler to start\n",
    "    # assigning Tasks to the Pilots.\n",
    "    tasks = tmgr.submit_tasks(tds)\n",
    "\n",
    "    # Wait for all tasks to reach a final state (DONE, CANCELED or FAILED).\n",
    "    report.header('gather results')\n",
    "    tmgr.wait_tasks()\n",
    "\n",
    "    report.info('\\n')\n",
    "    for task in tasks:\n",
    "        report.plain('  * %s: %s, exit: %3s, out: %s\\n'\n",
    "                % (task.uid, task.state[:4],\n",
    "                    task.exit_code, task.stdout.strip()[:35]))\n",
    "\n",
    "    # delete the sample input files\n",
    "    report.info('\\nresulting data files:\\n\\n')\n",
    "    os.system('COLUMNS=80 ls -w 80 output_*.dat 2>/dev/null')\n",
    "    os.system('rm output_*.dat')\n",
    "    os.system('rm input.dat')\n",
    "\n",
    "\n",
    "except Exception as e:\n",
    "    # Something unexpected happened in the pilot code above\n",
    "    report.error('caught Exception: %s\\n' % e)\n",
    "    raise\n",
    "\n",
    "except (KeyboardInterrupt, SystemExit):\n",
    "    # the callback called sys.exit(), and we can here catch the\n",
    "    # corresponding KeyboardInterrupt exception for shutdown.  We also catch\n",
    "    # SystemExit (which gets raised if the main threads exits for some other\n",
    "    # reason).\n",
    "    report.warn('exit requested\\n')\n",
    "\n",
    "finally:\n",
    "    # always clean up the session, no matter if we caught an exception or\n",
    "    # not.  This will kill all remaining pilots.\n",
    "    report.header('finalize')\n",
    "    session.close()\n",
    "\n",
    "report.header()\n"
   ]
  }
 ],
 "metadata": {
  "kernelspec": {
   "display_name": "Python 3 (ipykernel)",
   "language": "python",
   "name": "python3"
  },
  "language_info": {
   "codemirror_mode": {
    "name": "ipython",
    "version": 3
   },
   "file_extension": ".py",
   "mimetype": "text/x-python",
   "name": "python",
   "nbconvert_exporter": "python",
   "pygments_lexer": "ipython3",
   "version": "3.8.10"
  }
 },
 "nbformat": 4,
 "nbformat_minor": 5
}
