{
 "cells": [
  {
   "cell_type": "markdown",
   "id": "12827dbe",
   "metadata": {},
   "source": [
    "# y. Configuration"
   ]
  },
  {
   "cell_type": "markdown",
   "id": "a83ee7ec",
   "metadata": {},
   "source": [
    "RADICAL-Pilot (RP) uses a resource configuration process to set control and management parameters for the initialization of its components and to define resource entry points.\n",
    "\n",
    "It includes:\n",
    "- Resource description\n",
    "   - Batch system\n",
    "   - Provided launch methods (e.g., `srun`, `mpirun`, etc.)\n",
    "   - Environment setup (including package manager, working directory, etc.)\n",
    "   - Entry points: batch system URL, file system URL\n",
    "- Run description\n",
    "   - Project allocation name (i.e., `account`/`project`)\n",
    "   - Job queue name on a remote machine\n",
    "   - Amount of the resources for the run (e.g., `cores`, `gpus`, `memory`) for a particular period of time `runtime`\n",
    "\n",
    "All this information is provided for the `Pilot` by a `PilotDescription` object."
   ]
  },
  {
   "cell_type": "markdown",
   "id": "85d7af85",
   "metadata": {},
   "source": [
    "## y.1. Resource description"
   ]
  },
  {
   "cell_type": "markdown",
   "id": "8822b7c0",
   "metadata": {},
   "source": [
    "Resource description (i.e., resource configuration) is represented by a record of a particular resource within a JSON file, which collects resources per facility and is named as `resource_<facility_name>.json`. Resource description label is set as `<facility_name>.<resource_name>` and is referenced in `PilotDescription` (e.g., `pd.resource=\"ornl.summit\"`)\n",
    "\n",
    "- Storage location for a pre-defined resource configurations ([GitHub repo](https://github.com/radical-cybertools/radical.pilot/tree/master/src/radical/pilot/configs))\n",
    "   - `<ve>/lib/python<py_ver>/site-packages/radical/pilot/configs/`\n",
    "- Storage location for user-defined resource configurations\n",
    "   - `$HOME/.radical/pilot/configs/` (pre-set `$RADICAL_CONFIG_USER_DIR` will reset a base directory for user configs)\n",
    "\n"
   ]
  },
  {
   "cell_type": "markdown",
   "id": "2348e205",
   "metadata": {},
   "source": [
    "## y.2. Run description"
   ]
  },
  {
   "cell_type": "markdown",
   "id": "46cdec44",
   "metadata": {},
   "source": [
    "### y.2.1. Resource allocation parameters"
   ]
  },
  {
   "cell_type": "markdown",
   "id": "00819e7c",
   "metadata": {},
   "source": [
    "### y.2.2. Resource access schema"
   ]
  },
  {
   "cell_type": "markdown",
   "id": "f29409e9",
   "metadata": {},
   "source": [
    "Resource access schema (`access_schema`) - provided as part of the resource description, and in case of more than one access schemas user can set a specific one in `PilotDescription`\n",
    "   - `local` - run RP application on the resource machine\n",
    "   - `ssh` - run RP application outside of the resource machine and use `ssh` protocol and corresponding SSH client to access the resource remotely\n",
    "   - `gsissh` - run RP application outside of the resource machine and use GSI-enabled SSH to access the resource remotely\n",
    "      - It adds support for GSI authentication and credential forwarding, providing a single sign-on remote login and file transfer service (for details please follow the [link](http://grid.ncsa.illinois.edu/ssh/))\n",
    "      - For example, XSEDE resources require using `gsissh` instead of `ssh`. Once the gsissh and myproxy are successfully installed, one need to acquire a X509 certificate\n",
    "      - ```bash\n",
    "   \n",
    "      export MYPROXY_SERVER_PORT=7512\n",
    "      export MYPROXY_SERVER=myproxy.xsede.org\n",
    "      myproxy-logon -l <user_name> -T -b -t 1000\n",
    "      [Enter MyProxy pass phrase]\n",
    "      [you should receive a credential in /tmp/x509up_u1000]\n",
    "      gsissh -p 2222 login1.stampede2.tacc.utexas.edu\n",
    "      ```"
   ]
  },
  {
   "cell_type": "markdown",
   "id": "4dcf9c83",
   "metadata": {},
   "source": [
    "**...TBD...**"
   ]
  },
  {
   "cell_type": "code",
   "execution_count": null,
   "id": "886e02f2",
   "metadata": {},
   "outputs": [],
   "source": []
  }
 ],
 "metadata": {
  "kernelspec": {
   "display_name": "Python 3 (ipykernel)",
   "language": "python",
   "name": "python3"
  },
  "language_info": {
   "codemirror_mode": {
    "name": "ipython",
    "version": 3
   },
   "file_extension": ".py",
   "mimetype": "text/x-python",
   "name": "python",
   "nbconvert_exporter": "python",
   "pygments_lexer": "ipython3",
   "version": "3.7.10"
  }
 },
 "nbformat": 4,
 "nbformat_minor": 5
}
