{
 "cells": [
  {
   "cell_type": "markdown",
   "id": "67521807",
   "metadata": {},
   "source": [
    "## Getting Started"
   ]
  },
  {
   "attachments": {},
   "cell_type": "markdown",
   "id": "a2c32715",
   "metadata": {},
   "source": [
    "This notebook walks you through executing a `hello_world` application written with RADICAL-Pilot and executed on a GNU/Linux operating system. The application consists of a Bag of Tasks with heterogeneous requirements: different number of CPU cores and different execution time for each task. In this simple application, tasks have no data requirements but see [data staging]() for how to manage data requirements in RP."
   ]
  },
  {
   "cell_type": "markdown",
   "id": "1f4b55ef",
   "metadata": {},
   "source": [
    "### Activate your environment"
   ]
  },
  {
   "cell_type": "markdown",
   "id": "c4edd08b",
   "metadata": {},
   "source": [
    "```shell\n",
    "source ~/.virtualenvs/radical-pilot-env/bin/activate\n",
    "```"
   ]
  },
  {
   "cell_type": "markdown",
   "id": "20b57ec1",
   "metadata": {},
   "source": [
    "### Check the versions"
   ]
  },
  {
   "cell_type": "markdown",
   "id": "10feaefa",
   "metadata": {},
   "source": [
    "`!radical-stack`\n",
    "\n",
    "```\n",
    "  python               : /home/workstation/.local/share/virtualenvs/radical-pilot-env/bin/python3\n",
    "  pythonpath           : \n",
    "  version              : 3.6.15\n",
    "  virtualenv           : /home/workstation/.local/share/virtualenvs/radical-pilot-env\n",
    "\n",
    "  radical.gtod         : 1.6.7\n",
    "  radical.pilot        : 1.13.0-v1.13.0-161-gef63995ca@feature-issue_1578\n",
    "  radical.saga         : 1.13.0\n",
    "  radical.utils        : 1.13.0\n",
    "```"
   ]
  },
  {
   "cell_type": "markdown",
   "id": "d4c2915b",
   "metadata": {},
   "source": [
    "Loading the environment variables from .env file. To read on how to setup .env for RP see this. `RADICAL_PILOT_DBURL` is required in .env file for RP to work."
   ]
  },
  {
   "cell_type": "code",
   "execution_count": null,
   "id": "f9f1ff4e",
   "metadata": {},
   "outputs": [],
   "source": [
    "%load_ext dotenv\n",
    "%dotenv ../../../.env\n"
   ]
  },
  {
   "cell_type": "code",
   "execution_count": null,
   "id": "c8b8387d",
   "metadata": {},
   "outputs": [],
   "source": [
    "import os\n",
    "import sys\n",
    "\n",
    "import radical.pilot as rp\n",
    "import radical.utils as ru\n"
   ]
  },
  {
   "cell_type": "markdown",
   "id": "97ab1560",
   "metadata": {},
   "source": [
    "\n",
    "### Reporter for a better visualization\n",
    "All code examples of this guide use the reporter facility of RADICAL-Utils to print well formatted runtime and progress information. You can control that output with the `RADICAL_PILOT_REPORT` variable, which can be set to TRUE or FALSE to enable / disable reporter output. We assume the setting to be TRUE when referencing any output in this chapter."
   ]
  },
  {
   "cell_type": "code",
   "execution_count": null,
   "id": "7e4566d0",
   "metadata": {},
   "outputs": [],
   "source": [
    "report = ru.Reporter(name='radical.pilot')\n",
    "report.title('Getting Started (RP version %s)' % rp.version)"
   ]
  },
  {
   "cell_type": "markdown",
   "id": "51c58bcd",
   "metadata": {},
   "source": [
    "### Setting up the session\n",
    "Create a new session as it is the root object for all other objects in RADICAL-Pilot.\n",
    "A radical.pilot.Session is the root object for all other objects in RADICAL-Pilot. radical.pilot.PilotManager and radical.pilot.TaskManager instances are always attached to a Session, and their lifetime is controlled by the session."
   ]
  },
  {
   "cell_type": "code",
   "execution_count": null,
   "id": "0a2c8f8a",
   "metadata": {},
   "outputs": [],
   "source": [
    "session = rp.Session()\n"
   ]
  },
  {
   "cell_type": "code",
   "execution_count": null,
   "id": "f6447a38",
   "metadata": {},
   "outputs": [],
   "source": [
    "pmgr = rp.PilotManager(session=session)\n",
    "tmgr = rp.TaskManager(session=session)"
   ]
  },
  {
   "cell_type": "markdown",
   "id": "b36f1a88",
   "metadata": {},
   "source": [
    "### Resource configuration\n",
    "\n",
    "RP supports 2 levels of resource configuration (**pilot** level and **task** level).\n",
    "\n",
    "### Pilot level resource specification\n",
    "\n",
    "we first specify how many cores and gpus the pilot requires via pilot description:"
   ]
  },
  {
   "cell_type": "code",
   "execution_count": null,
   "id": "af23b817",
   "metadata": {},
   "outputs": [],
   "source": [
    "resource = 'local.localhost'\n",
    "#TODO\n",
    "# config = ru.read_json('%s/config.json'\n",
    "#                             % os.path.dirname(__file__)).get(resource, {})\n",
    "\n",
    "pd_init = {'resource'      : 'local.localhost',\n",
    "                   'runtime'       : 30,  # pilot runtime (min)\n",
    "                   'exit_on_error' : True,\n",
    "                   'project'       : None,\n",
    "                   'queue'         : None,\n",
    "                   'cores'         : 1,\n",
    "                   'gpus'          : 0\n",
    "                  }\n",
    "pdesc = rp.PilotDescription(pd_init)\n",
    "\n",
    "# pdesc.resource       = 'local.localhost'\n",
    "# pdesc.runtime        = 30  # pilot runtime (min)\n",
    "# pdesc.exit_on_error  = True\n",
    "# pdesc.cores          = 4\n",
    "# pdesc.gpus           = 1"
   ]
  },
  {
   "cell_type": "markdown",
   "id": "6cf8aca1",
   "metadata": {},
   "source": [
    "### Setting up the Pilots\n",
    "\n",
    "Pilots are created via a radical.pilot.PilotManager, by passing a radical.pilot.PilotDescription. The most important elements of the PilotDescription are:\n",
    "\n",
    "resource: a label which specifies the target resource, either local or remote, on which to run the pilot, i.e., the machine on which the pilot executes;\n",
    "cores : the number of CPU cores the pilot is expected to manage, i.e., the size of the pilot;\n",
    "runtime : the numbers of minutes the pilot is expected to be active, i.e., the runtime of the pilot.\n",
    "\n",
    "Now we created the pilot, let's Launch it."
   ]
  },
  {
   "cell_type": "code",
   "execution_count": null,
   "id": "929decb5",
   "metadata": {},
   "outputs": [],
   "source": [
    "pilot = pmgr.submit_pilots(pdesc)"
   ]
  },
  {
   "cell_type": "markdown",
   "id": "8f372963",
   "metadata": {},
   "source": [
    "It is required to register the pilot in a TaskManager object once the it is launced,"
   ]
  },
  {
   "cell_type": "code",
   "execution_count": null,
   "id": "14258706",
   "metadata": {},
   "outputs": [],
   "source": [
    "tmgr.add_pilots(pilot)"
   ]
  },
  {
   "cell_type": "markdown",
   "id": "1ce411cb",
   "metadata": {},
   "source": [
    "### Task level resource specification\n",
    "\n",
    "For a more fine grained resource specification, RP allows to specify how many cores, threads per cpus and gpus the task requires via task description:"
   ]
  },
  {
   "cell_type": "code",
   "execution_count": null,
   "id": "1ba782cd",
   "metadata": {},
   "outputs": [],
   "source": [
    "def shell_task():\n",
    "    t = rp.TaskDescription()\n",
    "    t.stage_on_error = True\n",
    "    t.executable     = '/bin/date'\n",
    "    t.cpu_processes  = 1\n",
    "    t.cpu_threads    = 2\n",
    "    t.gpu_processes  = 1\n",
    "    t_gpu_threads    = 1\n",
    "    return t"
   ]
  },
  {
   "cell_type": "code",
   "execution_count": null,
   "id": "8f142b5e",
   "metadata": {},
   "outputs": [],
   "source": [
    "bot = list() # Bag of tasks to append the launced tasks to it\n",
    "for i in range(0, 10):\n",
    "    task = shell_task()\n",
    "    bot.append(task)\n",
    "    report.progress()\n",
    "\n",
    "report.progress_done()"
   ]
  },
  {
   "cell_type": "markdown",
   "id": "3232b969",
   "metadata": {},
   "source": [
    "Submit the previously created task descriptions to the PilotManager. This will trigger the selected scheduler to start\n",
    "assigning tasks to the pilots."
   ]
  },
  {
   "cell_type": "code",
   "execution_count": null,
   "id": "048a5479",
   "metadata": {},
   "outputs": [],
   "source": [
    "tmgr.submit_tasks(bot)"
   ]
  },
  {
   "cell_type": "markdown",
   "id": "03112275",
   "metadata": {},
   "source": [
    "Now Wait for all tasks to reach a final state (**DONE**, **CANCELED** or **FAILED**)."
   ]
  },
  {
   "cell_type": "code",
   "execution_count": null,
   "id": "5f2ea29b",
   "metadata": {},
   "outputs": [],
   "source": [
    "tmgr.wait_tasks()"
   ]
  },
  {
   "cell_type": "markdown",
   "id": "d3d04630",
   "metadata": {},
   "source": [
    "Once the wait is finished, clean up the session"
   ]
  },
  {
   "cell_type": "code",
   "execution_count": null,
   "id": "9c914fc2",
   "metadata": {
    "pycharm": {
     "name": "#%%\n"
    }
   },
   "outputs": [],
   "source": [
    "report.header('finalize')\n",
    "session.close(cleanup=True)"
   ]
  }
 ],
 "metadata": {
  "kernelspec": {
   "display_name": "Python 3 (ipykernel)",
   "language": "python",
   "name": "python3"
  },
  "language_info": {
   "codemirror_mode": {
    "name": "ipython",
    "version": 3
   },
   "file_extension": ".py",
   "mimetype": "text/x-python",
   "name": "python",
   "nbconvert_exporter": "python",
   "pygments_lexer": "ipython3",
   "version": "3.6.15"
  }
 },
 "nbformat": 4,
 "nbformat_minor": 5
}
