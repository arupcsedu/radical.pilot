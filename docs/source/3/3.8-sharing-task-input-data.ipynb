{
 "cells": [
  {
   "cell_type": "markdown",
   "id": "e927904a",
   "metadata": {},
   "source": [
    "### Sharing Task Input Data"
   ]
  },
  {
   "cell_type": "markdown",
   "id": "8cc07ac0",
   "metadata": {},
   "source": [
    "RP supports the concurrent execution of many tasks and, often, these tasks share some or all their input data, i.e., files. We have seen earlier that input staging can incur a significant runtime overhead. Such an overhead can be significantly reduced by avoiding redundant file staging operations.\n",
    "\n",
    "Each RP pilot manages a shared data space where to store tasks’ input files. First, RP can stage input files into the shared data space of a pilot. Second, that pilot can create symbolic links (symlinks) in the work directory of each task to any file in the shared data space. In this way, set of tasks can access the same file, avoiding costly staging and replicating operations."
   ]
  },
  {
   "cell_type": "markdown",
   "id": "d91992a9",
   "metadata": {},
   "source": [
    "Stage shared data from `pwd` to the pilot's shared data space"
   ]
  },
  {
   "cell_type": "markdown",
   "id": "6c40fc9c",
   "metadata": {},
   "source": [
    "```python\n",
    "pilot.stage_in({'source': 'file://%s/input.dat' % os.getcwd(),\n",
    "                'target': 'staging:///input.dat',\n",
    "                'action': rp.TRANSFER})\n",
    "```"
   ]
  },
  {
   "cell_type": "markdown",
   "id": "0c5f6400",
   "metadata": {},
   "source": [
    "Create a symlink in the work directory of each task to the file <i>input.dat</i>"
   ]
  },
  {
   "cell_type": "markdown",
   "id": "ad4c54bc",
   "metadata": {},
   "source": [
    "```python \n",
    "for i in range(0, n):\n",
    "    cud = rp.TaskDescription()\n",
    "\n",
    "    cud.executable     = '/usr/bin/wc'\n",
    "    cud.arguments      = ['-c', 'input.dat']\n",
    "    cud.input_staging  = {'source': 'staging:///input.dat',\n",
    "                          'target': 'input.dat',\n",
    "                          'action': rp.LINK}\n",
    "```"
   ]
  },
  {
   "cell_type": "markdown",
   "id": "d4b33a14",
   "metadata": {},
   "source": [
    "The rp.LINK staging action creates a symlink, avoiding the copy operation used by the rp.TRANSFER action.\n",
    "\n",
    "<b>Note:</b> Unlike other methods in RP, the pilot.stage_in method is synchronous, i.e., it only returns once the transfer is completed. This may change in a future version of RP."
   ]
  },
  {
   "cell_type": "markdown",
   "id": "4a00e07e",
   "metadata": {},
   "source": [
    "<h2>Running the Example</h2>"
   ]
  },
  {
   "cell_type": "markdown",
   "id": "3dcf7e67",
   "metadata": {},
   "source": [
    "The output of the below example is the same as <b>section 3.6</b>, but the script should run significantly faster due to the removed staging redundancy, especially for non-local pilots."
   ]
  },
  {
   "cell_type": "code",
   "execution_count": null,
   "id": "aa5a18ef",
   "metadata": {},
   "outputs": [],
   "source": [
    "from dotenv import load_dotenv\n",
    "load_dotenv()\n"
   ]
  },
  {
   "cell_type": "markdown",
   "id": "faccf2f8",
   "metadata": {},
   "source": [
    "We start by importing the radical.pilot module and initializing the reporter facility used for printing well formatted runtime and progress information."
   ]
  },
  {
   "cell_type": "code",
   "execution_count": null,
   "id": "35442353",
   "metadata": {},
   "outputs": [],
   "source": [
    "import os\n",
    "import sys\n",
    "\n",
    "verbose  = os.environ.get('RADICAL_PILOT_VERBOSE', 'REPORT')\n",
    "os.environ['RADICAL_PILOT_VERBOSE'] = verbose\n",
    "\n",
    "import radical.pilot as rp\n",
    "import radical.utils as ru\n",
    "\n",
    "report = ru.Reporter(name='radical.pilot')\n",
    "report.title('Getting Started (RP version %s)' % rp.version)"
   ]
  },
  {
   "cell_type": "markdown",
   "id": "b98d5a2f",
   "metadata": {},
   "source": [
    "We will now import the dotenv module for fetching our environment variables. To create a new Session, you need to provide the URL of a MongoDB server which we will fetch from our .env file.\n",
    "\n",
    "We will set the resource value to 'local.localhost'. Using a resource key other than local.localhost implicitly tells RADICAL-Pilot that it is targeting a remote resource."
   ]
  },
  {
   "cell_type": "code",
   "execution_count": null,
   "id": "330b6deb",
   "metadata": {},
   "outputs": [],
   "source": [
    "RADICAL_PILOT_DBURL = os.getenv(\"RADICAL_PILOT_DBURL\")\n",
    "os.environ['RADICAL_PILOT_DBURL'] = RADICAL_PILOT_DBURL\n",
    "resource = 'local.localhost'\n",
    "session = rp.Session()"
   ]
  },
  {
   "cell_type": "markdown",
   "id": "276c4a76",
   "metadata": {},
   "source": [
    "In the <i>create_pilot_description</i> function, we create a dictionary to initialize the pilot description object."
   ]
  },
  {
   "cell_type": "code",
   "execution_count": null,
   "id": "e80e6d66",
   "metadata": {},
   "outputs": [],
   "source": [
    "def create_pilot_description(resources):\n",
    "    report.info('read config')\n",
    "    config = ru.read_json('../config.json')\n",
    "    report.ok('>>ok\\n')\n",
    "\n",
    "    report.header('submit pilots')\n",
    "\n",
    "    pmgr = rp.PilotManager(session=session)\n",
    "\n",
    "    pd_init = {\n",
    "               'resource'      : resource,\n",
    "               'runtime'       : 15,\n",
    "               'exit_on_error' : True,\n",
    "               'project'       : config[resource].get('project', None),\n",
    "               'queue'         : config[resource].get('queue', None),\n",
    "               'access_schema' : config[resource].get('schema', None),\n",
    "               'cores'         : config[resource].get('cores', 1),\n",
    "               'gpus'          : config[resource].get('gpus', 0),\n",
    "              }\n",
    "    pdesc = rp.PilotDescription(pd_init)\n",
    "    return pdesc\n"
   ]
  },
  {
   "cell_type": "markdown",
   "id": "a2154a81",
   "metadata": {},
   "source": [
    "<i>launch_pilots</i> adds a PilotManager for managing one or more pilots."
   ]
  },
  {
   "cell_type": "code",
   "execution_count": null,
   "id": "d1145abf",
   "metadata": {},
   "outputs": [],
   "source": [
    "def launch_pilots(session,pdesc):\n",
    "    pmgr = rp.PilotManager(session=session)\n",
    "    pilots = pmgr.submit_pilots(pdesc)\n",
    "    return pilots    "
   ]
  },
  {
   "cell_type": "markdown",
   "id": "53d5e6e7",
   "metadata": {},
   "source": [
    "Create a workload of char-counting a simple file.  We first create the file right here, and stage it to the pilot 'shared_data' space. We then synchronously stage the data to the pilot\n"
   ]
  },
  {
   "cell_type": "code",
   "execution_count": null,
   "id": "b72178b7",
   "metadata": {},
   "outputs": [],
   "source": [
    "def create_and_stage_input_data():\n",
    "    os.system('hostname >  input.dat')\n",
    "    os.system('date     >> input.dat')\n",
    "\n",
    "    report.info('stage in shared data')\n",
    "    pilot.stage_in({'source': 'client:///input.dat',\n",
    "                    'target': 'pilot:///input.dat',\n",
    "                    'action': rp.TRANSFER})\n",
    "    report.ok('>>ok\\n')\n"
   ]
  },
  {
   "cell_type": "markdown",
   "id": "50e174bc",
   "metadata": {},
   "source": [
    "In the <i>submit_tasks</i> function, we first register the pilot in a TaskManager object. \n",
    "\n",
    "After this we initialize the number of tasks(n=128) and create a new Task description. We submit the previously created Task descriptions to the PilotManager. This will trigger the selected scheduler to start assigning Tasks to the Pilots.\n",
    "\n",
    "We will use ```tmgr.wait_tasks()```to wait for all tasks to reach a final (DONE, CANCELED or FAILED)."
   ]
  },
  {
   "cell_type": "code",
   "execution_count": null,
   "id": "2a4de673",
   "metadata": {},
   "outputs": [],
   "source": [
    "def submit_tasks(pilots):\n",
    "    report.header('submit tasks')\n",
    "\n",
    "    tmgr = rp.TaskManager(session=session)\n",
    "    tmgr.add_pilots(pilot)\n",
    "\n",
    "    n = 128  \n",
    "    report.info('create %d task description(s)\\n\\t' % n)\n",
    "\n",
    "    tds = list()\n",
    "    outs = list()\n",
    "    for i in range(0, n):\n",
    "        td = rp.TaskDescription()\n",
    "        td.executable     = '/bin/cat'\n",
    "        td.arguments      = ['input.dat']\n",
    "        td.stdout         = 'STDOUT'\n",
    "        td.input_staging  = {'source': 'pilot:///input.dat',\n",
    "                             'target': 'task:///input.dat',\n",
    "                             'action': rp.LINK}\n",
    "        td.output_staging = {'source': 'task:///STDOUT',\n",
    "                             'target': 'pilot:///STDOUT.%06d' % i,\n",
    "                             'action': rp.COPY}\n",
    "        outs.append('STDOUT.%06d' % i)\n",
    "        tds.append(td)\n",
    "        report.progress()\n",
    "    report.ok('>>ok\\n')\n",
    "\n",
    "    tasks = tmgr.submit_tasks(tds)\n",
    "    report.header('gather results')\n",
    "    tmgr.wait_tasks()\n",
    "    return tasks\n",
    "    "
   ]
  },
  {
   "cell_type": "markdown",
   "id": "99469f24",
   "metadata": {},
   "source": [
    "We create the <i>report_task_progress</i> function to report the task status of each task"
   ]
  },
  {
   "cell_type": "code",
   "execution_count": 1,
   "id": "e7d0770f",
   "metadata": {},
   "outputs": [],
   "source": [
    "def report_task_progress(tasks):\n",
    "    report.info('\\n')\n",
    "    for task in tasks:\n",
    "        report.plain('  * %s: %s, exit: %3s, out: %s\\n'\n",
    "                % (task.uid, task.state[:4],\n",
    "                    task.exit_code, task.stdout.strip()[:35]))\n",
    "\n",
    "    os.system('rm input.dat')\n",
    "    \n",
    "    report.info('stage out shared data')\n",
    "    pilot.stage_out([{'source': 'pilot:///%s'  % fname,\n",
    "                      'target': 'client:///%s' % fname,\n",
    "                      'action': rp.TRANSFER} for fname in outs])\n",
    "    report.ok('>>ok\\n')"
   ]
  },
  {
   "cell_type": "markdown",
   "id": "a26acac2",
   "metadata": {},
   "source": [
    "We put all function calls inside a try except block.  Finally, always clean up the session no matter if we caught an exception or not. This will kill all the remaining pilots."
   ]
  },
  {
   "cell_type": "code",
   "execution_count": null,
   "id": "cef4e739",
   "metadata": {},
   "outputs": [],
   "source": [
    "try:\n",
    "    pdesc = create_pilot_description(resources)\n",
    "    pilots = launch_pilots(session,pdesc)\n",
    "    tasks = submit_tasks(pilots)\n",
    "    report_task_progress(tasks)\n",
    "except Exception as e:\n",
    "    report.error('caught Exception: %s\\n' % e)\n",
    "    raise\n",
    "except (KeyboardInterrupt, SystemExit):\n",
    "    report.warn('exit requested\\n')\n",
    "finally:\n",
    "    report.header('finalize')\n",
    "    session.close()\n",
    "report.header()"
   ]
  }
 ],
 "metadata": {
  "kernelspec": {
   "display_name": "Python 3 (ipykernel)",
   "language": "python",
   "name": "python3"
  },
  "language_info": {
   "codemirror_mode": {
    "name": "ipython",
    "version": 3
   },
   "file_extension": ".py",
   "mimetype": "text/x-python",
   "name": "python",
   "nbconvert_exporter": "python",
   "pygments_lexer": "ipython3",
   "version": "3.8.10"
  }
 },
 "nbformat": 4,
 "nbformat_minor": 5
}
