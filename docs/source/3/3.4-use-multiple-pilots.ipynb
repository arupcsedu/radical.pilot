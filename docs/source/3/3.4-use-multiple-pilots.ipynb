{
 "cells": [
  {
   "cell_type": "markdown",
   "id": "e3994926",
   "metadata": {},
   "source": [
    "<h1>3.4. Use Multiple Pilots</h1>"
   ]
  },
  {
   "cell_type": "markdown",
   "id": "0cf92074",
   "metadata": {},
   "source": [
    "We have seen in the previous examples how an RP pilot acts as a container for multiple task executions. There is in principle no limit on how many of those pilots are used to execute a specific workload, and specifically, pilots don’t need to run on the same resource!\n",
    "\n",
    "The below example demonstrates that. Instead of creating one pilot description, we here create one for any resource specified as command line parameter, no matter if those parameters point to the same resource targets or not.\n",
    "The tasks are distributed over the created set of pilots according to some scheduling mechanism – section Selecting a Task Scheduler will discuss how an application can choose between different scheduling policies. The default policy used here is Round Robin."
   ]
  },
  {
   "cell_type": "markdown",
   "id": "760a247a",
   "metadata": {},
   "source": [
    "<h2>3.4.1. Running the Example</h2>"
   ]
  },
  {
   "cell_type": "markdown",
   "id": "6d5d97c8",
   "metadata": {},
   "source": [
    "We start by importing the radical.pilot module and initializing the reporter facility used for printing well formatted runtime and progress information."
   ]
  },
  {
   "cell_type": "code",
   "execution_count": null,
   "id": "942ca738",
   "metadata": {},
   "outputs": [],
   "source": [
    "%load_ext dotenv\n",
    "%dotenv ../../../.env"
   ]
  },
  {
   "cell_type": "code",
   "execution_count": null,
   "id": "775a064a",
   "metadata": {},
   "outputs": [],
   "source": [
    "import os\n",
    "import sys\n",
    "\n",
    "verbose  = os.environ.get('RADICAL_PILOT_VERBOSE', 'REPORT')\n",
    "os.environ['RADICAL_PILOT_VERBOSE'] = verbose\n",
    "\n",
    "import radical.pilot as rp\n",
    "import radical.utils as ru\n",
    "\n",
    "report = ru.Reporter(name='radical.pilot')\n",
    "report.title('Getting Started (RP version %s)' % rp.version)"
   ]
  },
  {
   "cell_type": "markdown",
   "id": "9f59c430",
   "metadata": {},
   "source": [
    "We will now import the dotenv module for fetching our environment variables. To create a new Session, you need to provide the URL of a MongoDB server which we will fetch from our .env file.\n",
    "\n",
    "Another point to be noted is that in this example, we exemplarily start a pilot on local.localhost, and one on xsede.stampede:"
   ]
  },
  {
   "cell_type": "code",
   "execution_count": null,
   "id": "e233a38c",
   "metadata": {},
   "outputs": [],
   "source": [
    "from dotenv import load_dotenv\n",
    "load_dotenv()\n",
    "\n",
    "sys.argv.append('local.localhost')\n",
    "sys.argv.append('xsede.stampede')\n",
    "\n",
    "if len(sys.argv) >= 2  : resources = sys.argv[1:]\n",
    "else                   : resources = ['local.localhost']\n",
    "session = rp.Session()\n",
    "# TODO \n",
    "resources = ['local.localhost','local.localhost']"
   ]
  },
  {
   "cell_type": "markdown",
   "id": "ee743c00",
   "metadata": {},
   "source": [
    "All other pilot code is now tried/excepted. If an exception is caught, we can rely on the session object to exist and be valid, and we can thus tear the whole RP stack down via a <i>'session.close()'</i> call in the <i>'finally'</i> clause."
   ]
  },
  {
   "cell_type": "code",
   "execution_count": null,
   "id": "a88673af",
   "metadata": {},
   "outputs": [],
   "source": [
    "def initialize_desc_object(resources):\n",
    "    print(resources)\n",
    "    report.info('read config')\n",
    "    config = ru.read_json('../config.json')\n",
    "    report.ok('>>ok\\n')\n",
    "    report.header('submit pilots')\n",
    "    pdescs = list()\n",
    "    for resource in resources:\n",
    "        pd_init = {\n",
    "                   'resource'      : resource,\n",
    "                   'runtime'       : 15,  # pilot runtime (min)\n",
    "                   'exit_on_error' : True,\n",
    "                   'project'       : config[resource].get('project', None),\n",
    "                   'queue'         : config[resource].get('queue', None),\n",
    "                   'access_schema' : config[resource].get('schema', None),\n",
    "                   'cores'         : config[resource].get('cores', 1),\n",
    "                   'gpus'          : config[resource].get('gpus', 0),\n",
    "                  }\n",
    "        pdescs.append(rp.PilotDescription(pd_init))\n",
    "    return pdescs"
   ]
  },
  {
   "cell_type": "code",
   "execution_count": null,
   "id": "17eeb1ab",
   "metadata": {},
   "outputs": [],
   "source": [
    "def launch_pilots(session,pdesc):\n",
    "    pmgr = rp.PilotManager(session=session)\n",
    "    pilots = pmgr.submit_pilots(pdesc)\n",
    "    return pilots    "
   ]
  },
  {
   "cell_type": "markdown",
   "id": "1f72fb2c",
   "metadata": {},
   "source": [
    "In the <i>submit_tasks</i> function, we first register the pilot in a TaskManager object. We then create a workload of tasks. Each task reports the id of the pilot it runs on. After this we initialize the number of tasks(n=128) and create a new Task description."
   ]
  },
  {
   "cell_type": "code",
   "execution_count": null,
   "id": "f98fa948",
   "metadata": {},
   "outputs": [],
   "source": [
    "def submit_tasks(pilots):\n",
    "    tasks = None\n",
    "    for gen in range(1):\n",
    "        report.header('submit tasks [%d]' % gen)\n",
    "        tmgr = rp.TaskManager(session=session)\n",
    "        tmgr.add_pilots(pilots)\n",
    "        \n",
    "        n = 10 \n",
    "        report.info('create %d task description(s)\\n\\t' % n)\n",
    "\n",
    "        tds = list()\n",
    "        for i in range(0, n):\n",
    "            td = rp.TaskDescription()\n",
    "            td.executable = '/bin/echo'\n",
    "            td.arguments  = ['$RP_PILOT_ID']\n",
    "\n",
    "            tds.append(td)\n",
    "            report.progress()\n",
    "        report.ok('>>ok\\n')\n",
    "        tasks = tmgr.submit_tasks(tds)\n",
    "        report.header('gather results')\n",
    "        tmgr.wait_tasks()\n",
    "\n",
    "    report.info('\\n')\n",
    "    return tasks\n",
    "    \n",
    "    "
   ]
  },
  {
   "cell_type": "markdown",
   "id": "62619a44",
   "metadata": {},
   "source": [
    "We create the report_task_progress function to report the task status of each task"
   ]
  },
  {
   "cell_type": "code",
   "execution_count": null,
   "id": "d8d90bd4",
   "metadata": {},
   "outputs": [],
   "source": [
    "def report_task_progress(tasks):\n",
    "    counts = dict()\n",
    "    for task in tasks:\n",
    "        out_str = task.stdout.strip()[:35]\n",
    "        report.plain('  * %s: %s, exit: %3s, out: %s\\n'\n",
    "                % (task.uid, task.state[:4],\n",
    "                    task.exit_code, out_str))\n",
    "        if out_str not in counts:\n",
    "            counts[out_str] = 0\n",
    "        counts[out_str] += 1\n",
    "\n",
    "    report.info(\"\\n\")\n",
    "    for out_str in counts:\n",
    "        report.info(\"  * %-20s: %3d\\n\" % (out_str, counts[out_str]))\n",
    "    report.info(\"  * %-20s: %3d\\n\" % ('total', sum(counts.values())))\n"
   ]
  },
  {
   "cell_type": "markdown",
   "id": "be88921c",
   "metadata": {},
   "source": [
    "We put all function calls inside a try except block. Finally, always clean up the session no matter if we caught an exception or not. This will kill all the remaining pilots."
   ]
  },
  {
   "cell_type": "code",
   "execution_count": null,
   "id": "cb138698",
   "metadata": {},
   "outputs": [],
   "source": [
    "try:\n",
    "    pdesc = initialize_desc_object(resources)\n",
    "    pilots = launch_pilots(session,pdesc)\n",
    "    tasks = submit_tasks(pilots)\n",
    "    report_task_progress(tasks)\n",
    "except Exception as e:\n",
    "    report.error('caught Exception: %s\\n' % e)\n",
    "    raise\n",
    "\n",
    "except (KeyboardInterrupt, SystemExit):\n",
    "    report.warn('exit requested\\n')\n",
    "\n",
    "finally:\n",
    "    report.header('finalize')\n",
    "    session.close(cleanup=False)\n",
    "\n",
    "report.header()"
   ]
  }
 ],
 "metadata": {
  "kernelspec": {
   "display_name": "Python 3 (ipykernel)",
   "language": "python",
   "name": "python3"
  },
  "language_info": {
   "codemirror_mode": {
    "name": "ipython",
    "version": 3
   },
   "file_extension": ".py",
   "mimetype": "text/x-python",
   "name": "python",
   "nbconvert_exporter": "python",
   "pygments_lexer": "ipython3",
   "version": "3.6.15"
  }
 },
 "nbformat": 4,
 "nbformat_minor": 5
}
