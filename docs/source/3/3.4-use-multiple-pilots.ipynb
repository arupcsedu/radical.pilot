{
 "cells": [
  {
   "cell_type": "markdown",
   "id": "e3994926",
   "metadata": {},
   "source": [
    "<h1>3.4. Use Multiple Pilots</h1>"
   ]
  },
  {
   "cell_type": "markdown",
   "id": "0cf92074",
   "metadata": {},
   "source": [
    "We have seen in the previous examples how an RP pilot acts as a container for multiple task executions. There is in principle no limit on how many of those pilots are used to execute a specific workload, and specifically, pilots don’t need to run on the same resource!\n",
    "\n",
    "The below example demonstrates that. Instead of creating one pilot description, we here create one for any resource specified as command line parameter, no matter if those parameters point to the same resource targets or not.\n",
    "The tasks are distributed over the created set of pilots according to some scheduling mechanism – section Selecting a Task Scheduler will discuss how an application can choose between different scheduling policies. The default policy used here is Round Robin."
   ]
  },
  {
   "cell_type": "markdown",
   "id": "760a247a",
   "metadata": {},
   "source": [
    "<h2>3.4.1. Running the Example</h2>"
   ]
  },
  {
   "cell_type": "markdown",
   "id": "6d5d97c8",
   "metadata": {},
   "source": [
    "We start by importing the radical.pilot module and initializing the reporter facility used for printing well formatted runtime and progress information."
   ]
  },
  {
   "cell_type": "code",
   "execution_count": 1,
   "id": "afd0631f",
   "metadata": {},
   "outputs": [],
   "source": [
    "%load_ext dotenv\n",
    "%dotenv ../../../.env"
   ]
  },
  {
   "cell_type": "code",
   "execution_count": 2,
   "id": "775a064a",
   "metadata": {},
   "outputs": [
    {
     "name": "stderr",
     "output_type": "stream",
     "text": [
      "\u001b[94m\u001b[1m\n",
      "\u001b[39m\u001b[0m\u001b[94m\u001b[1m================================================================================\n",
      "\u001b[39m\u001b[0m\u001b[94m\u001b[1m Getting Started (RP version 1.13.0)                                            \n",
      "\u001b[39m\u001b[0m\u001b[94m\u001b[1m================================================================================\n",
      "\u001b[39m\u001b[0m\u001b[94m\u001b[1m\n",
      "\u001b[39m\u001b[0m"
     ]
    }
   ],
   "source": [
    "import os\n",
    "import sys\n",
    "\n",
    "verbose  = os.environ.get('RADICAL_PILOT_VERBOSE', 'REPORT')\n",
    "os.environ['RADICAL_PILOT_VERBOSE'] = verbose\n",
    "\n",
    "import radical.pilot as rp\n",
    "import radical.utils as ru\n",
    "\n",
    "report = ru.Reporter(name='radical.pilot')\n",
    "report.title('Getting Started (RP version %s)' % rp.version)"
   ]
  },
  {
   "cell_type": "markdown",
   "id": "9f59c430",
   "metadata": {},
   "source": [
    "We will now import the dotenv module for fetching our environment variables. To create a new Session, you need to provide the URL of a MongoDB server which we will fetch from our .env file.\n",
    "\n",
    "Another point to be noted is that in this example, we exemplarily start a pilot on local.localhost, and one on xsede.stampede:"
   ]
  },
  {
   "cell_type": "code",
   "execution_count": 3,
   "id": "e233a38c",
   "metadata": {},
   "outputs": [
    {
     "name": "stderr",
     "output_type": "stream",
     "text": [
      "\u001b[94mnew session: \u001b[39m\u001b[0m[rp.session.debian-x.workstation.019093.0010]\u001b[39m\u001b[0m\u001b[94m                     \\\n",
      "database   : \u001b[39m\u001b[0m[mongodb://127.0.0.1:27017/rpdb]\u001b[39m\u001b[0m\u001b[92m                                 ok\n",
      "\u001b[39m\u001b[0m"
     ]
    }
   ],
   "source": [
    "from dotenv import load_dotenv\n",
    "load_dotenv()\n",
    "\n",
    "sys.argv.append('local.localhost')\n",
    "sys.argv.append('xsede.stampede')\n",
    "\n",
    "if len(sys.argv) >= 2  : resources = sys.argv[1:]\n",
    "else                   : resources = ['local.localhost']\n",
    "session = rp.Session()\n",
    "# TODO \n",
    "resources = ['local.localhost','local.localhost']"
   ]
  },
  {
   "cell_type": "markdown",
   "id": "ee743c00",
   "metadata": {},
   "source": [
    "All other pilot code is now tried/excepted. If an exception is caught, we can rely on the session object to exist and be valid, and we can thus tear the whole RP stack down via a <i>'session.close()'</i> call in the <i>'finally'</i> clause."
   ]
  },
  {
   "cell_type": "code",
   "execution_count": 4,
   "id": "a88673af",
   "metadata": {},
   "outputs": [],
   "source": [
    "def initialize_desc_object(resources):\n",
    "    print(resources)\n",
    "    report.info('read config')\n",
    "    config = ru.read_json('../config.json')\n",
    "    report.ok('>>ok\\n')\n",
    "    report.header('submit pilots')\n",
    "    pdescs = list()\n",
    "    for resource in resources:\n",
    "        pd_init = {\n",
    "                   'resource'      : resource,\n",
    "                   'runtime'       : 15,  # pilot runtime (min)\n",
    "                   'exit_on_error' : True,\n",
    "                   'project'       : config[resource].get('project', None),\n",
    "                   'queue'         : config[resource].get('queue', None),\n",
    "                   'access_schema' : config[resource].get('schema', None),\n",
    "                   'cores'         : config[resource].get('cores', 1),\n",
    "                   'gpus'          : config[resource].get('gpus', 0),\n",
    "                  }\n",
    "    pdescs.append(rp.PilotDescription(pd_init))\n",
    "    return pdescs"
   ]
  },
  {
   "cell_type": "code",
   "execution_count": 5,
   "id": "17eeb1ab",
   "metadata": {},
   "outputs": [],
   "source": [
    "def launch_pilots(session,pdesc):\n",
    "    pmgr = rp.PilotManager(session=session)\n",
    "    pilots = pmgr.submit_pilots(pdesc)\n",
    "    return pilots    "
   ]
  },
  {
   "cell_type": "markdown",
   "id": "1f72fb2c",
   "metadata": {},
   "source": [
    "In the <i>submit_tasks</i> function, we first register the pilot in a TaskManager object. We then create a workload of tasks. Each task reports the id of the pilot it runs on. After this we initialize the number of tasks(n=128) and create a new Task description."
   ]
  },
  {
   "cell_type": "code",
   "execution_count": 6,
   "id": "f98fa948",
   "metadata": {},
   "outputs": [],
   "source": [
    "def submit_tasks(pilots):\n",
    "    tasks = None\n",
    "    for gen in range(1):\n",
    "        report.header('submit tasks [%d]' % gen)\n",
    "        tmgr = rp.TaskManager(session=session)\n",
    "        tmgr.add_pilots(pilots)\n",
    "        \n",
    "        n = 128 \n",
    "        report.info('create %d task description(s)\\n\\t' % n)\n",
    "\n",
    "        tds = list()\n",
    "        for i in range(0, n):\n",
    "            td = rp.TaskDescription()\n",
    "            td.executable = '/bin/echo'\n",
    "            td.arguments  = ['$RP_PILOT_ID']\n",
    "\n",
    "            tds.append(td)\n",
    "            report.progress()\n",
    "        report.ok('>>ok\\n')\n",
    "        tasks = tmgr.submit_tasks(tds)\n",
    "        report.header('gather results')\n",
    "        tmgr.wait_tasks()\n",
    "\n",
    "    report.info('\\n')\n",
    "    return tasks\n",
    "    \n",
    "    "
   ]
  },
  {
   "cell_type": "markdown",
   "id": "62619a44",
   "metadata": {},
   "source": [
    "We create the report_task_progress function to report the task status of each task"
   ]
  },
  {
   "cell_type": "code",
   "execution_count": 7,
   "id": "d8d90bd4",
   "metadata": {},
   "outputs": [],
   "source": [
    "def report_task_progress(tasks):\n",
    "    counts = dict()\n",
    "    for task in tasks:\n",
    "        out_str = task.stdout.strip()[:35]\n",
    "        report.plain('  * %s: %s, exit: %3s, out: %s\\n'\n",
    "                % (task.uid, task.state[:4],\n",
    "                    task.exit_code, out_str))\n",
    "        if out_str not in counts:\n",
    "            counts[out_str] = 0\n",
    "        counts[out_str] += 1\n",
    "\n",
    "    report.info(\"\\n\")\n",
    "    for out_str in counts:\n",
    "        report.info(\"  * %-20s: %3d\\n\" % (out_str, counts[out_str]))\n",
    "    report.info(\"  * %-20s: %3d\\n\" % ('total', sum(counts.values())))\n"
   ]
  },
  {
   "cell_type": "markdown",
   "id": "be88921c",
   "metadata": {},
   "source": [
    "We put all function calls inside a try except block. Finally, always clean up the session no matter if we caught an exception or not. This will kill all the remaining pilots."
   ]
  },
  {
   "cell_type": "code",
   "execution_count": 8,
   "id": "cb138698",
   "metadata": {},
   "outputs": [
    {
     "name": "stderr",
     "output_type": "stream",
     "text": [
      "\u001b[94mread config\u001b[39m\u001b[0m\u001b[92m                                                                   ok\n",
      "\u001b[39m\u001b[0m\u001b[93m\u001b[1m\n",
      "\u001b[39m\u001b[0m\u001b[93m\u001b[1m--------------------------------------------------------------------------------\n",
      "\u001b[39m\u001b[0m\u001b[93m\u001b[1msubmit pilots                                                                   \n",
      "\u001b[39m\u001b[0m\u001b[93m\u001b[1m\n",
      "\u001b[39m\u001b[0m\u001b[94mcreate pilot manager\u001b[39m\u001b[0m"
     ]
    },
    {
     "name": "stdout",
     "output_type": "stream",
     "text": [
      "['local.localhost', 'local.localhost']\n"
     ]
    },
    {
     "name": "stderr",
     "output_type": "stream",
     "text": [
      "\u001b[92m                                                          ok\n",
      "\u001b[39m\u001b[0m\u001b[94msubmit 1 pilot(s)\u001b[39m\u001b[0m\n",
      "        pilot.0000   local.localhost           1 cores       0 gpus\u001b[39m\u001b[0m\u001b[92m           ok\n",
      "\u001b[39m\u001b[0m\u001b[93m\u001b[1m\n",
      "\u001b[39m\u001b[0m\u001b[93m\u001b[1m--------------------------------------------------------------------------------\n",
      "\u001b[39m\u001b[0m\u001b[93m\u001b[1msubmit tasks [0]                                                                \n",
      "\u001b[39m\u001b[0m\u001b[93m\u001b[1m\n",
      "\u001b[39m\u001b[0m\u001b[94mcreate task manager\u001b[39m\u001b[0m\u001b[92m                                                           ok\n",
      "\u001b[39m\u001b[0m\u001b[94mcreate 128 task description(s)\n",
      "        \u001b[39m\u001b[0m.\u001b[39m\u001b[0m.\u001b[39m\u001b[0m.\u001b[39m\u001b[0m.\u001b[39m\u001b[0m.\u001b[39m\u001b[0m.\u001b[39m\u001b[0m.\u001b[39m\u001b[0m.\u001b[39m\u001b[0m.\u001b[39m\u001b[0m.\u001b[39m\u001b[0m.\u001b[39m\u001b[0m.\u001b[39m\u001b[0m.\u001b[39m\u001b[0m.\u001b[39m\u001b[0m.\u001b[39m\u001b[0m.\u001b[39m\u001b[0m.\u001b[39m\u001b[0m.\u001b[39m\u001b[0m.\u001b[39m\u001b[0m.\u001b[39m\u001b[0m.\u001b[39m\u001b[0m.\u001b[39m\u001b[0m.\u001b[39m\u001b[0m.\u001b[39m\u001b[0m.\u001b[39m\u001b[0m.\u001b[39m\u001b[0m.\u001b[39m\u001b[0m.\u001b[39m\u001b[0m.\u001b[39m\u001b[0m.\u001b[39m\u001b[0m.\u001b[39m\u001b[0m.\u001b[39m\u001b[0m.\u001b[39m\u001b[0m.\u001b[39m\u001b[0m.\u001b[39m\u001b[0m.\u001b[39m\u001b[0m.\u001b[39m\u001b[0m.\u001b[39m\u001b[0m.\u001b[39m\u001b[0m.\u001b[39m\u001b[0m.\u001b[39m\u001b[0m.\u001b[39m\u001b[0m.\u001b[39m\u001b[0m.\u001b[39m\u001b[0m.\u001b[39m\u001b[0m.\u001b[39m\u001b[0m.\u001b[39m\u001b[0m.\u001b[39m\u001b[0m.\u001b[39m\u001b[0m.\u001b[39m\u001b[0m.\u001b[39m\u001b[0m.\u001b[39m\u001b[0m.\u001b[39m\u001b[0m.\u001b[39m\u001b[0m.\u001b[39m\u001b[0m.\u001b[39m\u001b[0m.\u001b[39m\u001b[0m.\u001b[39m\u001b[0m.\u001b[39m\u001b[0m.\u001b[39m\u001b[0m.\u001b[39m\u001b[0m.\u001b[39m\u001b[0m.\u001b[39m\u001b[0m.\u001b[39m\u001b[0m.\u001b[39m\u001b[0m.\u001b[39m\u001b[0m.\u001b[39m\u001b[0m.\u001b[39m\u001b[0m.\u001b[39m\u001b[0m.\u001b[39m\u001b[0m.\u001b[39m\u001b[0m.\u001b[39m\u001b[0m\n",
      "        .\u001b[39m\u001b[0m.\u001b[39m\u001b[0m.\u001b[39m\u001b[0m.\u001b[39m\u001b[0m.\u001b[39m\u001b[0m.\u001b[39m\u001b[0m.\u001b[39m\u001b[0m.\u001b[39m\u001b[0m.\u001b[39m\u001b[0m.\u001b[39m\u001b[0m.\u001b[39m\u001b[0m.\u001b[39m\u001b[0m.\u001b[39m\u001b[0m.\u001b[39m\u001b[0m.\u001b[39m\u001b[0m.\u001b[39m\u001b[0m.\u001b[39m\u001b[0m.\u001b[39m\u001b[0m.\u001b[39m\u001b[0m.\u001b[39m\u001b[0m.\u001b[39m\u001b[0m.\u001b[39m\u001b[0m.\u001b[39m\u001b[0m.\u001b[39m\u001b[0m.\u001b[39m\u001b[0m.\u001b[39m\u001b[0m.\u001b[39m\u001b[0m.\u001b[39m\u001b[0m.\u001b[39m\u001b[0m.\u001b[39m\u001b[0m.\u001b[39m\u001b[0m.\u001b[39m\u001b[0m.\u001b[39m\u001b[0m.\u001b[39m\u001b[0m.\u001b[39m\u001b[0m.\u001b[39m\u001b[0m.\u001b[39m\u001b[0m.\u001b[39m\u001b[0m.\u001b[39m\u001b[0m.\u001b[39m\u001b[0m.\u001b[39m\u001b[0m.\u001b[39m\u001b[0m.\u001b[39m\u001b[0m.\u001b[39m\u001b[0m.\u001b[39m\u001b[0m.\u001b[39m\u001b[0m.\u001b[39m\u001b[0m.\u001b[39m\u001b[0m.\u001b[39m\u001b[0m.\u001b[39m\u001b[0m.\u001b[39m\u001b[0m.\u001b[39m\u001b[0m.\u001b[39m\u001b[0m.\u001b[39m\u001b[0m.\u001b[39m\u001b[0m.\u001b[39m\u001b[0m\u001b[92m              ok\n",
      "\u001b[39m\u001b[0msubmit: \u001b[39m\u001b[0m#\u001b[39m\u001b[0m#\u001b[39m\u001b[0m#\u001b[39m\u001b[0m#\u001b[39m\u001b[0m#\u001b[39m\u001b[0m#\u001b[39m\u001b[0m#\u001b[39m\u001b[0m#\u001b[39m\u001b[0m#\u001b[39m\u001b[0m#\u001b[39m\u001b[0m#\u001b[39m\u001b[0m#\u001b[39m\u001b[0m#\u001b[39m\u001b[0m#\u001b[39m\u001b[0m#\u001b[39m\u001b[0m#\u001b[39m\u001b[0m#\u001b[39m\u001b[0m#\u001b[39m\u001b[0m#\u001b[39m\u001b[0m#\u001b[39m\u001b[0m#\u001b[39m\u001b[0m#\u001b[39m\u001b[0m#\u001b[39m\u001b[0m#\u001b[39m\u001b[0m#\u001b[39m\u001b[0m#\u001b[39m\u001b[0m#\u001b[39m\u001b[0m#\u001b[39m\u001b[0m#\u001b[39m\u001b[0m#\u001b[39m\u001b[0m#\u001b[39m\u001b[0m#\u001b[39m\u001b[0m#\u001b[39m\u001b[0m#\u001b[39m\u001b[0m#\u001b[39m\u001b[0m#\u001b[39m\u001b[0m#\u001b[39m\u001b[0m#\u001b[39m\u001b[0m#\u001b[39m\u001b[0m#\u001b[39m\u001b[0m#\u001b[39m\u001b[0m#\u001b[39m\u001b[0m#\u001b[39m\u001b[0m#\u001b[39m\u001b[0m#\u001b[39m\u001b[0m#\u001b[39m\u001b[0m#\u001b[39m\u001b[0m#\u001b[39m\u001b[0m#\u001b[39m\u001b[0m#\u001b[39m\u001b[0m#\u001b[39m\u001b[0m#\u001b[39m\u001b[0m#\u001b[39m\u001b[0m#\u001b[39m\u001b[0m#\u001b[39m\u001b[0m#\u001b[39m\u001b[0m#\u001b[39m\u001b[0m#\u001b[39m\u001b[0m#\u001b[39m\u001b[0m#\u001b[39m\u001b[0m#\u001b[39m\u001b[0m#\u001b[39m\u001b[0m#\u001b[39m\u001b[0m#\u001b[39m\u001b[0m#\u001b[39m\u001b[0m#\u001b[39m\u001b[0m#\u001b[39m\u001b[0m#\u001b[39m\u001b[0m#\u001b[39m\u001b[0m#\u001b[39m\u001b[0m#\u001b[39m\u001b[0m#\u001b[39m\u001b[0m\n",
      "\u001b[39m\u001b[0m\u001b[93m\u001b[1m\n",
      "\u001b[39m\u001b[0m\u001b[93m\u001b[1m--------------------------------------------------------------------------------\n",
      "\u001b[39m\u001b[0m\u001b[93m\u001b[1mgather results                                                                  \n",
      "\u001b[39m\u001b[0m\u001b[93m\u001b[1m\n",
      "\u001b[39m\u001b[0mwait  : \u001b[39m\u001b[0m#\u001b[39m\u001b[0m#\u001b[39m\u001b[0m#\u001b[39m\u001b[0m#\u001b[39m\u001b[0m#\u001b[39m\u001b[0m#\u001b[39m\u001b[0m#\u001b[39m\u001b[0m#\u001b[39m\u001b[0m#\u001b[39m\u001b[0m#\u001b[39m\u001b[0m#\u001b[39m\u001b[0m#\u001b[39m\u001b[0m#\u001b[39m\u001b[0m#\u001b[39m\u001b[0m#\u001b[39m\u001b[0m#\u001b[39m\u001b[0m#\u001b[39m\u001b[0m#\u001b[39m\u001b[0m#\u001b[39m\u001b[0m#\u001b[39m\u001b[0m#\u001b[39m\u001b[0m#\u001b[39m\u001b[0m#\u001b[39m\u001b[0m#\u001b[39m\u001b[0m#\u001b[39m\u001b[0m#\u001b[39m\u001b[0m#\u001b[39m\u001b[0m#\u001b[39m\u001b[0m#\u001b[39m\u001b[0m#\u001b[39m\u001b[0m#\u001b[39m\u001b[0m#\u001b[39m\u001b[0m#\u001b[39m\u001b[0m#\u001b[39m\u001b[0m#\u001b[39m\u001b[0m#\u001b[39m\u001b[0m#\u001b[39m\u001b[0m#\u001b[39m\u001b[0m#\u001b[39m\u001b[0m#\u001b[39m\u001b[0m#\u001b[39m\u001b[0m#\u001b[39m\u001b[0m#\u001b[39m\u001b[0m#\u001b[39m\u001b[0m#\u001b[39m\u001b[0m#\u001b[39m\u001b[0m#\u001b[39m\u001b[0m#\u001b[39m\u001b[0m#\u001b[39m\u001b[0m#\u001b[39m\u001b[0m#\u001b[39m\u001b[0m#\u001b[39m\u001b[0m#\u001b[39m\u001b[0m#\u001b[39m\u001b[0m#\u001b[39m\u001b[0m#\u001b[39m\u001b[0m#\u001b[39m\u001b[0m#\u001b[39m\u001b[0m#\u001b[39m\u001b[0m#\u001b[39m\u001b[0m#\u001b[39m\u001b[0m#\u001b[39m\u001b[0m#\u001b[39m\u001b[0m#\u001b[39m\u001b[0m#\u001b[39m\u001b[0m#\u001b[39m\u001b[0m#\u001b[39m\u001b[0m#\u001b[39m\u001b[0m#\u001b[39m\u001b[0m#\u001b[39m\u001b[0m#\u001b[39m\u001b[0m#\u001b[39m\u001b[0m\n",
      "\u001b[39m\u001b[0m\u001b[94m\tDONE      :   128\n",
      "\u001b[39m\u001b[0m\u001b[92m                                                                              ok\n",
      "\u001b[39m\u001b[0m\u001b[94m\n",
      "\u001b[39m\u001b[0m  * task.000000: DONE, exit:   0, out: pilot.0000\n",
      "\u001b[39m\u001b[0m  * task.000001: DONE, exit:   0, out: pilot.0000\n",
      "\u001b[39m\u001b[0m  * task.000002: DONE, exit:   0, out: pilot.0000\n",
      "\u001b[39m\u001b[0m  * task.000003: DONE, exit:   0, out: pilot.0000\n",
      "\u001b[39m\u001b[0m  * task.000004: DONE, exit:   0, out: pilot.0000\n",
      "\u001b[39m\u001b[0m  * task.000005: DONE, exit:   0, out: pilot.0000\n",
      "\u001b[39m\u001b[0m  * task.000006: DONE, exit:   0, out: pilot.0000\n",
      "\u001b[39m\u001b[0m  * task.000007: DONE, exit:   0, out: pilot.0000\n",
      "\u001b[39m\u001b[0m  * task.000008: DONE, exit:   0, out: pilot.0000\n",
      "\u001b[39m\u001b[0m  * task.000009: DONE, exit:   0, out: pilot.0000\n",
      "\u001b[39m\u001b[0m  * task.000010: DONE, exit:   0, out: pilot.0000\n",
      "\u001b[39m\u001b[0m  * task.000011: DONE, exit:   0, out: pilot.0000\n",
      "\u001b[39m\u001b[0m  * task.000012: DONE, exit:   0, out: pilot.0000\n",
      "\u001b[39m\u001b[0m  * task.000013: DONE, exit:   0, out: pilot.0000\n",
      "\u001b[39m\u001b[0m  * task.000014: DONE, exit:   0, out: pilot.0000\n",
      "\u001b[39m\u001b[0m  * task.000015: DONE, exit:   0, out: pilot.0000\n",
      "\u001b[39m\u001b[0m  * task.000016: DONE, exit:   0, out: pilot.0000\n",
      "\u001b[39m\u001b[0m  * task.000017: DONE, exit:   0, out: pilot.0000\n",
      "\u001b[39m\u001b[0m  * task.000018: DONE, exit:   0, out: pilot.0000\n",
      "\u001b[39m\u001b[0m  * task.000019: DONE, exit:   0, out: pilot.0000\n",
      "\u001b[39m\u001b[0m  * task.000020: DONE, exit:   0, out: pilot.0000\n",
      "\u001b[39m\u001b[0m  * task.000021: DONE, exit:   0, out: pilot.0000\n",
      "\u001b[39m\u001b[0m  * task.000022: DONE, exit:   0, out: pilot.0000\n",
      "\u001b[39m\u001b[0m  * task.000023: DONE, exit:   0, out: pilot.0000\n",
      "\u001b[39m\u001b[0m  * task.000024: DONE, exit:   0, out: pilot.0000\n",
      "\u001b[39m\u001b[0m  * task.000025: DONE, exit:   0, out: pilot.0000\n",
      "\u001b[39m\u001b[0m  * task.000026: DONE, exit:   0, out: pilot.0000\n",
      "\u001b[39m\u001b[0m  * task.000027: DONE, exit:   0, out: pilot.0000\n",
      "\u001b[39m\u001b[0m  * task.000028: DONE, exit:   0, out: pilot.0000\n",
      "\u001b[39m\u001b[0m  * task.000029: DONE, exit:   0, out: pilot.0000\n",
      "\u001b[39m\u001b[0m  * task.000030: DONE, exit:   0, out: pilot.0000\n",
      "\u001b[39m\u001b[0m  * task.000031: DONE, exit:   0, out: pilot.0000\n",
      "\u001b[39m\u001b[0m  * task.000032: DONE, exit:   0, out: pilot.0000\n",
      "\u001b[39m\u001b[0m  * task.000033: DONE, exit:   0, out: pilot.0000\n",
      "\u001b[39m\u001b[0m  * task.000034: DONE, exit:   0, out: pilot.0000\n",
      "\u001b[39m\u001b[0m  * task.000035: DONE, exit:   0, out: pilot.0000\n",
      "\u001b[39m\u001b[0m  * task.000036: DONE, exit:   0, out: pilot.0000\n",
      "\u001b[39m\u001b[0m  * task.000037: DONE, exit:   0, out: pilot.0000\n",
      "\u001b[39m\u001b[0m  * task.000038: DONE, exit:   0, out: pilot.0000\n",
      "\u001b[39m\u001b[0m  * task.000039: DONE, exit:   0, out: pilot.0000\n",
      "\u001b[39m\u001b[0m  * task.000040: DONE, exit:   0, out: pilot.0000\n",
      "\u001b[39m\u001b[0m  * task.000041: DONE, exit:   0, out: pilot.0000\n",
      "\u001b[39m\u001b[0m  * task.000042: DONE, exit:   0, out: pilot.0000\n",
      "\u001b[39m\u001b[0m  * task.000043: DONE, exit:   0, out: pilot.0000\n",
      "\u001b[39m\u001b[0m  * task.000044: DONE, exit:   0, out: pilot.0000\n",
      "\u001b[39m\u001b[0m  * task.000045: DONE, exit:   0, out: pilot.0000\n",
      "\u001b[39m\u001b[0m  * task.000046: DONE, exit:   0, out: pilot.0000\n",
      "\u001b[39m\u001b[0m  * task.000047: DONE, exit:   0, out: pilot.0000\n",
      "\u001b[39m\u001b[0m  * task.000048: DONE, exit:   0, out: pilot.0000\n",
      "\u001b[39m\u001b[0m  * task.000049: DONE, exit:   0, out: pilot.0000\n",
      "\u001b[39m\u001b[0m  * task.000050: DONE, exit:   0, out: pilot.0000\n",
      "\u001b[39m\u001b[0m  * task.000051: DONE, exit:   0, out: pilot.0000\n",
      "\u001b[39m\u001b[0m  * task.000052: DONE, exit:   0, out: pilot.0000\n",
      "\u001b[39m\u001b[0m  * task.000053: DONE, exit:   0, out: pilot.0000\n",
      "\u001b[39m\u001b[0m  * task.000054: DONE, exit:   0, out: pilot.0000\n",
      "\u001b[39m\u001b[0m  * task.000055: DONE, exit:   0, out: pilot.0000\n",
      "\u001b[39m\u001b[0m  * task.000056: DONE, exit:   0, out: pilot.0000\n",
      "\u001b[39m\u001b[0m  * task.000057: DONE, exit:   0, out: pilot.0000\n",
      "\u001b[39m\u001b[0m  * task.000058: DONE, exit:   0, out: pilot.0000\n",
      "\u001b[39m\u001b[0m  * task.000059: DONE, exit:   0, out: pilot.0000\n",
      "\u001b[39m\u001b[0m  * task.000060: DONE, exit:   0, out: pilot.0000\n",
      "\u001b[39m\u001b[0m  * task.000061: DONE, exit:   0, out: pilot.0000\n",
      "\u001b[39m\u001b[0m  * task.000062: DONE, exit:   0, out: pilot.0000\n",
      "\u001b[39m\u001b[0m  * task.000063: DONE, exit:   0, out: pilot.0000\n",
      "\u001b[39m\u001b[0m  * task.000064: DONE, exit:   0, out: pilot.0000\n",
      "\u001b[39m\u001b[0m  * task.000065: DONE, exit:   0, out: pilot.0000\n",
      "\u001b[39m\u001b[0m  * task.000066: DONE, exit:   0, out: pilot.0000\n",
      "\u001b[39m\u001b[0m  * task.000067: DONE, exit:   0, out: pilot.0000\n",
      "\u001b[39m\u001b[0m  * task.000068: DONE, exit:   0, out: pilot.0000\n",
      "\u001b[39m\u001b[0m  * task.000069: DONE, exit:   0, out: pilot.0000\n",
      "\u001b[39m\u001b[0m  * task.000070: DONE, exit:   0, out: pilot.0000\n",
      "\u001b[39m\u001b[0m  * task.000071: DONE, exit:   0, out: pilot.0000\n",
      "\u001b[39m\u001b[0m  * task.000072: DONE, exit:   0, out: pilot.0000\n",
      "\u001b[39m\u001b[0m  * task.000073: DONE, exit:   0, out: pilot.0000\n",
      "\u001b[39m\u001b[0m  * task.000074: DONE, exit:   0, out: pilot.0000\n"
     ]
    },
    {
     "name": "stderr",
     "output_type": "stream",
     "text": [
      "\u001b[39m\u001b[0m  * task.000075: DONE, exit:   0, out: pilot.0000\n",
      "\u001b[39m\u001b[0m  * task.000076: DONE, exit:   0, out: pilot.0000\n",
      "\u001b[39m\u001b[0m  * task.000077: DONE, exit:   0, out: pilot.0000\n",
      "\u001b[39m\u001b[0m  * task.000078: DONE, exit:   0, out: pilot.0000\n",
      "\u001b[39m\u001b[0m  * task.000079: DONE, exit:   0, out: pilot.0000\n",
      "\u001b[39m\u001b[0m  * task.000080: DONE, exit:   0, out: pilot.0000\n",
      "\u001b[39m\u001b[0m  * task.000081: DONE, exit:   0, out: pilot.0000\n",
      "\u001b[39m\u001b[0m  * task.000082: DONE, exit:   0, out: pilot.0000\n",
      "\u001b[39m\u001b[0m  * task.000083: DONE, exit:   0, out: pilot.0000\n",
      "\u001b[39m\u001b[0m  * task.000084: DONE, exit:   0, out: pilot.0000\n",
      "\u001b[39m\u001b[0m  * task.000085: DONE, exit:   0, out: pilot.0000\n",
      "\u001b[39m\u001b[0m  * task.000086: DONE, exit:   0, out: pilot.0000\n",
      "\u001b[39m\u001b[0m  * task.000087: DONE, exit:   0, out: pilot.0000\n",
      "\u001b[39m\u001b[0m  * task.000088: DONE, exit:   0, out: pilot.0000\n",
      "\u001b[39m\u001b[0m  * task.000089: DONE, exit:   0, out: pilot.0000\n",
      "\u001b[39m\u001b[0m  * task.000090: DONE, exit:   0, out: pilot.0000\n",
      "\u001b[39m\u001b[0m  * task.000091: DONE, exit:   0, out: pilot.0000\n",
      "\u001b[39m\u001b[0m  * task.000092: DONE, exit:   0, out: pilot.0000\n",
      "\u001b[39m\u001b[0m  * task.000093: DONE, exit:   0, out: pilot.0000\n",
      "\u001b[39m\u001b[0m  * task.000094: DONE, exit:   0, out: pilot.0000\n",
      "\u001b[39m\u001b[0m  * task.000095: DONE, exit:   0, out: pilot.0000\n",
      "\u001b[39m\u001b[0m  * task.000096: DONE, exit:   0, out: pilot.0000\n",
      "\u001b[39m\u001b[0m  * task.000097: DONE, exit:   0, out: pilot.0000\n",
      "\u001b[39m\u001b[0m  * task.000098: DONE, exit:   0, out: pilot.0000\n",
      "\u001b[39m\u001b[0m  * task.000099: DONE, exit:   0, out: pilot.0000\n",
      "\u001b[39m\u001b[0m  * task.000100: DONE, exit:   0, out: pilot.0000\n",
      "\u001b[39m\u001b[0m  * task.000101: DONE, exit:   0, out: pilot.0000\n",
      "\u001b[39m\u001b[0m  * task.000102: DONE, exit:   0, out: pilot.0000\n",
      "\u001b[39m\u001b[0m  * task.000103: DONE, exit:   0, out: pilot.0000\n",
      "\u001b[39m\u001b[0m  * task.000104: DONE, exit:   0, out: pilot.0000\n",
      "\u001b[39m\u001b[0m  * task.000105: DONE, exit:   0, out: pilot.0000\n",
      "\u001b[39m\u001b[0m  * task.000106: DONE, exit:   0, out: pilot.0000\n",
      "\u001b[39m\u001b[0m  * task.000107: DONE, exit:   0, out: pilot.0000\n",
      "\u001b[39m\u001b[0m  * task.000108: DONE, exit:   0, out: pilot.0000\n",
      "\u001b[39m\u001b[0m  * task.000109: DONE, exit:   0, out: pilot.0000\n",
      "\u001b[39m\u001b[0m  * task.000110: DONE, exit:   0, out: pilot.0000\n",
      "\u001b[39m\u001b[0m  * task.000111: DONE, exit:   0, out: pilot.0000\n",
      "\u001b[39m\u001b[0m  * task.000112: DONE, exit:   0, out: pilot.0000\n",
      "\u001b[39m\u001b[0m  * task.000113: DONE, exit:   0, out: pilot.0000\n",
      "\u001b[39m\u001b[0m  * task.000114: DONE, exit:   0, out: pilot.0000\n",
      "\u001b[39m\u001b[0m  * task.000115: DONE, exit:   0, out: pilot.0000\n",
      "\u001b[39m\u001b[0m  * task.000116: DONE, exit:   0, out: pilot.0000\n",
      "\u001b[39m\u001b[0m  * task.000117: DONE, exit:   0, out: pilot.0000\n",
      "\u001b[39m\u001b[0m  * task.000118: DONE, exit:   0, out: pilot.0000\n",
      "\u001b[39m\u001b[0m  * task.000119: DONE, exit:   0, out: pilot.0000\n",
      "\u001b[39m\u001b[0m  * task.000120: DONE, exit:   0, out: pilot.0000\n",
      "\u001b[39m\u001b[0m  * task.000121: DONE, exit:   0, out: pilot.0000\n",
      "\u001b[39m\u001b[0m  * task.000122: DONE, exit:   0, out: pilot.0000\n",
      "\u001b[39m\u001b[0m  * task.000123: DONE, exit:   0, out: pilot.0000\n",
      "\u001b[39m\u001b[0m  * task.000124: DONE, exit:   0, out: pilot.0000\n",
      "\u001b[39m\u001b[0m  * task.000125: DONE, exit:   0, out: pilot.0000\n",
      "\u001b[39m\u001b[0m  * task.000126: DONE, exit:   0, out: pilot.0000\n",
      "\u001b[39m\u001b[0m  * task.000127: DONE, exit:   0, out: pilot.0000\n",
      "\u001b[39m\u001b[0m\u001b[94m\n",
      "\u001b[39m\u001b[0m\u001b[94m  * pilot.0000          : 128\n",
      "\u001b[39m\u001b[0m\u001b[94m  * total               : 128\n",
      "\u001b[39m\u001b[0m\u001b[93m\u001b[1m\n",
      "\u001b[39m\u001b[0m\u001b[93m\u001b[1m--------------------------------------------------------------------------------\n",
      "\u001b[39m\u001b[0m\u001b[93m\u001b[1mfinalize                                                                        \n",
      "\u001b[39m\u001b[0m\u001b[93m\u001b[1m\n",
      "\u001b[39m\u001b[0m\u001b[94mclosing session rp.session.debian-x.workstation.019093.0010\u001b[39m\u001b[0m\u001b[94m                    \\\n",
      "close task manager\u001b[39m\u001b[0m\u001b[92m                                                            ok\n",
      "\u001b[39m\u001b[0m\u001b[94mclose pilot manager\u001b[39m\u001b[0m\u001b[94m                                                            \\\n",
      "wait for 1 pilot(s)\n",
      "        \u001b[39m\u001b[0mO\u001b[39m\u001b[0/\u001b[39m\u001b[0-\u001b[39m\u001b[0\\\u001b[39m\u001b[0|\u001b[39m\u001b[0/\u001b[39m\u001b[0-\u001b[39m\u001b[0\\\u001b[39m\u001b[0|\u001b[39m\u001b[0/\u001b[39m\u001b[0-\u001b[39m\u001b[0\\\u001b[39m\u001b[0|\u001b[39m\u001b[0/\u001b[39m\u001b[0-\u001b[39m\u001b[0\\\u001b[39m\u001b[0|\u001b[39m\u001b[0/\u001b[39m\u001b[0-\u001b[39m\u001b[0\\\u001b[39m\u001b[0|\u001b[39m\u001b[0/\u001b[39m\u001b[0      0\u001b[39m\u001b[0m\u001b[92m                                                               ok\n",
      "\u001b[39m\u001b[0m\u001b[92m                                                                              ok\n",
      "\u001b[39m\u001b[0m\u001b[94msession lifetime: 92.8s\u001b[39m\u001b[0m\u001b[92m                                                       ok\n",
      "\u001b[39m\u001b[0m\u001b[93m\u001b[1m\n",
      "\u001b[39m\u001b[0m\u001b[93m\u001b[1m--------------------------------------------------------------------------------\n",
      "\u001b[39m\u001b[0m\u001b[93m\u001b[1m\u001b[39m\u001b[0m\u001b[93m\u001b[1m\n",
      "\u001b[39m\u001b[0m"
     ]
    }
   ],
   "source": [
    "try:\n",
    "    pdesc = initialize_desc_object(resources)\n",
    "    pilots = launch_pilots(session,pdesc)\n",
    "    tasks = submit_tasks(pilots)\n",
    "    report_task_progress(tasks)\n",
    "except Exception as e:\n",
    "    report.error('caught Exception: %s\\n' % e)\n",
    "    raise\n",
    "\n",
    "except (KeyboardInterrupt, SystemExit):\n",
    "    report.warn('exit requested\\n')\n",
    "\n",
    "finally:\n",
    "    report.header('finalize')\n",
    "    session.close(cleanup=False)\n",
    "\n",
    "report.header()"
   ]
  }
 ],
 "metadata": {
  "kernelspec": {
   "display_name": "Python 3 (ipykernel)",
   "language": "python",
   "name": "python3"
  },
  "language_info": {
   "codemirror_mode": {
    "name": "ipython",
    "version": 3
   },
   "file_extension": ".py",
   "mimetype": "text/x-python",
   "name": "python",
   "nbconvert_exporter": "python",
   "pygments_lexer": "ipython3",
   "version": "3.6.15"
  }
 },
 "nbformat": 4,
 "nbformat_minor": 5
}
