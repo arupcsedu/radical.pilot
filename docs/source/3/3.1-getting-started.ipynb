{
 "cells": [
  {
   "cell_type": "markdown",
   "id": "67521807",
   "metadata": {},
   "source": [
    "## Getting Started"
   ]
  },
  {
   "cell_type": "markdown",
   "id": "a2c32715",
   "metadata": {},
   "source": [
    "This notebook demonstrate a walkthrough example of how to run RADICAL-Pilot on any linux or macOS machine.\n",
    "\n",
    "The tutorial includes an example of how to a execute workload of tasks using a Bag of Tasks approach (BOT)."
   ]
  },
  {
   "cell_type": "markdown",
   "id": "1f4b55ef",
   "metadata": {},
   "source": [
    "### Activate your environment"
   ]
  },
  {
   "cell_type": "markdown",
   "id": "c4edd08b",
   "metadata": {},
   "source": [
    "```shell\n",
    "source ~/.virtualenvs/radical-pilot-env/bin/activate\n",
    "```"
   ]
  },
  {
   "cell_type": "markdown",
   "id": "20b57ec1",
   "metadata": {},
   "source": [
    "### Check the versions"
   ]
  },
  {
   "cell_type": "markdown",
   "id": "10feaefa",
   "metadata": {},
   "source": [
    "`!radical-stack`\n",
    "\n",
    "```\n",
    "  python               : /home/workstation/.local/share/virtualenvs/radical-pilot-env/bin/python3\n",
    "  pythonpath           : \n",
    "  version              : 3.6.15\n",
    "  virtualenv           : /home/workstation/.local/share/virtualenvs/radical-pilot-env\n",
    "\n",
    "  radical.gtod         : 1.6.7\n",
    "  radical.pilot        : 1.13.0-v1.13.0-161-gef63995ca@feature-issue_1578\n",
    "  radical.saga         : 1.13.0\n",
    "  radical.utils        : 1.13.0\n",
    "```"
   ]
  },
  {
   "cell_type": "markdown",
   "id": "d4c2915b",
   "metadata": {},
   "source": [
    "Loading the environment variables from .env file. To read on how to setup .env for RP see this. TODO\n",
    "`RADICAL_PILOT_DBURL` is required in .env file for RP to work. "
   ]
  },
  {
   "cell_type": "code",
   "execution_count": 1,
   "id": "f9f1ff4e",
   "metadata": {},
   "outputs": [],
   "source": [
    "%load_ext dotenv\n",
    "%dotenv ../../../.env\n"
   ]
  },
  {
   "cell_type": "code",
   "execution_count": 2,
   "id": "c8b8387d",
   "metadata": {},
   "outputs": [],
   "source": [
    "import os\n",
    "import sys\n",
    "\n",
    "import radical.pilot as rp\n",
    "import radical.utils as ru\n"
   ]
  },
  {
   "cell_type": "markdown",
   "id": "97ab1560",
   "metadata": {},
   "source": [
    "\n",
    "## Reporter for a better visualization\n",
    "All code examples of this guide use the reporter facility of RADICAL-Utils to print well formatted runtime and progress information. You can control that output with the `RADICAL_PILOT_REPORT` variable, which can be set to TRUE or FALSE to enable / disable reporter output. We assume the setting to be TRUE when referencing any output in this chapter."
   ]
  },
  {
   "cell_type": "code",
   "execution_count": 3,
   "id": "7e4566d0",
   "metadata": {},
   "outputs": [
    {
     "name": "stderr",
     "output_type": "stream",
     "text": [
      "\u001b[94m\u001b[1m\n",
      "\u001b[39m\u001b[0m\u001b[94m\u001b[1m================================================================================\n",
      "\u001b[39m\u001b[0m\u001b[94m\u001b[1m Getting Started (RP version 1.13.0)                                            \n",
      "\u001b[39m\u001b[0m\u001b[94m\u001b[1m================================================================================\n",
      "\u001b[39m\u001b[0m\u001b[94m\u001b[1m\n",
      "\u001b[39m\u001b[0m"
     ]
    }
   ],
   "source": [
    "report = ru.Reporter(name='radical.pilot')\n",
    "report.title('Getting Started (RP version %s)' % rp.version)"
   ]
  },
  {
   "cell_type": "markdown",
   "id": "51c58bcd",
   "metadata": {},
   "source": [
    "## Setting up the session\n",
    "Create a new session as it is the root object for all other objects in RADICAL-Pilot.\n",
    "A radical.pilot.Session is the root object for all other objects in RADICAL-Pilot. radical.pilot.PilotManager and radical.pilot.TaskManager instances are always attached to a Session, and their lifetime is controlled by the session."
   ]
  },
  {
   "cell_type": "code",
   "execution_count": 4,
   "id": "0a2c8f8a",
   "metadata": {},
   "outputs": [
    {
     "name": "stderr",
     "output_type": "stream",
     "text": [
      "\u001b[94mnew session: \u001b[39m\u001b[0m[rp.session.debian-x.workstation.019093.0001]\u001b[39m\u001b[0m\u001b[94m                     \\\n",
      "database   : \u001b[39m\u001b[0m[mongodb://127.0.0.1:27017/rpdb]\u001b[39m\u001b[0m\u001b[92m                                 ok\n",
      "\u001b[39m\u001b[0m"
     ]
    }
   ],
   "source": [
    "session = rp.Session()\n"
   ]
  },
  {
   "cell_type": "code",
   "execution_count": 5,
   "id": "f6447a38",
   "metadata": {},
   "outputs": [
    {
     "name": "stderr",
     "output_type": "stream",
     "text": [
      "\u001b[94mcreate pilot manager\u001b[39m\u001b[0m\u001b[92m                                                          ok\n",
      "\u001b[39m\u001b[0m\u001b[94mcreate task manager\u001b[39m\u001b[0m\u001b[92m                                                           ok\n",
      "\u001b[39m\u001b[0m"
     ]
    }
   ],
   "source": [
    "pmgr = rp.PilotManager(session=session)\n",
    "tmgr = rp.TaskManager(session=session)"
   ]
  },
  {
   "cell_type": "markdown",
   "id": "b36f1a88",
   "metadata": {},
   "source": [
    "### Resource configuration\n",
    "\n",
    "RP supports 2 levels of resource configuration (**pilot** level and **task** level).\n",
    "\n",
    "### Pilot level resource specification\n",
    "\n",
    "we first specify how many cores and gpus the pilot requires via pilot description:"
   ]
  },
  {
   "cell_type": "code",
   "execution_count": 6,
   "id": "af23b817",
   "metadata": {},
   "outputs": [],
   "source": [
    "resource = 'local.localhost'\n",
    "#TODO\n",
    "# config = ru.read_json('%s/config.json'\n",
    "#                             % os.path.dirname(__file__)).get(resource, {})\n",
    "\n",
    "pd_init = {'resource'      : 'local.localhost',\n",
    "                   'runtime'       : 30,  # pilot runtime (min)\n",
    "                   'exit_on_error' : True,\n",
    "                   'project'       : None,\n",
    "                   'queue'         : None,\n",
    "                   'cores'         : 1,\n",
    "                   'gpus'          : 0\n",
    "                  }\n",
    "pdesc = rp.PilotDescription(pd_init)\n",
    "\n",
    "# pdesc.resource       = 'local.localhost'\n",
    "# pdesc.runtime        = 30  # pilot runtime (min)\n",
    "# pdesc.exit_on_error  = True\n",
    "# pdesc.cores          = 4\n",
    "# pdesc.gpus           = 1"
   ]
  },
  {
   "cell_type": "markdown",
   "id": "6cf8aca1",
   "metadata": {},
   "source": [
    "## Setting up the Pilots\n",
    "\n",
    "Pilots are created via a radical.pilot.PilotManager, by passing a radical.pilot.PilotDescription. The most important elements of the PilotDescription are:\n",
    "\n",
    "resource: a label which specifies the target resource, either local or remote, on which to run the pilot, i.e., the machine on which the pilot executes;\n",
    "cores : the number of CPU cores the pilot is expected to manage, i.e., the size of the pilot;\n",
    "runtime : the numbers of minutes the pilot is expected to be active, i.e., the runtime of the pilot.\n",
    "\n",
    "Now we created the pilot, let's Launch it."
   ]
  },
  {
   "cell_type": "code",
   "execution_count": 7,
   "id": "929decb5",
   "metadata": {},
   "outputs": [
    {
     "name": "stderr",
     "output_type": "stream",
     "text": [
      "\u001b[94msubmit 1 pilot(s)\u001b[39m\u001b[0m\n",
      "        pilot.0000   local.localhost           1 cores       0 gpus\u001b[39m\u001b[0m\u001b[92m           ok\n",
      "\u001b[39m\u001b[0m"
     ]
    }
   ],
   "source": [
    "pilot = pmgr.submit_pilots(pdesc)"
   ]
  },
  {
   "cell_type": "markdown",
   "id": "8f372963",
   "metadata": {},
   "source": [
    "It is required to register the pilot in a TaskManager object once the it is launced,"
   ]
  },
  {
   "cell_type": "code",
   "execution_count": 8,
   "id": "14258706",
   "metadata": {},
   "outputs": [],
   "source": [
    "tmgr.add_pilots(pilot)"
   ]
  },
  {
   "cell_type": "markdown",
   "id": "1ce411cb",
   "metadata": {},
   "source": [
    "### Task level resource specification\n",
    "\n",
    "For a more fine grained resource specification, RP allows to specify how many cores, threads per cpus and gpus the task requires via task description:"
   ]
  },
  {
   "cell_type": "code",
   "execution_count": 9,
   "id": "1ba782cd",
   "metadata": {},
   "outputs": [],
   "source": [
    "def shell_task():\n",
    "    t = rp.TaskDescription()\n",
    "    t.stage_on_error = True\n",
    "    t.executable     = '/bin/date'\n",
    "    t.cpu_processes  = 1\n",
    "    t.cpu_threads    = 2\n",
    "    t.gpu_processes  = 1\n",
    "    t_gpu_threads    = 1\n",
    "    return t"
   ]
  },
  {
   "cell_type": "code",
   "execution_count": 10,
   "id": "8f142b5e",
   "metadata": {},
   "outputs": [
    {
     "name": "stderr",
     "output_type": "stream",
     "text": [
      ".\u001b[39m\u001b[0m.\u001b[39m\u001b[0m.\u001b[39m\u001b[0m.\u001b[39m\u001b[0m.\u001b[39m\u001b[0m.\u001b[39m\u001b[0m.\u001b[39m\u001b[0m.\u001b[39m\u001b[0m.\u001b[39m\u001b[0m.\u001b[39m\u001b[0m\n",
      "\u001b[39m\u001b[0m"
     ]
    }
   ],
   "source": [
    "bot = list() # Bag of tasks to append the launced tasks to it\n",
    "for i in range(0, 10):\n",
    "    task = shell_task()\n",
    "    bot.append(task)\n",
    "    report.progress()\n",
    "\n",
    "report.progress_done()"
   ]
  },
  {
   "cell_type": "markdown",
   "id": "3232b969",
   "metadata": {},
   "source": [
    "Submit the previously created task descriptions to the PilotManager. This will trigger the selected scheduler to start\n",
    "assigning tasks to the pilots."
   ]
  },
  {
   "cell_type": "code",
   "execution_count": 11,
   "id": "048a5479",
   "metadata": {},
   "outputs": [
    {
     "name": "stderr",
     "output_type": "stream",
     "text": [
      "submit: \u001b[39m\u001b[0m#\u001b[39m\u001b[0m#\u001b[39m\u001b[0m#\u001b[39m\u001b[0m#\u001b[39m\u001b[0m#\u001b[39m\u001b[0m#\u001b[39m\u001b[0m#\u001b[39m\u001b[0m#\u001b[39m\u001b[0m#\u001b[39m\u001b[0m#\u001b[39m\u001b[0m#\u001b[39m\u001b[0m#\u001b[39m\u001b[0m#\u001b[39m\u001b[0m#\u001b[39m\u001b[0m#\u001b[39m\u001b[0m#\u001b[39m\u001b[0m#\u001b[39m\u001b[0m#\u001b[39m\u001b[0m#\u001b[39m\u001b[0m#\u001b[39m\u001b[0m#\u001b[39m\u001b[0m#\u001b[39m\u001b[0m#\u001b[39m\u001b[0m#\u001b[39m\u001b[0m#\u001b[39m\u001b[0m#\u001b[39m\u001b[0m#\u001b[39m\u001b[0m#\u001b[39m\u001b[0m#\u001b[39m\u001b[0m#\u001b[39m\u001b[0m#\u001b[39m\u001b[0m#\u001b[39m\u001b[0m#\u001b[39m\u001b[0m#\u001b[39m\u001b[0m#\u001b[39m\u001b[0m#\u001b[39m\u001b[0m#\u001b[39m\u001b[0m#\u001b[39m\u001b[0m#\u001b[39m\u001b[0m#\u001b[39m\u001b[0m#\u001b[39m\u001b[0m#\u001b[39m\u001b[0m#\u001b[39m\u001b[0m#\u001b[39m\u001b[0m#\u001b[39m\u001b[0m#\u001b[39m\u001b[0m#\u001b[39m\u001b[0m#\u001b[39m\u001b[0m#\u001b[39m\u001b[0m#\u001b[39m\u001b[0m#\u001b[39m\u001b[0m#\u001b[39m\u001b[0m#\u001b[39m\u001b[0m#\u001b[39m\u001b[0m#\u001b[39m\u001b[0m#\u001b[39m\u001b[0m#\u001b[39m\u001b[0m#\u001b[39m\u001b[0m#\u001b[39m\u001b[0m#\u001b[39m\u001b[0m#\u001b[39m\u001b[0m#\u001b[39m\u001b[0m#\u001b[39m\u001b[0m#\u001b[39m\u001b[0m#\u001b[39m\u001b[0m#\u001b[39m\u001b[0m#\u001b[39m\u001b[0m#\u001b[39m\u001b[0m#\u001b[39m\u001b[0m#\u001b[39m\u001b[0m#\u001b[39m\u001b[0m#\u001b[39m\u001b[0m\n",
      "\u001b[39m\u001b[0m"
     ]
    },
    {
     "data": {
      "text/plain": [
       "[<Task object, uid task.000000>,\n",
       " <Task object, uid task.000001>,\n",
       " <Task object, uid task.000002>,\n",
       " <Task object, uid task.000003>,\n",
       " <Task object, uid task.000004>,\n",
       " <Task object, uid task.000005>,\n",
       " <Task object, uid task.000006>,\n",
       " <Task object, uid task.000007>,\n",
       " <Task object, uid task.000008>,\n",
       " <Task object, uid task.000009>]"
      ]
     },
     "execution_count": 11,
     "metadata": {},
     "output_type": "execute_result"
    }
   ],
   "source": [
    "tmgr.submit_tasks(bot)"
   ]
  },
  {
   "cell_type": "markdown",
   "id": "03112275",
   "metadata": {},
   "source": [
    "Now Wait for all tasks to reach a final state (**DONE**, **CANCELED** or **FAILED**)."
   ]
  },
  {
   "cell_type": "code",
   "execution_count": null,
   "id": "5f2ea29b",
   "metadata": {},
   "outputs": [
    {
     "name": "stderr",
     "output_type": "stream",
     "text": [
      "wait  : \u001b[39m\u001b[0m"
     ]
    }
   ],
   "source": [
    "tmgr.wait_tasks()"
   ]
  },
  {
   "cell_type": "markdown",
   "id": "d3d04630",
   "metadata": {},
   "source": [
    "Once the wait is finished, clean up the session"
   ]
  },
  {
   "cell_type": "code",
   "execution_count": null,
   "id": "9c914fc2",
   "metadata": {
    "pycharm": {
     "name": "#%%\n"
    }
   },
   "outputs": [],
   "source": [
    "report.header('finalize')\n",
    "session.close(download=True)\n"
   ]
  }
 ],
 "metadata": {
  "kernelspec": {
   "display_name": "Python 3 (ipykernel)",
   "language": "python",
   "name": "python3"
  },
  "language_info": {
   "codemirror_mode": {
    "name": "ipython",
    "version": 3
   },
   "file_extension": ".py",
   "mimetype": "text/x-python",
   "name": "python",
   "nbconvert_exporter": "python",
   "pygments_lexer": "ipython3",
   "version": "3.6.15"
  }
 },
 "nbformat": 4,
 "nbformat_minor": 5
}
