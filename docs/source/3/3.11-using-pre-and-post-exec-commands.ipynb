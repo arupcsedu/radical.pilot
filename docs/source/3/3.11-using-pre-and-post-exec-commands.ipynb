{
 "cells": [
  {
   "cell_type": "markdown",
   "id": "7e3ad0a5",
   "metadata": {},
   "source": [
    "## Using Pre- and Post- exec commands"
   ]
  },
  {
   "cell_type": "markdown",
   "id": "bc15e92d",
   "metadata": {},
   "source": [
    "In some cases, tasks need customizable setup routines. A frequent example is the use of module load commands on various HPC platforms, which are used to prepare the runtime environment of the task’s executable in a well defined, system-specific way.\n",
    "\n",
    "RP supports the invocation of such commands via the pre_exec and post_exec keys for the task description."
   ]
  },
  {
   "cell_type": "markdown",
   "id": "89c77725",
   "metadata": {},
   "source": [
    "<b>Note:</b> Pre- and Post- execution is performed on the resource headnode. Abusing these commands for any compute or I/O heavy load can lead to serious consequences, and will likely draw the wrath of the system administrators upon you! You have been warned"
   ]
  },
  {
   "cell_type": "markdown",
   "id": "28a49c72",
   "metadata": {},
   "source": [
    "The code example below shows the same environment setup we have been using in an earlier section, but now rendered via a pre_exec command which again will make the environment variable TEST available during the execution of the task."
   ]
  },
  {
   "cell_type": "markdown",
   "id": "4230b73e",
   "metadata": {
    "pycharm": {
     "name": "#%% md\n"
    }
   },
   "source": [
    "```python\n",
    "cud = rp.TaskDescription()\n",
    "\n",
    "cud.pre_exec    = ['export TEST=jabberwocky']\n",
    "cud.executable  = '/bin/echo'\n",
    "cud.arguments   = ['$RP_TASK_ID greets $TEST']\n",
    "```"
   ]
  },
  {
   "cell_type": "markdown",
   "id": "4ac146d1",
   "metadata": {},
   "source": [
    "### Running the Example"
   ]
  },
  {
   "cell_type": "markdown",
   "id": "0278a39c",
   "metadata": {},
   "source": [
    "The example below uses the code above to run a bag of echo commands"
   ]
  },
  {
   "cell_type": "markdown",
   "id": "aaee11c1",
   "metadata": {},
   "source": [
    "We start by importing the radical.pilot module and initializing the reporter facility used for printing well formatted runtime and progress information."
   ]
  },
  {
   "cell_type": "code",
   "execution_count": null,
   "id": "2e438331",
   "metadata": {
    "pycharm": {
     "name": "#%% md\n"
    }
   },
   "outputs": [],
   "source": [
    "import os\n",
    "import sys\n",
    "\n",
    "verbose  = os.environ.get('RADICAL_PILOT_VERBOSE', 'REPORT')\n",
    "os.environ['RADICAL_PILOT_VERBOSE'] = verbose\n",
    "\n",
    "import radical.pilot as rp\n",
    "import radical.utils as ru\n",
    "\n",
    "report = ru.Reporter(name='radical.pilot')\n",
    "report.title('Getting Started (RP version %s)' % rp.version)"
   ]
  },
  {
   "cell_type": "markdown",
   "id": "4cac80b8",
   "metadata": {},
   "source": [
    "We will now import the dotenv module for fetching our environment variables. To create a new Session, you need to provide the URL of a MongoDB server which we will fetch from our .env file.\n",
    "\n",
    "We will set the resource value to 'local.localhost'. Using a resource key other than local.localhost implicitly tells RADICAL-Pilot that it is targeting a remote resource."
   ]
  },
  {
   "cell_type": "code",
   "execution_count": null,
   "id": "28c59a74",
   "metadata": {
    "pycharm": {
     "name": "#%% md\n"
    }
   },
   "outputs": [],
   "source": [
    "from dotenv import load_dotenv\n",
    "load_dotenv()\n",
    "\n",
    "RADICAL_PILOT_DBURL = os.getenv(\"RADICAL_PILOT_DBURL\")\n",
    "os.environ['RADICAL_PILOT_DBURL'] = RADICAL_PILOT_DBURL\n",
    "resource = 'local.localhost'\n",
    "session = rp.Session()"
   ]
  },
  {
   "cell_type": "markdown",
   "id": "3bb46f0f",
   "metadata": {},
   "source": [
    "All other pilot code is now tried/excepted. If an exception is caught, we can rely on the session object to exist and be valid, and we can thus tear the whole RP stack down via a <i>'session.close()'</i> call in the <i>'finally'</i> clause."
   ]
  },
  {
   "cell_type": "code",
   "execution_count": null,
   "id": "b6707cdb",
   "metadata": {},
   "outputs": [],
   "source": [
    "def create_pilot_descriptions(resource):\n",
    "        # read the config used for resource details\n",
    "        report.info('read config')\n",
    "        config = ru.read_json('../config.json')\n",
    "        report.ok('>>ok\\n')\n",
    "\n",
    "        report.header('submit pilots')\n",
    "\n",
    "        \n",
    "\n",
    "        # Define an [n]-core local pilot that runs for [x] minutes\n",
    "        # Here we use a dict to initialize the description object\n",
    "        pd_init = {\n",
    "                   'resource'      : resource,\n",
    "                   'runtime'       : 15,  # pilot runtime (min)\n",
    "                   'exit_on_error' : True,\n",
    "                   'project'       : config[resource].get('project', None),\n",
    "                   'queue'         : config[resource].get('queue', None),\n",
    "                   'access_schema' : config[resource].get('schema', None),\n",
    "                   'cores'         : config[resource].get('cores', 1),\n",
    "                   'gpus'          : config[resource].get('gpus', 0),\n",
    "                  }\n",
    "        pdesc = rp.PilotDescription(pd_init)\n",
    "        return pdesc\n"
   ]
  },
  {
   "cell_type": "code",
   "execution_count": null,
   "id": "ae67f155",
   "metadata": {},
   "outputs": [],
   "source": [
    "def launch_pilots(session,pdesc):    \n",
    "        # Add a Pilot Manager. Pilot managers manage one or more Pilots.\n",
    "        pmgr = rp.PilotManager(session=session)\n",
    "        \n",
    "        # Launch the pilot.\n",
    "        pilot = pmgr.submit_pilots(pdesc)\n",
    "\n",
    "        return pilot\n"
   ]
  },
  {
   "cell_type": "code",
   "execution_count": null,
   "id": "c1de7bbe",
   "metadata": {},
   "outputs": [],
   "source": [
    "def submit_tasks(pilot):\n",
    "        report.header('submit tasks')\n",
    "\n",
    "        # Register the Pilot in a TaskManager object.\n",
    "        tmgr = rp.TaskManager(session=session)\n",
    "        tmgr.add_pilots(pilot)\n",
    "\n",
    "        # Create a workload of Tasks.\n",
    "        # Each task runs a specific `echo` command\n",
    "\n",
    "        n = 10   # number of tasks to run\n",
    "        report.info('create %d task description(s)\\n\\t' % n)\n",
    "\n",
    "        tds = list()\n",
    "        for i in range(0, n):\n",
    "\n",
    "            # create a new Task description, and fill it.\n",
    "            # Here we don't use dict initialization.\n",
    "            td = rp.TaskDescription()\n",
    "            td.pre_exec    = ['export TEST=jabberwocky']\n",
    "            td.executable  = '/bin/echo'\n",
    "            td.arguments   = ['$RP_TASK_ID greets $TEST']\n",
    "\n",
    "            tds.append(td)\n",
    "            report.progress()\n",
    "        report.ok('>>ok\\n')\n",
    "\n",
    "        # Submit the previously created Task descriptions to the\n",
    "        # PilotManager. This will trigger the selected scheduler to start\n",
    "        # assigning Tasks to the Pilots.\n",
    "        tasks = tmgr.submit_tasks(tds)\n",
    "\n",
    "        # Wait for all tasks to reach a final state\n",
    "        # (DONE, CANCELED or FAILED).\n",
    "        report.header('gather results')\n",
    "        tmgr.wait_tasks()\n",
    "        return tasks \n"
   ]
  },
  {
   "cell_type": "code",
   "execution_count": null,
   "id": "923568c2",
   "metadata": {},
   "outputs": [],
   "source": [
    "def report_task_progress(tasks):\n",
    "        report.info('\\n')\n",
    "        for task in tasks:\n",
    "            report.plain('  * %s: %s, exit: %3s, out: %s\\n'\n",
    "                    % (task.uid, task.state[:4],\n",
    "                        task.exit_code, task.stdout.strip()[:35]))"
   ]
  },
  {
   "cell_type": "code",
   "execution_count": null,
   "id": "ac87d93b",
   "metadata": {
    "pycharm": {
     "name": "#%% md\n"
    }
   },
   "outputs": [],
   "source": [
    "try:\n",
    "    pdesc = create_pilot_descriptions('local.localhost')\n",
    "    pilots = launch_pilots(session,pdesc)\n",
    "    tasks = submit_tasks(pilots)\n",
    "    report_task_progress(tasks)\n",
    "\n",
    "except Exception as e:\n",
    "    # Something unexpected happened in the pilot code above\n",
    "    report.error('caught Exception: %s\\n' % e)\n",
    "    raise\n",
    "\n",
    "except (KeyboardInterrupt, SystemExit):\n",
    "    # the callback called sys.exit(), and we can here catch the\n",
    "    # corresponding KeyboardInterrupt exception for shutdown.  We also catch\n",
    "    # SystemExit (which gets raised if the main threads exits for some other\n",
    "    # reason).\n",
    "    report.warn('exit requested\\n')\n",
    "\n",
    "finally:\n",
    "    # always clean up the session, no matter if we caught an exception or\n",
    "    # not.  This will kill all remaining pilots.\n",
    "    report.header('finalize')\n",
    "    session.close(cleanup=True)\n",
    "\n",
    "    report.header()"
   ]
  }
 ],
 "metadata": {
  "kernelspec": {
   "display_name": "Python 3 (ipykernel)",
   "language": "python",
   "name": "python3"
  },
  "language_info": {
   "codemirror_mode": {
    "name": "ipython",
    "version": 3
   },
   "file_extension": ".py",
   "mimetype": "text/x-python",
   "name": "python",
   "nbconvert_exporter": "python",
   "pygments_lexer": "ipython3",
   "version": "3.6.15"
  }
 },
 "nbformat": 4,
 "nbformat_minor": 5
}
