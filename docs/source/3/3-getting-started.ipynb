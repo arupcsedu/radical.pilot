{
 "cells": [
  {
   "cell_type": "markdown",
   "id": "67521807",
   "metadata": {},
   "source": [
    "## Getting Started"
   ]
  },
  {
   "cell_type": "markdown",
   "id": "a2c32715",
   "metadata": {},
   "source": [
    "This notebook demonstrate a walkthrough example of how to run RADICAL-Pilot on any linux or macOS machine.\n",
    "The tutorial includes an example of how to a execute a simple workload of identical tasks (a _bag of tasks_)."
   ]
  },
  {
   "cell_type": "markdown",
   "id": "1f4b55ef",
   "metadata": {},
   "source": [
    "### Activate your environment"
   ]
  },
  {
   "cell_type": "markdown",
   "id": "c4edd08b",
   "metadata": {},
   "source": [
    "```shell\n",
    "# replace the virtualenv path with the correct path for your system\n",
    "source ~/.virtualenvs/radical-pilot-env/bin/activate\n",
    "```"
   ]
  },
  {
   "cell_type": "markdown",
   "id": "20b57ec1",
   "metadata": {},
   "source": [
    "### Check the versions"
   ]
  },
  {
   "cell_type": "markdown",
   "id": "10feaefa",
   "metadata": {},
   "source": [
    "`!radical-stack`\n",
    "\n",
    "```\n",
    "  python               : /home/workstation/.local/share/virtualenvs/radical-pilot-env/bin/python3\n",
    "  pythonpath           : \n",
    "  version              : 3.6.15\n",
    "  virtualenv           : /home/workstation/.local/share/virtualenvs/radical-pilot-env\n",
    "\n",
    "  radical.gtod         : 1.6.7\n",
    "  radical.pilot        : 1.13.0-v1.13.0-161-gef63995ca@feature-issue_1578\n",
    "  radical.saga         : 1.13.0\n",
    "  radical.utils        : 1.13.0\n",
    "```"
   ]
  },
  {
   "cell_type": "markdown",
   "id": "d4c2915b",
   "metadata": {},
   "source": [
    "Loading the environment variables from .env file. To read on how to setup .env for RP see this. `RADICAL_PILOT_DBURL` is required in .env file for RP to work."
   ]
  },
  {
   "cell_type": "code",
   "execution_count": 1,
   "id": "f9f1ff4e",
   "metadata": {},
   "outputs": [
    {
     "name": "stderr",
     "output_type": "stream",
     "text": [
      "Python-dotenv could not parse statement starting at line 6\n"
     ]
    },
    {
     "name": "stdout",
     "output_type": "stream",
     "text": [
      "\u001b[32m1664315637.751 : radical.analytics    : 326   : 140101970642752 : INFO     : radical.analytics    version: 1.14.0\u001b[0m\r\n",
      "\r\n",
      "  python               : /mnt/home/merzky/radical/radical.pilot.2/ve3/bin/python3\r\n",
      "  pythonpath           : \r\n",
      "  version              : 3.8.0\r\n",
      "  virtualenv           : /mnt/home/merzky/radical/radical.pilot.2/ve3\r\n",
      "\r\n",
      "  radical.analytics    : 1.14.0\r\n",
      "  radical.gtod         : 1.13.0\r\n",
      "  radical.pilot        : 1.17.0-v1.17.0-242-g5e68a6e68@docs-nb_section3\r\n",
      "  radical.saga         : 1.14.0\r\n",
      "  radical.utils        : 1.17.0-v1.17.0@devel\r\n",
      "\r\n"
     ]
    }
   ],
   "source": [
    "%load_ext dotenv\n",
    "%dotenv ../../../.env\n",
    "\n",
    "!radical-stack"
   ]
  },
  {
   "cell_type": "code",
   "execution_count": 2,
   "id": "c8b8387d",
   "metadata": {},
   "outputs": [],
   "source": [
    "import os\n",
    "import sys\n",
    "import pprint\n",
    "\n",
    "import radical.pilot as rp\n",
    "import radical.utils as ru\n"
   ]
  },
  {
   "cell_type": "markdown",
   "id": "226a0cfc",
   "metadata": {},
   "source": [
    "### Configuration Files\n",
    "\n",
    "The examples encoded in this notebook target `localhost` as execution resource, but are also able to run on other resources for which we have pre-configured some relevant values.  We load those configuration options here:"
   ]
  },
  {
   "cell_type": "code",
   "execution_count": 3,
   "id": "c7747e0d",
   "metadata": {},
   "outputs": [
    {
     "name": "stdout",
     "output_type": "stream",
     "text": [
      "{'cores': 32,\n",
      " 'gpus': 0,\n",
      " 'project': None,\n",
      " 'queue': None,\n",
      " 'schema': None}\n"
     ]
    }
   ],
   "source": [
    "base = os.environ['VIRTUAL_ENV']\n",
    "configs = ru.Config(path='%s/share/radical.pilot/examples/config.json' % base)\n",
    "\n",
    "# use localhost as default resource - change this if you want to target a different resource\n",
    "resource = 'local.localhost'\n",
    "config = configs[resource]\n",
    "pprint.pprint(config, width=1)"
   ]
  },
  {
   "cell_type": "markdown",
   "id": "97ab1560",
   "metadata": {},
   "source": [
    "\n",
    "### Reporter for a better visualization\n",
    "All code examples of this guide use the reporter facility of RADICAL-Utils to print well formatted runtime and progress information. You can control that output with the `RADICAL_REPORT` variable, which can be set to `TRUE` or `FALSE` to enable / disable reporter output. We assume the setting to be TRUE when referencing any output in this chapter.\n",
    "\n",
    "**NOTE:** noteboks don't handle ANSII-Escape sequences very well - you may want to disable reporter animations with the following setting in you `.env`:\n",
    "\n",
    "    export RADICAL_REPORT_ANIME=False"
   ]
  },
  {
   "cell_type": "code",
   "execution_count": 4,
   "id": "7e4566d0",
   "metadata": {
    "scrolled": true
   },
   "outputs": [
    {
     "name": "stderr",
     "output_type": "stream",
     "text": [
      "\u001b[94m\u001b[1m\n",
      "\u001b[39m\u001b[0m\u001b[94m\u001b[1m================================================================================\n",
      "\u001b[39m\u001b[0m\u001b[94m\u001b[1m Getting Started (RP version 1.17.0)                                            \n",
      "\u001b[39m\u001b[0m\u001b[94m\u001b[1m================================================================================\n",
      "\u001b[39m\u001b[0m\u001b[94m\u001b[1m\n",
      "\u001b[39m\u001b[0m"
     ]
    }
   ],
   "source": [
    "report = ru.Reporter(name='radical.pilot')\n",
    "report.title('Getting Started (RP version %s)' % rp.version)"
   ]
  },
  {
   "cell_type": "markdown",
   "id": "51c58bcd",
   "metadata": {},
   "source": [
    "### Setting up the session\n",
    "\n",
    "A `rp.Session` is the root object for all other objects in RADICAL-Pilot.  The session ID is used to uniquely identify the application run.  That ID will, for example, be used to create a session sandbox in the current wrking directory into which logfiles etc. will be stored. \n",
    "\n",
    "**NOTE:** It is important to close the session at the end of the application's execution: \n",
    "\n",
    "    session.close()\n",
    "\n",
    "For one, that will terminate a number of local processes the session spawns to manage large workloads.  But also, and possibly more importantly, that will terminate all pilots of that session.  If you fail to terminate those pilots, they will still execute and allocate resources, and even though those resources idle that will count against your allocation on that resource.  Both processes and pilots will eventually time out - but that might take quite a bit of time."
   ]
  },
  {
   "cell_type": "code",
   "execution_count": 5,
   "id": "0a2c8f8a",
   "metadata": {},
   "outputs": [
    {
     "name": "stderr",
     "output_type": "stream",
     "text": [
      "\u001b[94mnew session: \u001b[39m\u001b[0m[rp.session.rivendell.merzky.019262.0018]\u001b[39m\u001b[0m\u001b[94m                         \\\n",
      "database   : \u001b[39m\u001b[0m[mongodb://localhost/am]\u001b[39m\u001b[0m\u001b[92m                                         ok\n",
      "\u001b[39m\u001b[0m"
     ]
    }
   ],
   "source": [
    "session = rp.Session()"
   ]
  },
  {
   "cell_type": "markdown",
   "id": "43dc96dd",
   "metadata": {},
   "source": [
    "A `rp.PilotManager` will, as the name suggests, manage the pilot instances the application will use, and the `rp.TaskManager` will manage the application tasks to be executed.  Both manager instances are attached to the Session, and their lifetime is controlled by the session."
   ]
  },
  {
   "cell_type": "code",
   "execution_count": 6,
   "id": "f6447a38",
   "metadata": {},
   "outputs": [
    {
     "name": "stderr",
     "output_type": "stream",
     "text": [
      "\u001b[94mcreate pilot manager\u001b[39m\u001b[0m\u001b[92m                                                          ok\n",
      "\u001b[39m\u001b[0m\u001b[94mcreate task manager\u001b[39m\u001b[0m\u001b[92m                                                           ok\n",
      "\u001b[39m\u001b[0m"
     ]
    }
   ],
   "source": [
    "pmgr = rp.PilotManager(session=session)\n",
    "tmgr = rp.TaskManager(session=session)"
   ]
  },
  {
   "cell_type": "markdown",
   "id": "b36f1a88",
   "metadata": {},
   "source": [
    "### Setting up a Pilot\n",
    "\n",
    "RP applications allocate resources by submitting a pilot job to the target resource.  That is usually an HPC cluster, but in these examples we will run the pilot on localhost.  We first describe that resource allocation request in the `rp.PilotDescription`, and then will request the pilot to be launched by the `rp.PilotManager` which we instantiated above.\n",
    "\n",
    "### Pilot resource specification\n",
    "\n",
    "A `rp.PilotDescription` is used to specify the type and number of resources (CPU cores and GPUs) to allocate, and also what project is to be used for accounting, for how long the resources are requested, etc.  We use the values from the configuration loaded above - feel free to set your own values!\n",
    "\n",
    "The most important elements of the PilotDescription are:\n",
    "\n",
    "  - `resource`: a label which specifies the target resource, either local or remote, on which to run the pilot;\n",
    "  - `runtime`: the numbers of minutes the pilot is expected to be active, i.e., the runtime of the pilot.\n",
    "  - `cores`: the number of CPU cores the pilot is expected to manage, i.e., the size of the pilot;\n",
    "  - `gpus`: the number of GPUs the pilot is expected to manage;"
   ]
  },
  {
   "cell_type": "code",
   "execution_count": 7,
   "id": "af23b817",
   "metadata": {},
   "outputs": [],
   "source": [
    "pdesc = rp.PilotDescription({'resource': resource,\n",
    "                             'runtime' : 30,\n",
    "                             'project' : config.get('project'),\n",
    "                             'queue'   : config.get('queue'),\n",
    "                             'cores'   : config.get('cores'),\n",
    "                             'gpus'    : config.get('gpus')})"
   ]
  },
  {
   "cell_type": "markdown",
   "id": "6cf8aca1",
   "metadata": {},
   "source": [
    "### Launching the Pilot\n",
    "\n",
    "Pilots are launched via a `rp.PilotManager`, by passing the `rp.PilotDescription` to the `submit_pilots()` method. To make use of the pilot, we register it with the task manager which then can use it for task execution  (you can add any number of pilots to the task manager)."
   ]
  },
  {
   "cell_type": "code",
   "execution_count": 8,
   "id": "929decb5",
   "metadata": {},
   "outputs": [
    {
     "name": "stderr",
     "output_type": "stream",
     "text": [
      "\u001b[94msubmit 1 pilot(s)\u001b[39m\u001b[0m\n",
      "        pilot.0000   local.localhost          32 cores       0 gpus\u001b[39m\u001b[0m\u001b[92m           ok\n",
      "\u001b[39m\u001b[0m"
     ]
    }
   ],
   "source": [
    "pilot = pmgr.submit_pilots(pdesc)\n",
    "tmgr.add_pilots(pilot)"
   ]
  },
  {
   "cell_type": "markdown",
   "id": "1ce411cb",
   "metadata": {},
   "source": [
    "### Task execution\n",
    "\n",
    "At this point we have the system set up and ready to execute tasks.  Well, in fact the pilot job may still be waiting in a batch queue, or the pilot job's bootstrapper may still prepare the pilot virtualenv when starting the pilot job - but either way, we can begin to submit tasks to the `TaskManager` for execution.\n",
    "\n",
    "Similar to the pilot submission, we create an `rp.TaskDescription` for each task we want to execute.  That description specifies what we want to execute as a task, how to execute it, what resources it needs, etc.  For now, we submit a number (128) trivial `/bin/date` executable which runs on a single core:"
   ]
  },
  {
   "cell_type": "code",
   "execution_count": 9,
   "id": "1ba782cd",
   "metadata": {},
   "outputs": [
    {
     "name": "stderr",
     "output_type": "stream",
     "text": [
      "create: \u001b[39m\u001b[0m#\u001b[39m\u001b[0m#\u001b[39m\u001b[0m#\u001b[39m\u001b[0m#\u001b[39m\u001b[0m#\u001b[39m\u001b[0m#\u001b[39m\u001b[0m#\u001b[39m\u001b[0m#\u001b[39m\u001b[0m#\u001b[39m\u001b[0m#\u001b[39m\u001b[0m#\u001b[39m\u001b[0m#\u001b[39m\u001b[0m#\u001b[39m\u001b[0m#\u001b[39m\u001b[0m#\u001b[39m\u001b[0m#\u001b[39m\u001b[0m#\u001b[39m\u001b[0m#\u001b[39m\u001b[0m#\u001b[39m\u001b[0m#\u001b[39m\u001b[0m#\u001b[39m\u001b[0m#\u001b[39m\u001b[0m#\u001b[39m\u001b[0m#\u001b[39m\u001b[0m#\u001b[39m\u001b[0m#\u001b[39m\u001b[0m#\u001b[39m\u001b[0m#\u001b[39m\u001b[0m#\u001b[39m\u001b[0m#\u001b[39m\u001b[0m#\u001b[39m\u001b[0m#\u001b[39m\u001b[0m#\u001b[39m\u001b[0m#\u001b[39m\u001b[0m#\u001b[39m\u001b[0m#\u001b[39m\u001b[0m#\u001b[39m\u001b[0m#\u001b[39m\u001b[0m#\u001b[39m\u001b[0m#\u001b[39m\u001b[0m#\u001b[39m\u001b[0m#\u001b[39m\u001b[0m#\u001b[39m\u001b[0m#\u001b[39m\u001b[0m#\u001b[39m\u001b[0m#\u001b[39m\u001b[0m#\u001b[39m\u001b[0m#\u001b[39m\u001b[0m#\u001b[39m\u001b[0m#\u001b[39m\u001b[0m#\u001b[39m\u001b[0m#\u001b[39m\u001b[0m#\u001b[39m\u001b[0m#\u001b[39m\u001b[0m#\u001b[39m\u001b[0m#\u001b[39m\u001b[0m#\u001b[39m\u001b[0m#\u001b[39m\u001b[0m#\u001b[39m\u001b[0m#\u001b[39m\u001b[0m#\u001b[39m\u001b[0m#\u001b[39m\u001b[0m#\u001b[39m\u001b[0m#\u001b[39m\u001b[0m#\u001b[39m\u001b[0m#\u001b[39m\u001b[0m#\u001b[39m\u001b[0m#\u001b[39m\u001b[0m#\u001b[39m\u001b[0m#\u001b[39m\u001b[0m#\u001b[39m\u001b[0m#\u001b[39m\u001b[0m\n",
      "\u001b[39m\u001b[0msubmit: \u001b[39m\u001b[0m#\u001b[39m\u001b[0m#\u001b[39m\u001b[0m#\u001b[39m\u001b[0m#\u001b[39m\u001b[0m#\u001b[39m\u001b[0m#\u001b[39m\u001b[0m#\u001b[39m\u001b[0m#\u001b[39m\u001b[0m#\u001b[39m\u001b[0m#\u001b[39m\u001b[0m#\u001b[39m\u001b[0m#\u001b[39m\u001b[0m#\u001b[39m\u001b[0m#\u001b[39m\u001b[0m#\u001b[39m\u001b[0m#\u001b[39m\u001b[0m#\u001b[39m\u001b[0m#\u001b[39m\u001b[0m#\u001b[39m\u001b[0m#\u001b[39m\u001b[0m#\u001b[39m\u001b[0m#\u001b[39m\u001b[0m#\u001b[39m\u001b[0m#\u001b[39m\u001b[0m#\u001b[39m\u001b[0m#\u001b[39m\u001b[0m#\u001b[39m\u001b[0m#\u001b[39m\u001b[0m#\u001b[39m\u001b[0m#\u001b[39m\u001b[0m#\u001b[39m\u001b[0m#\u001b[39m\u001b[0m#\u001b[39m\u001b[0m#\u001b[39m\u001b[0m#\u001b[39m\u001b[0m#\u001b[39m\u001b[0m#\u001b[39m\u001b[0m#\u001b[39m\u001b[0m#\u001b[39m\u001b[0m#\u001b[39m\u001b[0m#\u001b[39m\u001b[0m#\u001b[39m\u001b[0m#\u001b[39m\u001b[0m#\u001b[39m\u001b[0m#\u001b[39m\u001b[0m#\u001b[39m\u001b[0m#\u001b[39m\u001b[0m#\u001b[39m\u001b[0m#\u001b[39m\u001b[0m#\u001b[39m\u001b[0m#\u001b[39m\u001b[0m#\u001b[39m\u001b[0m#\u001b[39m\u001b[0m#\u001b[39m\u001b[0m#\u001b[39m\u001b[0m#\u001b[39m\u001b[0m#\u001b[39m\u001b[0m#\u001b[39m\u001b[0m#\u001b[39m\u001b[0m#\u001b[39m\u001b[0m#\u001b[39m\u001b[0m#\u001b[39m\u001b[0m#\u001b[39m\u001b[0m#\u001b[39m\u001b[0m#\u001b[39m\u001b[0m#\u001b[39m\u001b[0m#\u001b[39m\u001b[0m#\u001b[39m\u001b[0m#\u001b[39m\u001b[0m#\u001b[39m\u001b[0m#\u001b[39m\u001b[0m#\u001b[39m\u001b[0m\n",
      "\u001b[39m\u001b[0m"
     ]
    }
   ],
   "source": [
    "report.progress_tgt(16, label='create')\n",
    "\n",
    "tds = list()\n",
    "for _ in range(16):\n",
    "    tds.append(rp.TaskDescription({'executable': '/bin/date'}))\n",
    "    report.progress()\n",
    "    \n",
    "report.progress_done()\n",
    "\n",
    "tasks = tmgr.submit_tasks(tds)\n"
   ]
  },
  {
   "cell_type": "markdown",
   "id": "03112275",
   "metadata": {},
   "source": [
    "The tasks will now be scheduled for execution on the pilot we created above.  We now wait for the tasks to complete, i.e., to reach one of the final states `DONE`, `CANCELED` or `FAILED`.  Unless instructed otherwise, `tmgr.wait_tasks()` will wait for all tasks known to that task manager:"
   ]
  },
  {
   "cell_type": "code",
   "execution_count": 10,
   "id": "5f2ea29b",
   "metadata": {},
   "outputs": [
    {
     "name": "stderr",
     "output_type": "stream",
     "text": [
      "wait  : \u001b[39m\u001b[0m#\u001b[39m\u001b[0m#\u001b[39m\u001b[0m#\u001b[39m\u001b[0m#\u001b[39m\u001b[0m#\u001b[39m\u001b[0m#\u001b[39m\u001b[0m#\u001b[39m\u001b[0m#\u001b[39m\u001b[0m#\u001b[39m\u001b[0m#\u001b[39m\u001b[0m#\u001b[39m\u001b[0m#\u001b[39m\u001b[0m#\u001b[39m\u001b[0m#\u001b[39m\u001b[0m#\u001b[39m\u001b[0m#\u001b[39m\u001b[0m#\u001b[39m\u001b[0m#\u001b[39m\u001b[0m#\u001b[39m\u001b[0m#\u001b[39m\u001b[0m#\u001b[39m\u001b[0m#\u001b[39m\u001b[0m#\u001b[39m\u001b[0m#\u001b[39m\u001b[0m#\u001b[39m\u001b[0m#\u001b[39m\u001b[0m#\u001b[39m\u001b[0m#\u001b[39m\u001b[0m#\u001b[39m\u001b[0m#\u001b[39m\u001b[0m#\u001b[39m\u001b[0m#\u001b[39m\u001b[0m#\u001b[39m\u001b[0m#\u001b[39m\u001b[0m#\u001b[39m\u001b[0m#\u001b[39m\u001b[0m#\u001b[39m\u001b[0m#\u001b[39m\u001b[0m#\u001b[39m\u001b[0m#\u001b[39m\u001b[0m#\u001b[39m\u001b[0m#\u001b[39m\u001b[0m#\u001b[39m\u001b[0m#\u001b[39m\u001b[0m#\u001b[39m\u001b[0m#\u001b[39m\u001b[0m#\u001b[39m\u001b[0m#\u001b[39m\u001b[0m#\u001b[39m\u001b[0m#\u001b[39m\u001b[0m#\u001b[39m\u001b[0m#\u001b[39m\u001b[0m#\u001b[39m\u001b[0m#\u001b[39m\u001b[0m#\u001b[39m\u001b[0m#\u001b[39m\u001b[0m#\u001b[39m\u001b[0m#\u001b[39m\u001b[0m#\u001b[39m\u001b[0m#\u001b[39m\u001b[0m#\u001b[39m\u001b[0m#\u001b[39m\u001b[0m#\u001b[39m\u001b[0m#\u001b[39m\u001b[0m#\u001b[39m\u001b[0m#\u001b[39m\u001b[0m#\u001b[39m\u001b[0m#\u001b[39m\u001b[0m#\u001b[39m\u001b[0m#\u001b[39m\u001b[0m#\u001b[39m\u001b[0m#\u001b[39m\u001b[0m\n",
      "\u001b[39m\u001b[0m\u001b[94m\tDONE      :    16\n",
      "\u001b[39m\u001b[0m\u001b[92m                                                                              ok\n",
      "\u001b[39m\u001b[0m"
     ]
    },
    {
     "data": {
      "text/plain": [
       "['DONE',\n",
       " 'DONE',\n",
       " 'DONE',\n",
       " 'DONE',\n",
       " 'DONE',\n",
       " 'DONE',\n",
       " 'DONE',\n",
       " 'DONE',\n",
       " 'DONE',\n",
       " 'DONE',\n",
       " 'DONE',\n",
       " 'DONE',\n",
       " 'DONE',\n",
       " 'DONE',\n",
       " 'DONE',\n",
       " 'DONE']"
      ]
     },
     "execution_count": 10,
     "metadata": {},
     "output_type": "execute_result"
    }
   ],
   "source": [
    "tmgr.wait_tasks()"
   ]
  },
  {
   "cell_type": "markdown",
   "id": "9efbbe7a",
   "metadata": {},
   "source": [
    "Once completed, we can inspect the tasks for details of their execution: we print a summary for all tasks and then inspect one of them in a bit more detail:"
   ]
  },
  {
   "cell_type": "code",
   "execution_count": 11,
   "id": "e7a7d0ac",
   "metadata": {},
   "outputs": [
    {
     "name": "stderr",
     "output_type": "stream",
     "text": [
      "  * task.000000: DONE, exit:   0, out: Tue Sep 27 23:54:25 CEST 2022\n",
      "\u001b[39m\u001b[0m  * task.000001: DONE, exit:   0, out: Tue Sep 27 23:54:25 CEST 2022\n",
      "\u001b[39m\u001b[0m  * task.000002: DONE, exit:   0, out: Tue Sep 27 23:54:25 CEST 2022\n",
      "\u001b[39m\u001b[0m  * task.000003: DONE, exit:   0, out: Tue Sep 27 23:54:25 CEST 2022\n",
      "\u001b[39m\u001b[0m  * task.000004: DONE, exit:   0, out: Tue Sep 27 23:54:25 CEST 2022\n",
      "\u001b[39m\u001b[0m  * task.000005: DONE, exit:   0, out: Tue Sep 27 23:54:25 CEST 2022\n",
      "\u001b[39m\u001b[0m  * task.000006: DONE, exit:   0, out: Tue Sep 27 23:54:25 CEST 2022\n",
      "\u001b[39m\u001b[0m  * task.000007: DONE, exit:   0, out: Tue Sep 27 23:54:25 CEST 2022\n",
      "\u001b[39m\u001b[0m  * task.000008: DONE, exit:   0, out: Tue Sep 27 23:54:25 CEST 2022\n",
      "\u001b[39m\u001b[0m  * task.000009: DONE, exit:   0, out: Tue Sep 27 23:54:25 CEST 2022\n",
      "\u001b[39m\u001b[0m  * task.000010: DONE, exit:   0, out: Tue Sep 27 23:54:25 CEST 2022\n",
      "\u001b[39m\u001b[0m  * task.000011: DONE, exit:   0, out: Tue Sep 27 23:54:25 CEST 2022\n",
      "\u001b[39m\u001b[0m  * task.000012: DONE, exit:   0, out: Tue Sep 27 23:54:25 CEST 2022\n",
      "\u001b[39m\u001b[0m  * task.000013: DONE, exit:   0, out: Tue Sep 27 23:54:25 CEST 2022\n",
      "\u001b[39m\u001b[0m  * task.000014: DONE, exit:   0, out: Tue Sep 27 23:54:25 CEST 2022\n",
      "\u001b[39m\u001b[0m  * task.000015: DONE, exit:   0, out: Tue Sep 27 23:54:25 CEST 2022\n",
      "\u001b[39m\u001b[0m\n",
      "\u001b[39m\u001b[0muid             : task.000015\n",
      "\u001b[39m\u001b[0mtmgr            : tmgr.0000\n",
      "\u001b[39m\u001b[0mpilot           : pilot.0000\n",
      "\u001b[39m\u001b[0mname            : \n",
      "\u001b[39m\u001b[0mexecutable      : /bin/date\n",
      "\u001b[39m\u001b[0mstate           : DONE\n",
      "\u001b[39m\u001b[0mexit_code       : 0\n",
      "\u001b[39m\u001b[0mstdout          : Tue Sep 27 23:54:25 CEST 2022\n",
      "\u001b[39m\u001b[0mstderr          : \n",
      "\u001b[39m\u001b[0mreturn_value    : None\n",
      "\u001b[39m\u001b[0mexception       : None\n",
      "\u001b[39m\u001b[0m\n",
      "\u001b[39m\u001b[0mendpoint_fs     : file://localhost/\n",
      "\u001b[39m\u001b[0mresource_sandbox: file://localhost/home/merzky/radical.pilot.sandbox\n",
      "\u001b[39m\u001b[0msession_sandbox : file://localhost/home/merzky/radical.pilot.sandbox/rp.session.rivendell.merzky.019262.0018\n",
      "\u001b[39m\u001b[0mpilot_sandbox   : file://localhost/home/merzky/radical.pilot.sandbox/rp.session.rivendell.merzky.019262.0018/pilot.0000/\n",
      "\u001b[39m\u001b[0mtask_sandbox    : file://localhost/home/merzky/radical.pilot.sandbox/rp.session.rivendell.merzky.019262.0018/pilot.0000/task.000015/\n",
      "\u001b[39m\u001b[0mclient_sandbox  : /mnt/home/merzky/radical/radical.pilot.2/docs/source/3\n",
      "\u001b[39m\u001b[0m"
     ]
    }
   ],
   "source": [
    "for task in tasks:\n",
    "    report.plain('  * %s: %s, exit: %3s, out: %s'\n",
    "                % (task.uid, task.state[:4], task.exit_code, task.stdout[:35]))\n",
    "\n",
    "report.plain('\\n')\n",
    "\n",
    "report.plain('uid             : %s\\n' % task.uid)\n",
    "report.plain('tmgr            : %s\\n' % task.tmgr.uid)\n",
    "report.plain('pilot           : %s\\n' % task.pilot)\n",
    "report.plain('name            : %s\\n' % task.name)\n",
    "report.plain('executable      : %s\\n' % task.description['executable'])\n",
    "report.plain('state           : %s\\n' % task.state)\n",
    "report.plain('exit_code       : %s\\n' % task.exit_code)\n",
    "report.plain('stdout          : %s\\n' % task.stdout.strip())\n",
    "report.plain('stderr          : %s\\n' % task.stderr)\n",
    "report.plain('return_value    : %s\\n' % task.return_value)\n",
    "report.plain('exception       : %s\\n' % task.exception)\n",
    "report.plain('\\n')\n",
    "report.plain('endpoint_fs     : %s\\n' % task.endpoint_fs)\n",
    "report.plain('resource_sandbox: %s\\n' % task.resource_sandbox)\n",
    "report.plain('session_sandbox : %s\\n' % task.session_sandbox)\n",
    "report.plain('pilot_sandbox   : %s\\n' % task.pilot_sandbox)\n",
    "report.plain('task_sandbox    : %s\\n' % task.task_sandbox)\n",
    "report.plain('client_sandbox  : %s\\n' % task.client_sandbox)\n",
    "\n"
   ]
  },
  {
   "cell_type": "markdown",
   "id": "80415b6c",
   "metadata": {},
   "source": [
    "Not all tasks will usually succeed when executing - be it for internal errors (a simulation ran into an invalid condition), or because a compute node went down, etc.  Let's submit a new set of tasks and inspect the failure modes: we will scan `/bin/date` for acceptable single letter arguments:"
   ]
  },
  {
   "cell_type": "code",
   "execution_count": 12,
   "id": "32c95d9a",
   "metadata": {},
   "outputs": [
    {
     "name": "stderr",
     "output_type": "stream",
     "text": [
      "create: \u001b[39m\u001b[0m#\u001b[39m\u001b[0m#\u001b[39m\u001b[0m#\u001b[39m\u001b[0m#\u001b[39m\u001b[0m#\u001b[39m\u001b[0m#\u001b[39m\u001b[0m#\u001b[39m\u001b[0m#\u001b[39m\u001b[0m#\u001b[39m\u001b[0m#\u001b[39m\u001b[0m#\u001b[39m\u001b[0m#\u001b[39m\u001b[0m#\u001b[39m\u001b[0m#\u001b[39m\u001b[0m#\u001b[39m\u001b[0m#\u001b[39m\u001b[0m#\u001b[39m\u001b[0m#\u001b[39m\u001b[0m#\u001b[39m\u001b[0m#\u001b[39m\u001b[0m#\u001b[39m\u001b[0m#\u001b[39m\u001b[0m#\u001b[39m\u001b[0m#\u001b[39m\u001b[0m#\u001b[39m\u001b[0m#\u001b[39m\u001b[0m#\u001b[39m\u001b[0m#\u001b[39m\u001b[0m#\u001b[39m\u001b[0m#\u001b[39m\u001b[0m#\u001b[39m\u001b[0m#\u001b[39m\u001b[0m#\u001b[39m\u001b[0m#\u001b[39m\u001b[0m#\u001b[39m\u001b[0m#\u001b[39m\u001b[0m#\u001b[39m\u001b[0m#\u001b[39m\u001b[0m#\u001b[39m\u001b[0m#\u001b[39m\u001b[0m#\u001b[39m\u001b[0m#\u001b[39m\u001b[0m#\u001b[39m\u001b[0m#\u001b[39m\u001b[0m#\u001b[39m\u001b[0m#\u001b[39m\u001b[0m#\u001b[39m\u001b[0m#\u001b[39m\u001b[0m#\u001b[39m\u001b[0m#\u001b[39m\u001b[0m#\u001b[39m\u001b[0m#\u001b[39m\u001b[0m#\u001b[39m\u001b[0m#\u001b[39m\u001b[0m#\u001b[39m\u001b[0m#\u001b[39m\u001b[0m#\u001b[39m\u001b[0m#\u001b[39m\u001b[0m#\u001b[39m\u001b[0m#\u001b[39m\u001b[0m#\u001b[39m\u001b[0m#\u001b[39m\u001b[0m#\u001b[39m\u001b[0m#\u001b[39m\u001b[0m#\u001b[39m\u001b[0m#\u001b[39m\u001b[0m#\u001b[39m\u001b[0m#\u001b[39m\u001b[0m#\u001b[39m\u001b[0m#\u001b[39m\u001b[0m#\u001b[39m\u001b[0m#\u001b[39m\u001b[0m\n",
      "\u001b[39m\u001b[0msubmit: \u001b[39m\u001b[0m#\u001b[39m\u001b[0m#\u001b[39m\u001b[0m#\u001b[39m\u001b[0m#\u001b[39m\u001b[0m#\u001b[39m\u001b[0m#\u001b[39m\u001b[0m#\u001b[39m\u001b[0m#\u001b[39m\u001b[0m#\u001b[39m\u001b[0m#\u001b[39m\u001b[0m#\u001b[39m\u001b[0m#\u001b[39m\u001b[0m#\u001b[39m\u001b[0m#\u001b[39m\u001b[0m#\u001b[39m\u001b[0m#\u001b[39m\u001b[0m#\u001b[39m\u001b[0m#\u001b[39m\u001b[0m#\u001b[39m\u001b[0m#\u001b[39m\u001b[0m#\u001b[39m\u001b[0m#\u001b[39m\u001b[0m#\u001b[39m\u001b[0m#\u001b[39m\u001b[0m#\u001b[39m\u001b[0m#\u001b[39m\u001b[0m#\u001b[39m\u001b[0m#\u001b[39m\u001b[0m#\u001b[39m\u001b[0m#\u001b[39m\u001b[0m#\u001b[39m\u001b[0m#\u001b[39m\u001b[0m#\u001b[39m\u001b[0m#\u001b[39m\u001b[0m#\u001b[39m\u001b[0m#\u001b[39m\u001b[0m#\u001b[39m\u001b[0m#\u001b[39m\u001b[0m#\u001b[39m\u001b[0m#\u001b[39m\u001b[0m#\u001b[39m\u001b[0m#\u001b[39m\u001b[0m#\u001b[39m\u001b[0m#\u001b[39m\u001b[0m#\u001b[39m\u001b[0m#\u001b[39m\u001b[0m#\u001b[39m\u001b[0m#\u001b[39m\u001b[0m#\u001b[39m\u001b[0m#\u001b[39m\u001b[0m#\u001b[39m\u001b[0m#\u001b[39m\u001b[0m#\u001b[39m\u001b[0m#\u001b[39m\u001b[0m#\u001b[39m\u001b[0m#\u001b[39m\u001b[0m#\u001b[39m\u001b[0m#\u001b[39m\u001b[0m#\u001b[39m\u001b[0m#\u001b[39m\u001b[0m#\u001b[39m\u001b[0m#\u001b[39m\u001b[0m#\u001b[39m\u001b[0m#\u001b[39m\u001b[0m#\u001b[39m\u001b[0m#\u001b[39m\u001b[0m#\u001b[39m\u001b[0m#\u001b[39m\u001b[0m#\u001b[39m\u001b[0m#\u001b[39m\u001b[0m#\u001b[39m\u001b[0m#\u001b[39m\u001b[0m\n",
      "\u001b[39m\u001b[0m"
     ]
    }
   ],
   "source": [
    "import string\n",
    "letters = string.ascii_lowercase + string.ascii_uppercase\n",
    "\n",
    "report.progress_tgt(len(letters), label='create')\n",
    "\n",
    "tds = list()\n",
    "for letter in letters:\n",
    "    tds.append(rp.TaskDescription({'executable': '/bin/date',\n",
    "                                   'arguments': ['-' + letter]}))\n",
    "    report.progress()\n",
    "    \n",
    "report.progress_done()\n",
    "\n",
    "tasks = tmgr.submit_tasks(tds)"
   ]
  },
  {
   "cell_type": "markdown",
   "id": "187dbca6",
   "metadata": {},
   "source": [
    "This time we wait only for the newly submitted tasks and check which ones succeeded - for those we check the resulting output."
   ]
  },
  {
   "cell_type": "code",
   "execution_count": 13,
   "id": "fa13837b",
   "metadata": {},
   "outputs": [
    {
     "name": "stderr",
     "output_type": "stream",
     "text": [
      "wait  : \u001b[39m\u001b[0m#\u001b[39m\u001b[0m#\u001b[39m\u001b[0m#\u001b[39m\u001b[0m#\u001b[39m\u001b[0m#\u001b[39m\u001b[0m#\u001b[39m\u001b[0m#\u001b[39m\u001b[0m#\u001b[39m\u001b[0m#\u001b[39m\u001b[0m#\u001b[39m\u001b[0m#\u001b[39m\u001b[0m#\u001b[39m\u001b[0m#\u001b[39m\u001b[0m#\u001b[39m\u001b[0m#\u001b[39m\u001b[0m#\u001b[39m\u001b[0m#\u001b[39m\u001b[0m#\u001b[39m\u001b[0m#\u001b[39m\u001b[0m#\u001b[39m\u001b[0m#\u001b[39m\u001b[0m#\u001b[39m\u001b[0m#\u001b[39m\u001b[0m#\u001b[39m\u001b[0m#\u001b[39m\u001b[0m#\u001b[39m\u001b[0m#\u001b[39m\u001b[0m#\u001b[39m\u001b[0m#\u001b[39m\u001b[0m#\u001b[39m\u001b[0m#\u001b[39m\u001b[0m#\u001b[39m\u001b[0m#\u001b[39m\u001b[0m#\u001b[39m\u001b[0m#\u001b[39m\u001b[0m#\u001b[39m\u001b[0m#\u001b[39m\u001b[0m#\u001b[39m\u001b[0m#\u001b[39m\u001b[0m#\u001b[39m\u001b[0m#\u001b[39m\u001b[0m#\u001b[39m\u001b[0m#\u001b[39m\u001b[0m#\u001b[39m\u001b[0m#\u001b[39m\u001b[0m#\u001b[39m\u001b[0m#\u001b[39m\u001b[0m#\u001b[39m\u001b[0m#\u001b[39m\u001b[0m#\u001b[39m\u001b[0m#\u001b[39m\u001b[0m#\u001b[39m\u001b[0m#\u001b[39m\u001b[0m#\u001b[39m\u001b[0m#\u001b[39m\u001b[0m#\u001b[39m\u001b[0m#\u001b[39m\u001b[0m#\u001b[39m\u001b[0m#\u001b[39m\u001b[0m#\u001b[39m\u001b[0m#\u001b[39m\u001b[0m#\u001b[39m\u001b[0m#\u001b[39m\u001b[0m#\u001b[39m\u001b[0m#\u001b[39m\u001b[0m#\u001b[39m\u001b[0m#\u001b[39m\u001b[0m#\u001b[39m\u001b[0m#\u001b[39m\u001b[0m#\u001b[39m\u001b[0m#\u001b[39m\u001b[0m#\u001b[39m\u001b[0m\n",
      "\u001b[39m\u001b[0m\u001b[94m\tDONE      :     3\n",
      "\u001b[39m\u001b[0m\u001b[94m\tFAILED    :    49\n",
      "\u001b[39m\u001b[0m\u001b[92m                                                                              ok\n",
      "\u001b[39m\u001b[0m"
     ]
    },
    {
     "name": "stdout",
     "output_type": "stream",
     "text": [
      "task.000036: ['-u']: Tue Sep 27 21:54:29 UTC 2022\n",
      "task.000050: ['-I']: 2022-09-27\n",
      "task.000059: ['-R']: Tue, 27 Sep 2022 23:54:29 +0200\n"
     ]
    }
   ],
   "source": [
    "tmgr.wait_tasks([task.uid for task in tasks])\n",
    "\n",
    "for task in tasks:\n",
    "    if task.state == rp.DONE:\n",
    "        print('%s: %s: %s' % (task.uid, task.description['arguments'], task.stdout.strip()))\n"
   ]
  },
  {
   "cell_type": "markdown",
   "id": "2e466b67",
   "metadata": {},
   "source": [
    "### MPI Tasks and Task Resources\n",
    "\n",
    "In the examples we have, so far, been running single-core tasks.  By expanding the task description to include the `ranks` attribute, we can request multiple MPI ranks to be created where each rank uses one core.  Additional resource requirements can be specified per rank:\n",
    "\n",
    "  - `cores_per_rank`: the number of cores each rank can user for spawning additional threads or processes\n",
    "  - `gpus_per_rank`: the number of GPUs each rank can utilize\n",
    "  - `mem_per_rank`: the size of memory (in Megabytes) which is available to each rank\n",
    "  - `lfs_per_rank`: the amount of node-local file storage which is available to each rank\n",
    "\n",
    "We use the `radical-pilot-hello.sh` command to report on rank creation:"
   ]
  },
  {
   "cell_type": "code",
   "execution_count": 14,
   "id": "9047b209",
   "metadata": {},
   "outputs": [
    {
     "name": "stderr",
     "output_type": "stream",
     "text": [
      ".\u001b[39m\u001b[0m.\u001b[39m\u001b[0m.\u001b[39m\u001b[0m.\u001b[39m\u001b[0m\n",
      "\u001b[39m\u001b[0msubmit: \u001b[39m\u001b[0m#\u001b[39m\u001b[0m#\u001b[39m\u001b[0m#\u001b[39m\u001b[0m#\u001b[39m\u001b[0m#\u001b[39m\u001b[0m#\u001b[39m\u001b[0m#\u001b[39m\u001b[0m#\u001b[39m\u001b[0m#\u001b[39m\u001b[0m#\u001b[39m\u001b[0m#\u001b[39m\u001b[0m#\u001b[39m\u001b[0m#\u001b[39m\u001b[0m#\u001b[39m\u001b[0m#\u001b[39m\u001b[0m#\u001b[39m\u001b[0m#\u001b[39m\u001b[0m#\u001b[39m\u001b[0m#\u001b[39m\u001b[0m#\u001b[39m\u001b[0m#\u001b[39m\u001b[0m#\u001b[39m\u001b[0m#\u001b[39m\u001b[0m#\u001b[39m\u001b[0m#\u001b[39m\u001b[0m#\u001b[39m\u001b[0m#\u001b[39m\u001b[0m#\u001b[39m\u001b[0m#\u001b[39m\u001b[0m#\u001b[39m\u001b[0m#\u001b[39m\u001b[0m#\u001b[39m\u001b[0m#\u001b[39m\u001b[0m#\u001b[39m\u001b[0m#\u001b[39m\u001b[0m#\u001b[39m\u001b[0m#\u001b[39m\u001b[0m#\u001b[39m\u001b[0m#\u001b[39m\u001b[0m#\u001b[39m\u001b[0m#\u001b[39m\u001b[0m#\u001b[39m\u001b[0m#\u001b[39m\u001b[0m#\u001b[39m\u001b[0m#\u001b[39m\u001b[0m#\u001b[39m\u001b[0m#\u001b[39m\u001b[0m#\u001b[39m\u001b[0m#\u001b[39m\u001b[0m#\u001b[39m\u001b[0m#\u001b[39m\u001b[0m#\u001b[39m\u001b[0m#\u001b[39m\u001b[0m#\u001b[39m\u001b[0m#\u001b[39m\u001b[0m#\u001b[39m\u001b[0m#\u001b[39m\u001b[0m#\u001b[39m\u001b[0m#\u001b[39m\u001b[0m#\u001b[39m\u001b[0m#\u001b[39m\u001b[0m#\u001b[39m\u001b[0m#\u001b[39m\u001b[0m#\u001b[39m\u001b[0m#\u001b[39m\u001b[0m#\u001b[39m\u001b[0m#\u001b[39m\u001b[0m#\u001b[39m\u001b[0m#\u001b[39m\u001b[0m#\u001b[39m\u001b[0m#\u001b[39m\u001b[0m#\u001b[39m\u001b[0m\n",
      "\u001b[39m\u001b[0mwait  : \u001b[39m\u001b[0m#\u001b[39m\u001b[0m#\u001b[39m\u001b[0m#\u001b[39m\u001b[0m#\u001b[39m\u001b[0m#\u001b[39m\u001b[0m#\u001b[39m\u001b[0m#\u001b[39m\u001b[0m#\u001b[39m\u001b[0m#\u001b[39m\u001b[0m#\u001b[39m\u001b[0m#\u001b[39m\u001b[0m#\u001b[39m\u001b[0m#\u001b[39m\u001b[0m#\u001b[39m\u001b[0m#\u001b[39m\u001b[0m#\u001b[39m\u001b[0m#\u001b[39m\u001b[0m#\u001b[39m\u001b[0m"
     ]
    },
    {
     "ename": "KeyboardInterrupt",
     "evalue": "",
     "output_type": "error",
     "traceback": [
      "\u001b[0;31m---------------------------------------------------------------------------\u001b[0m",
      "\u001b[0;31mKeyboardInterrupt\u001b[0m                         Traceback (most recent call last)",
      "Cell \u001b[0;32mIn [14], line 10\u001b[0m\n\u001b[1;32m      7\u001b[0m report\u001b[38;5;241m.\u001b[39mprogress_done()\n\u001b[1;32m      9\u001b[0m tasks \u001b[38;5;241m=\u001b[39m tmgr\u001b[38;5;241m.\u001b[39msubmit_tasks(tds)\n\u001b[0;32m---> 10\u001b[0m tmgr\u001b[38;5;241m.\u001b[39mwait_tasks([task\u001b[38;5;241m.\u001b[39muid \u001b[38;5;28;01mfor\u001b[39;00m task \u001b[38;5;129;01min\u001b[39;00m tasks])\n\u001b[1;32m     12\u001b[0m \u001b[38;5;28;01mfor\u001b[39;00m task \u001b[38;5;129;01min\u001b[39;00m tasks:\n\u001b[1;32m     13\u001b[0m     \u001b[38;5;28mprint\u001b[39m(\u001b[38;5;124m'\u001b[39m\u001b[38;5;132;01m%s\u001b[39;00m\u001b[38;5;124m: \u001b[39m\u001b[38;5;132;01m%s\u001b[39;00m\u001b[38;5;124m'\u001b[39m \u001b[38;5;241m%\u001b[39m (task\u001b[38;5;241m.\u001b[39muid, task\u001b[38;5;241m.\u001b[39mstdout\u001b[38;5;241m.\u001b[39mstrip()))\n",
      "File \u001b[0;32m/mnt/home/merzky/radical/radical.pilot.2/ve3/lib/python3.8/site-packages/radical/pilot/task_manager.py:1049\u001b[0m, in \u001b[0;36mTaskManager.wait_tasks\u001b[0;34m(self, uids, state, timeout)\u001b[0m\n\u001b[1;32m   1046\u001b[0m       \u001b[38;5;28mself\u001b[39m\u001b[38;5;241m.\u001b[39m_log\u001b[38;5;241m.\u001b[39mdebug (\u001b[38;5;124m\"\u001b[39m\u001b[38;5;124mwait timed out\u001b[39m\u001b[38;5;124m\"\u001b[39m)\n\u001b[1;32m   1047\u001b[0m       \u001b[38;5;28;01mbreak\u001b[39;00m\n\u001b[0;32m-> 1049\u001b[0m   \u001b[43mtime\u001b[49m\u001b[38;5;241;43m.\u001b[39;49m\u001b[43msleep\u001b[49m\u001b[43m \u001b[49m\u001b[43m(\u001b[49m\u001b[38;5;241;43m0.1\u001b[39;49m\u001b[43m)\u001b[49m\n\u001b[1;32m   1051\u001b[0m   \u001b[38;5;66;03m# FIXME: print percentage...\u001b[39;00m\n\u001b[1;32m   1052\u001b[0m \u001b[38;5;66;03m# print 'wait tasks: %s' % [[u.uid, u.state] for u in to_check]\u001b[39;00m\n\u001b[1;32m   1054\u001b[0m   check_again \u001b[38;5;241m=\u001b[39m \u001b[38;5;28mlist\u001b[39m()\n",
      "\u001b[0;31mKeyboardInterrupt\u001b[0m: "
     ]
    }
   ],
   "source": [
    "tds = list()\n",
    "for n in range(4):\n",
    "    tds.append(rp.TaskDescription({'executable': '%s/bin/radical-pilot-hello.sh' % base, \n",
    "                                   'ranks': n}))\n",
    "    report.progress()\n",
    "    \n",
    "report.progress_done()\n",
    "\n",
    "tasks = tmgr.submit_tasks(tds)\n",
    "tmgr.wait_tasks([task.uid for task in tasks])\n",
    "\n",
    "for task in tasks:\n",
    "    print('%s: %s' % (task.uid, task.stdout.strip()))\n"
   ]
  },
  {
   "cell_type": "markdown",
   "id": "80203092",
   "metadata": {},
   "source": [
    "### Execution Environment\n",
    "\n"
   ]
  },
  {
   "cell_type": "markdown",
   "id": "e7306e76",
   "metadata": {},
   "source": [
    "### Data Management\n",
    "\n"
   ]
  },
  {
   "cell_type": "markdown",
   "id": "51ebf9a8",
   "metadata": {},
   "source": [
    "### Data Management\n",
    "\n"
   ]
  },
  {
   "cell_type": "markdown",
   "id": "9f6abe8d",
   "metadata": {},
   "source": [
    "### Data Management\n",
    "\n"
   ]
  },
  {
   "cell_type": "code",
   "execution_count": null,
   "id": "9c914fc2",
   "metadata": {
    "pycharm": {
     "name": "#%%\n"
    }
   },
   "outputs": [],
   "source": [
    "report.header('finalize')\n",
    "# session.close()"
   ]
  }
 ],
 "metadata": {
  "kernelspec": {
   "display_name": "Python 3 (ipykernel)",
   "language": "python",
   "name": "python3"
  },
  "language_info": {
   "codemirror_mode": {
    "name": "ipython",
    "version": 3
   },
   "file_extension": ".py",
   "mimetype": "text/x-python",
   "name": "python",
   "nbconvert_exporter": "python",
   "pygments_lexer": "ipython3",
   "version": "3.8.0"
  }
 },
 "nbformat": 4,
 "nbformat_minor": 5
}
