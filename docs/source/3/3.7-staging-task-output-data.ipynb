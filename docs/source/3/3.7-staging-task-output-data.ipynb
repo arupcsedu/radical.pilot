{
 "cells": [
  {
   "cell_type": "markdown",
   "id": "a2a16e4d",
   "metadata": {},
   "source": [
    "<h1>3.7. Staging Task Output Data</h1>"
   ]
  },
  {
   "cell_type": "markdown",
   "id": "2ad43774",
   "metadata": {},
   "source": [
    "Upon completion, tasks often create some amount of data. We have seen in Obtaining Task Details how we can inspect the task’s stdout string, but that will not be useful beyond the most trivial workloads. This section shows how to stage the output data of tasks back to the RP application, and/or to arbitrary storage locations and devices.\n",
    "\n",
    "In principle, output staging is specified as the input staging discussed in the previous section:\n",
    "\n",
    " - source: what files need to be staged from the context of the task that terminated execution\n",
    " - target: where should the files be staged to\n",
    " - action: how should files be staged.\n",
    " \n",
    "Note that in this example we specify the output file name to be changed to a unique name during staging:"
   ]
  },
  {
   "cell_type": "code",
   "execution_count": null,
   "id": "99777a8f",
   "metadata": {},
   "outputs": [],
   "source": [
    "for i in range(0, n):\n",
    "    cud.executable     = '/bin/cp'\n",
    "    cud.arguments      = ['-v', 'input.dat', 'output.dat']\n",
    "    cud.input_staging  = ['input.dat']\n",
    "    cud.output_staging = {'source': 'output.dat',\n",
    "                          'target': 'output_%03d.dat' % i,\n",
    "                          'action': rp.TRANSFER}"
   ]
  },
  {
   "cell_type": "markdown",
   "id": "fa7f609d",
   "metadata": {},
   "source": [
    "<h2>3.7.1. Running the Example</h2>"
   ]
  },
  {
   "cell_type": "markdown",
   "id": "b2fd4f28",
   "metadata": {},
   "source": [
    "Below is an example application which uses the code block above.\n",
    "\n",
    "We start by importing the radical.pilot module and initializing the reporter facility used for printing well formatted runtime and progress information."
   ]
  },
  {
   "cell_type": "code",
   "execution_count": null,
   "id": "a1e98a47",
   "metadata": {},
   "outputs": [],
   "source": [
    "import os\n",
    "import sys\n",
    "\n",
    "verbose  = os.environ.get('RADICAL_PILOT_VERBOSE', 'REPORT')\n",
    "os.environ['RADICAL_PILOT_VERBOSE'] = verbose\n",
    "\n",
    "import radical.pilot as rp\n",
    "import radical.utils as ru\n",
    "\n",
    "report = ru.Reporter(name='radical.pilot')\n",
    "report.title('Getting Started (RP version %s)' % rp.version)"
   ]
  },
  {
   "cell_type": "markdown",
   "id": "bde6ddc3",
   "metadata": {},
   "source": [
    "We will now import the dotenv module for fetching our environment variables. To create a new Session, you need to provide the URL of a MongoDB server which we will fetch from our .env file.\n",
    "\n",
    "We will set the resource value to 'local.localhost'. Using a resource key other than local.localhost implicitly tells RADICAL-Pilot that it is targeting a remote resource."
   ]
  },
  {
   "cell_type": "code",
   "execution_count": null,
   "id": "08053116",
   "metadata": {},
   "outputs": [],
   "source": [
    "from dotenv import load_dotenv\n",
    "load_dotenv()\n",
    "\n",
    "RADICAL_PILOT_DBURL = os.getenv(\"RADICAL_PILOT_DBURL\")\n",
    "os.environ['RADICAL_PILOT_DBURL'] = RADICAL_PILOT_DBURL\n",
    "resource = 'local.localhost'\n",
    "session = rp.Session()"
   ]
  },
  {
   "cell_type": "markdown",
   "id": "a109d90c",
   "metadata": {},
   "source": [
    "In the <i>create_pilot_description</i> function, we create a dictionary to initialize the pilot description object."
   ]
  },
  {
   "cell_type": "code",
   "execution_count": null,
   "id": "dbc3aa63",
   "metadata": {},
   "outputs": [],
   "source": [
    "def create_pilot_description(resources):\n",
    "    report.info('read config')\n",
    "    config = ru.read_json('../config.json')\n",
    "    report.ok('>>ok\\n')\n",
    "    report.header('submit pilots')\n",
    "    pdescs = list()\n",
    "    pd_init = {\n",
    "               'resource'      : resource,\n",
    "               'runtime'       : 15,  # pilot runtime (min)\n",
    "               'exit_on_error' : True,\n",
    "               'project'       : config[resource].get('project', None),\n",
    "               'queue'         : config[resource].get('queue', None),\n",
    "               'access_schema' : config[resource].get('schema', None),\n",
    "               'cores'         : config[resource].get('cores', 1),\n",
    "               'gpus'          : config[resource].get('gpus', 0),\n",
    "              }\n",
    "    pdesc = rp.PilotDescription(pd_init)\n",
    "    return pdesc"
   ]
  },
  {
   "cell_type": "markdown",
   "id": "e93ad795",
   "metadata": {},
   "source": [
    "<i> launch_pilots </i> adds a PilotManager for managing one or more pilots."
   ]
  },
  {
   "cell_type": "code",
   "execution_count": null,
   "id": "2b6581d8",
   "metadata": {},
   "outputs": [],
   "source": [
    "def launch_pilots(session,pdesc):\n",
    "    pmgr = rp.PilotManager(session=session)\n",
    "    pilots = pmgr.submit_pilots(pdesc)\n",
    "    return pilots    "
   ]
  },
  {
   "cell_type": "markdown",
   "id": "c6618aba",
   "metadata": {},
   "source": [
    "In the <i>submit_tasks</i> function, we first register the pilot in a TaskManager object. We then create a workload of char-counting a simple file. For this we create a the file right here and then use it as task input data for each task.\n",
    "\n",
    "After this we initialize the number of tasks(n=128) and create a new Task description. We submit the previously created Task descriptions to the PilotManager. This will trigger the selected scheduler to start assigning Tasks to the Pilots.\n",
    "\n",
    "We will use ```tmgr.wait_tasks()```to wait for all tasks to reach a final (DONE, CANCELED or FAILED)."
   ]
  },
  {
   "cell_type": "code",
   "execution_count": null,
   "id": "6b89967c",
   "metadata": {},
   "outputs": [],
   "source": [
    "def submit_tasks(pilots):\n",
    "    report.header('submit tasks')\n",
    "    \n",
    "    tmgr = rp.TaskManager(session=session)\n",
    "    tmgr.add_pilots(pilots)\n",
    "\n",
    " \n",
    "    os.system('hostname >  input.dat')\n",
    "    os.system('date     >> input.dat')\n",
    "\n",
    "    n = 128 \n",
    "    report.info('create %d task description(s)\\n\\t' % n)\n",
    "\n",
    "    tds = list()\n",
    "    for i in range(0, n):\n",
    "        td = rp.TaskDescription()\n",
    "        td.executable     = '/bin/cp'\n",
    "        td.arguments      = ['-v', 'input.dat', 'output.dat']\n",
    "        td.input_staging  = ['input.dat']\n",
    "        td.output_staging = {'source': 'task:///output.dat',\n",
    "                              'target': 'client:///output_%03d.dat' % i,\n",
    "                              'action': rp.TRANSFER}\n",
    "\n",
    "        tds.append(td)\n",
    "        report.progress()\n",
    "    report.ok('>>ok\\n')\n",
    "\n",
    "    tasks = tmgr.submit_tasks(tds)\n",
    "\n",
    "    report.header('gather results')\n",
    "    tmgr.wait_tasks()\n",
    "    return tasks\n"
   ]
  },
  {
   "cell_type": "markdown",
   "id": "e1cb4df4",
   "metadata": {},
   "source": [
    "We create the <i>report_task_progress</i> function to report the task status of each task"
   ]
  },
  {
   "cell_type": "code",
   "execution_count": null,
   "id": "d4b6ac42",
   "metadata": {},
   "outputs": [],
   "source": [
    "def report_task_progress(tasks):\n",
    "    counts = dict()\n",
    "    for task in tasks:\n",
    "        out_str = task.stdout.strip()[:35]\n",
    "        report.plain('  * %s: %s, exit: %3s, out: %s\\n'\n",
    "                % (task.uid, task.state[:4],\n",
    "                    task.exit_code, out_str))\n",
    "        if out_str not in counts:\n",
    "            counts[out_str] = 0\n",
    "        counts[out_str] += 1\n",
    "\n",
    "    report.info(\"\\n\")\n",
    "    for out_str in counts:\n",
    "        report.info(\"  * %-20s: %3d\\n\" % (out_str, counts[out_str]))\n",
    "    report.info(\"  * %-20s: %3d\\n\" % ('total', sum(counts.values())))"
   ]
  },
  {
   "cell_type": "markdown",
   "id": "e21dea19",
   "metadata": {},
   "source": [
    "We put all function calls inside a try except block. Finally, always clean up the session no matter if we caught an exception or not. This will kill all the remaining pilots."
   ]
  },
  {
   "cell_type": "code",
   "execution_count": null,
   "id": "509fa301",
   "metadata": {},
   "outputs": [],
   "source": [
    "try:\n",
    "    pdesc = create_pilot_description(resource)\n",
    "    pilots = launch_pilots(session,pdesc)\n",
    "    tasks = submit_tasks(pilots)\n",
    "    report_task_progress(tasks)\n",
    "except Exception as e:\n",
    "    report.error('caught Exception: %s\\n' % e)\n",
    "    raise\n",
    "\n",
    "except (KeyboardInterrupt, SystemExit):\n",
    "    report.warn('exit requested\\n')\n",
    "\n",
    "finally:\n",
    "    report.header('finalize')\n",
    "    session.close(cleanup=False)\n",
    "\n",
    "report.header()"
   ]
  }
 ],
 "metadata": {
  "kernelspec": {
   "display_name": "Python 3 (ipykernel)",
   "language": "python",
   "name": "python3"
  },
  "language_info": {
   "codemirror_mode": {
    "name": "ipython",
    "version": 3
   },
   "file_extension": ".py",
   "mimetype": "text/x-python",
   "name": "python",
   "nbconvert_exporter": "python",
   "pygments_lexer": "ipython3",
   "version": "3.8.10"
  }
 },
 "nbformat": 4,
 "nbformat_minor": 5
}
