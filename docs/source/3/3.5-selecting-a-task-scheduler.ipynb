{
 "cells": [
  {
   "cell_type": "markdown",
   "id": "5f942dc6",
   "metadata": {},
   "source": [
    "<h1>3.5. Selecting a Task Scheduler</h1>"
   ]
  },
  {
   "cell_type": "markdown",
   "id": "6ddf0ad5",
   "metadata": {},
   "source": [
    "We have seen in the previous examples how the <i>radical.pilot.TaskManager</i> matches submitted tasks to pilots for execution. On constructing the task manager, it can be configured to use a specific scheduling policy for that. The following policies are implemented:"
   ]
  },
  {
   "cell_type": "markdown",
   "id": "ad337a2e",
   "metadata": {},
   "source": [
    "- <i>rp.SCHEDULER_ROUND_ROBIN</i>: alternate tasks between all available pilot. This policy leads to a static and fair, but not necessarily load-balanced task assignment.\n",
    "- <i>rp.SCHEDULER_BACKFILLING</i>: dynamic task scheduling based on pilot capacity and availability. This is the most intelligent scheduler with good load balancing, but it comes with a certain scheduling overhead."
   ]
  },
  {
   "cell_type": "markdown",
   "id": "da1309a3",
   "metadata": {},
   "source": [
    "An important element to consider when discussing task scheduling is pilot startup time: pilot jobs can potentially sit in batch queues for a long time, or pass quickly, depending on their size and resource usage, resource policies, etc. Any static assignment of tasks will not be able to take that into account – and the first pilot may have finished all its work before a second pilot even came up.\n",
    "\n",
    "This is what the backfilling scheduler tries to address: it only schedules tasks once the pilot is available, and only as many as a pilot can execute at any point in time. As this requires close communication between pilot and scheduler, that scheduler will incur a runtime overhead for each task – so that is only advisable for heterogeneous workloads and/or pilot setups, and for long running tasks."
   ]
  },
  {
   "cell_type": "markdown",
   "id": "e59827f5",
   "metadata": {},
   "source": [
    "The example given below shows an exemplary scheduling selector.It will select Round Robin scheduling for two pilots, and Backfilling for three or more.\n",
    "\n",
    "Using multiple pilots is very powerful but it becomes more powerful if you allow RP to load-balance tasks between them. Selecting a Task Scheduler will show how to do just that."
   ]
  },
  {
   "cell_type": "markdown",
   "id": "6c0ccef7",
   "metadata": {},
   "source": [
    "We start by importing the radical.pilot module and initializing the reporter facility used for printing well formatted runtime and progress information."
   ]
  },
  {
   "cell_type": "code",
   "execution_count": null,
   "id": "fb5a588f",
   "metadata": {},
   "outputs": [],
   "source": [
    "import os\n",
    "import sys\n",
    "\n",
    "verbose  = os.environ.get('RADICAL_PILOT_VERBOSE', 'REPORT')\n",
    "os.environ['RADICAL_PILOT_VERBOSE'] = verbose\n",
    "\n",
    "import radical.pilot as rp\n",
    "import radical.utils as ru\n",
    "\n",
    "report = ru.Reporter(name='radical.pilot')\n",
    "report.title('Getting Started (RP version %s)' % rp.version)"
   ]
  },
  {
   "cell_type": "markdown",
   "id": "05ea8a2c",
   "metadata": {},
   "source": [
    "We will now import the dotenv module for fetching our environment variables. To create a new Session, you need to provide the URL of a MongoDB server which we will fetch from our .env file.\n",
    "\n",
    "We will set the resource value to 'local.localhost'. Using a resource key other than local.localhost implicitly tells RADICAL-Pilot that it is targeting a remote resource."
   ]
  },
  {
   "cell_type": "code",
   "execution_count": null,
   "id": "4a051714",
   "metadata": {},
   "outputs": [],
   "source": [
    "from dotenv import load_dotenv\n",
    "load_dotenv()\n",
    "\n",
    "RADICAL_PILOT_DBURL = os.getenv(\"RADICAL_PILOT_DBURL\")\n",
    "os.environ['RADICAL_PILOT_DBURL'] = RADICAL_PILOT_DBURL\n",
    "resource = 'local.localhost'\n",
    "session = rp.Session()"
   ]
  },
  {
   "cell_type": "markdown",
   "id": "352845ba",
   "metadata": {},
   "source": [
    "All other pilot code is now tried/excepted. If an exception is caught, we can rely on the session object to exist and be valid, and we can thus tear the whole RP stack down via a <i>'session.close()'</i> call in the <i>'finally'</i> clause."
   ]
  },
  {
   "cell_type": "code",
   "execution_count": null,
   "id": "5dadd128",
   "metadata": {},
   "outputs": [],
   "source": [
    "def initialize_desc_object(resources):\n",
    "    report.info('read config')\n",
    "    config = ru.read_json('../config.json')\n",
    "    report.ok('>>ok\\n')\n",
    "    report.header('submit pilots')\n",
    "    pdescs = list()\n",
    "    for resource in resources:\n",
    "        pd_init = {\n",
    "                   'resource'      : resource,\n",
    "                   'runtime'       : 15,  # pilot runtime (min)\n",
    "                   'exit_on_error' : True,\n",
    "                   'project'       : config[resource].get('project', None),\n",
    "                   'queue'         : config[resource].get('queue', None),\n",
    "                   'access_schema' : config[resource].get('schema', None),\n",
    "                   'cores'         : config[resource].get('cores', 1),\n",
    "                   'gpus'          : config[resource].get('gpus', 0),\n",
    "                  }\n",
    "        pdescs.append(rp.PilotDescription(pd_init))\n",
    "    return pdescs"
   ]
  },
  {
   "cell_type": "code",
   "execution_count": null,
   "id": "45f4f18f",
   "metadata": {},
   "outputs": [],
   "source": [
    "def launch_pilots(session,pdesc):\n",
    "    pmgr = rp.PilotManager(session=session)\n",
    "    pilots = pmgr.submit_pilots(pdesc)\n",
    "    return pilots    "
   ]
  },
  {
   "cell_type": "markdown",
   "id": "b7396540",
   "metadata": {},
   "source": [
    "In the <i>submit_tasks</i> function we will be using different schedulers depending on the number of pilots. \n",
    "```tmgr = rp.TaskManager(session=session, scheduler=SCHED)``` will combine the pilot, the tasks and a scheduler via a TaskManager object.\n",
    "We will then create a workload of tasks (n=256) and create a new task description. Each task reports the id of the pilot it runs on.\n",
    "We then submit the task description to the PilotManager. This will trigger the selected scheduler to start assigning tasks to the pilots.\n",
    "We will use ```tmgr.wait_tasks()```to wait for all tasks to reach a final (DONE, CANCELED or FAILED)."
   ]
  },
  {
   "cell_type": "code",
   "execution_count": null,
   "id": "1dc821ec",
   "metadata": {},
   "outputs": [],
   "source": [
    "def submit_tasks(pilots):\n",
    "    report.header('submit tasks')\n",
    "\n",
    "    report.info('select scheduler')\n",
    "    if len(pilots) in [1, 2]:\n",
    "        SCHED = rp.SCHEDULER_ROUND_ROBIN\n",
    "    else:\n",
    "        SCHED = rp.SCHEDULER_BACKFILLING\n",
    "    report.ok('>>%s\\n' % SCHED)\n",
    "\n",
    "    tmgr = rp.TaskManager(session=session, scheduler=SCHED)\n",
    "    tmgr.add_pilots(pilots)\n",
    "\n",
    "\n",
    "    n = 10  # number of tasks to run\n",
    "    report.info('create %d task description(s)\\n\\t' % n)\n",
    "\n",
    "    tds = list()\n",
    "    for i in range(0, n):\n",
    "        td = rp.TaskDescription()\n",
    "        td.executable = '/bin/echo'\n",
    "        td.arguments  = ['$RP_PILOT_ID']\n",
    "\n",
    "        tds.append(td)\n",
    "        report.progress()\n",
    "    report.ok('>>ok\\n')\n",
    "\n",
    "\n",
    "    tasks = tmgr.submit_tasks(tds)\n",
    "    \n",
    "    report.header('gather results')\n",
    "    tmgr.wait_tasks()\n",
    "\n",
    "    report.info('\\n')\n",
    "    return tasks"
   ]
  },
  {
   "cell_type": "markdown",
   "id": "140f954a",
   "metadata": {},
   "source": [
    "We create the report_task_progress function to report the task status of each task"
   ]
  },
  {
   "cell_type": "code",
   "execution_count": null,
   "id": "044c73af",
   "metadata": {},
   "outputs": [],
   "source": [
    "def report_task_progress(tasks):\n",
    "    counts = dict()\n",
    "    for task in tasks:\n",
    "        out_str = task.stdout.strip()[:35]\n",
    "        report.plain('  * %s: %s, exit: %3s, out: %s\\n'\n",
    "                % (task.uid, task.state[:4],\n",
    "                    task.exit_code, out_str))\n",
    "        if out_str not in counts:\n",
    "            counts[out_str] = 0\n",
    "        counts[out_str] += 1\n",
    "\n",
    "    report.info(\"\\n\")\n",
    "    for out_str in counts:\n",
    "        report.info(\"  * %-20s: %3d\\n\" % (out_str, counts[out_str]))\n",
    "    report.info(\"  * %-20s: %3d\\n\" % ('total', sum(counts.values())))"
   ]
  },
  {
   "cell_type": "markdown",
   "id": "489218f1",
   "metadata": {},
   "source": [
    "We put all function calls inside a try except block. Finally, always clean up the session no matter if we caught an exception or not. This will kill all the remaining pilots."
   ]
  },
  {
   "cell_type": "code",
   "execution_count": null,
   "id": "617f62b4",
   "metadata": {},
   "outputs": [],
   "source": [
    "try:\n",
    "    pdesc = initialize_desc_object([resource])\n",
    "    pilots = launch_pilots(session,pdesc)\n",
    "    tasks = submit_tasks(pilots)\n",
    "    report_task_progress(tasks)\n",
    "\n",
    "except Exception as e:\n",
    "    report.error('caught Exception: %s\\n' % e)\n",
    "    raise\n",
    "\n",
    "except (KeyboardInterrupt, SystemExit):\n",
    "    report.warn('exit requested\\n')\n",
    "\n",
    "finally:\n",
    "    report.header('finalize')\n",
    "    session.close(cleanup=False)\n",
    "\n",
    "report.header()"
   ]
  },
  {
   "cell_type": "code",
   "execution_count": null,
   "id": "de6a8b5c",
   "metadata": {},
   "outputs": [],
   "source": []
  }
 ],
 "metadata": {
  "kernelspec": {
   "display_name": "Python 3 (ipykernel)",
   "language": "python",
   "name": "python3"
  },
  "language_info": {
   "codemirror_mode": {
    "name": "ipython",
    "version": 3
   },
   "file_extension": ".py",
   "mimetype": "text/x-python",
   "name": "python",
   "nbconvert_exporter": "python",
   "pygments_lexer": "ipython3",
   "version": "3.6.15"
  }
 },
 "nbformat": 4,
 "nbformat_minor": 5
}
