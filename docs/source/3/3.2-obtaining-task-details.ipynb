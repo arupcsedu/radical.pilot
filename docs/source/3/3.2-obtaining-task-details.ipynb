{
 "cells": [
  {
   "cell_type": "markdown",
   "metadata": {
    "collapsed": true,
    "pycharm": {
     "name": "#%% md\n"
    }
   },
   "source": [
    "## Obtaining Task Details"
   ]
  },
  {
   "cell_type": "markdown",
   "metadata": {
    "pycharm": {
     "name": "#%% md\n"
    }
   },
   "source": [
    "The previous chapter#TODOPut link discussed the basic features of RP, how to submit a pilot, and how to submit tasks to that pilot for execution. Here, we show how an application can inspect the details of that execution, after the tasks complete.\n",
    "\n",
    "You can refer the script 01_task_details.py #TODO put link, which has the following diff to the basic example:"
   ]
  },
  {
   "cell_type": "markdown",
   "metadata": {
    "pycharm": {
     "name": "#%% md\n"
    }
   },
   "source": [
    "Note that we capture the return value of `submit_tasks()` in line 99#TODO remove line number, which is in fact a list of Task instances. We use those instances for inspection later on, after we waited for their completion. Inspection is also available earlier, but may then yield incomplete results. Note that a task always has a state throughout its life span, according to the state model discussed in RADICAL-Pilot (RP) - Overview."
   ]
  },
  {
   "cell_type": "markdown",
   "metadata": {},
   "source": [
    "The code block below shows how to report information about task state, exit code, and standard output. Later, we will see that standard error is handled equivalently.\n",
    "```shell\n",
    "report.plain('  * %s: %s, exit: %3s, out: %s\\n' \\\n",
    "        % (task.uid, task.state[:4],\n",
    "            task.exit_code, task.stdout.strip()[:35]))\n",
    "```\n",
    "\n",
    "> Reporting standard output in this way is a convenience method that cannot replace proper staging of output files. The string returned by task.stdout.strip()[:35] will be shortened on very long outputs (longer than 1kB by default) and it may contain information from RP which is not part of the standard output of the application. The proper staging of output files will be discussed in a later example."
   ]
  },
  {
   "cell_type": "markdown",
   "metadata": {
    "pycharm": {
     "name": "#%% md\n"
    }
   },
   "source": [
    "### Running the Example\n"
   ]
  },
  {
   "cell_type": "markdown",
   "metadata": {},
   "source": [
    "We will import the dotenv module for fetching our environment variables."
   ]
  },
  {
   "cell_type": "code",
   "execution_count": null,
   "metadata": {},
   "outputs": [],
   "source": [
    "%load_ext dotenv\n",
    "%dotenv ../../../.env"
   ]
  },
  {
   "cell_type": "markdown",
   "metadata": {},
   "source": [
    "We start by importing the radical.pilot module and initializing the reporter facility used for printing well formatted runtime and progress information."
   ]
  },
  {
   "cell_type": "code",
   "execution_count": null,
   "metadata": {},
   "outputs": [],
   "source": [
    "import os\n",
    "import sys\n",
    "\n",
    "import radical.pilot as rp\n",
    "import radical.utils as ru\n",
    "report = ru.Reporter(name='radical.pilot')\n",
    "report.title('Getting Started (RP version %s)' % rp.version)\n"
   ]
  },
  {
   "cell_type": "markdown",
   "metadata": {},
   "source": [
    "We will set the resource value to 'local.localhost'. Using a resource key other than local.localhost implicitly tells RADICAL-Pilot that it is targeting a remote resource."
   ]
  },
  {
   "cell_type": "code",
   "execution_count": null,
   "metadata": {},
   "outputs": [],
   "source": [
    "resource = 'local.localhost'\n"
   ]
  },
  {
   "cell_type": "markdown",
   "metadata": {},
   "source": [
    "To create a new Session, you need to provide the URL of a MongoDB server which we will fetch from our .env file."
   ]
  },
  {
   "cell_type": "code",
   "execution_count": null,
   "metadata": {},
   "outputs": [],
   "source": [
    "session = rp.Session()"
   ]
  },
  {
   "cell_type": "markdown",
   "metadata": {},
   "source": [
    "In the <i>create_pilot_description</i> function, we create a dictionary to initialize the pilot description object."
   ]
  },
  {
   "cell_type": "code",
   "execution_count": null,
   "metadata": {},
   "outputs": [],
   "source": [
    "def create_pilot_description():\n",
    "    report.info('read config')\n",
    "    config = ru.read_json('../config.json')\n",
    "    report.ok('>>ok\\n')\n",
    "\n",
    "    report.header('submit pilots')\n",
    "    \n",
    "    pd_init = {'resource'      : 'local.localhost',\n",
    "               'runtime'       : 15,\n",
    "               'exit_on_error' : True,\n",
    "               'project'       : config[resource].get('project', None),\n",
    "               'queue'         : config[resource].get('queue', None),\n",
    "               'access_schema' : config[resource].get('schema', None),\n",
    "               'cores'         : config[resource].get('cores', 1),\n",
    "               'gpus'          : config[resource].get('gpus', 0),\n",
    "               }\n",
    "    pdesc = rp.PilotDescription(pd_init)\n",
    "    return pdesc"
   ]
  },
  {
   "cell_type": "markdown",
   "metadata": {},
   "source": [
    "<i>launch_pilots</i> adds a PilotManager for managing one or more pilots."
   ]
  },
  {
   "cell_type": "code",
   "execution_count": null,
   "metadata": {},
   "outputs": [],
   "source": [
    "def launch_pilots(session,pdesc):\n",
    "    pmgr = rp.PilotManager(session=session)\n",
    "    pilots = pmgr.submit_pilots(pdesc)\n",
    "    return pilots    "
   ]
  },
  {
   "cell_type": "markdown",
   "metadata": {},
   "source": [
    "In the <i>submit_tasks</i> function, we first register the pilot in a TaskManager object.\n",
    "\n",
    "After this we initialize the number of tasks(n=128) and create a new Task description. We submit the previously created Task descriptions to the PilotManager. This will trigger the selected scheduler to start assigning Tasks to the Pilots.\n",
    "\n",
    "We will use ```tmgr.wait_tasks()```to wait for all tasks to reach a final (DONE, CANCELED or FAILED)."
   ]
  },
  {
   "cell_type": "code",
   "execution_count": null,
   "metadata": {},
   "outputs": [],
   "source": [
    "def submit_tasks(pilots):\n",
    "    report.header('submit tasks')\n",
    "\n",
    "    tmgr = rp.TaskManager(session=session)\n",
    "    tmgr.add_pilots(pilots)\n",
    "\n",
    "    n = 128  \n",
    "    report.info('create %d task description(s)\\n\\t' % n)\n",
    "\n",
    "    tds = list()\n",
    "    for i in range(0, n):\n",
    "        td = rp.TaskDescription()\n",
    "        td.executable = '/bin/date'\n",
    "        tds.append(td)\n",
    "        report.progress()\n",
    "\n",
    "    report.ok('>>ok\\n')\n",
    "    tasks = tmgr.submit_tasks(tds)\n",
    "    report.header('gather results')\n",
    "    tmgr.wait_tasks()\n",
    "    return tasks\n"
   ]
  },
  {
   "cell_type": "markdown",
   "metadata": {},
   "source": [
    "We create the <i>report_task_progress</i> function to report the task status of each task"
   ]
  },
  {
   "cell_type": "code",
   "execution_count": null,
   "metadata": {},
   "outputs": [],
   "source": [
    "def report_task_progress(tasks):\n",
    "    report.info('\\n')\n",
    "    for task in tasks:\n",
    "        report.plain('  * %s: %s, exit: %3s, out: %s\\n'\n",
    "                % (task.uid, task.state[:4],\n",
    "                    task.exit_code, task.stdout[:35]))\n",
    "\n",
    "    task_dict = tasks[0].as_dict()\n",
    "    report.plain(\"task workdir : %s\\n\" % task_dict['task_sandbox'])\n",
    "    report.plain(\"pilot id     : %s\\n\" % task_dict['pilot'])\n",
    "    report.plain(\"exit code    : %s\\n\" % task_dict['exit_code'])\n",
    "    report.plain(\"stdout       : %s\\n\" % task_dict['stdout'])\n",
    "\n",
    "    task_dict = tasks[1].as_dict()\n",
    "    report.plain(\"task workdir : %s\\n\" % task_dict['task_sandbox'])\n",
    "    report.plain(\"pilot id     : %s\\n\" % task_dict['pilot'])\n",
    "    report.plain(\"exit code    : %s\\n\" % task_dict['exit_code'])\n",
    "    report.plain(\"exit stdout  : %s\\n\" % task_dict['stdout'])\n"
   ]
  },
  {
   "cell_type": "markdown",
   "metadata": {},
   "source": [
    "We put all function calls inside a try except block.  Finally, always clean up the session no matter if we caught an exception or not. This will kill all the remaining pilots."
   ]
  },
  {
   "cell_type": "code",
   "execution_count": null,
   "metadata": {},
   "outputs": [],
   "source": [
    "try:\n",
    "    pdesc = create_pilot_description()\n",
    "    pilots = launch_pilots(session,pdesc)\n",
    "    tasks = submit_tasks(pilots)\n",
    "    report_task_progress(tasks)\n",
    "except Exception as e:\n",
    "    report.error('caught Exception: %s\\n' % e)\n",
    "    raise\n",
    "\n",
    "except (KeyboardInterrupt, SystemExit):\n",
    "    report.warn('exit requested\\n')\n",
    "finally:\n",
    "    report.header('finalize')\n",
    "    session.close()\n",
    "report.header()"
   ]
  }
 ],
 "metadata": {
  "kernelspec": {
   "display_name": "Python 3 (ipykernel)",
   "language": "python",
   "name": "python3"
  },
  "language_info": {
   "codemirror_mode": {
    "name": "ipython",
    "version": 3
   },
   "file_extension": ".py",
   "mimetype": "text/x-python",
   "name": "python",
   "nbconvert_exporter": "python",
   "pygments_lexer": "ipython3",
   "version": "3.8.10"
  }
 },
 "nbformat": 4,
 "nbformat_minor": 1
}
