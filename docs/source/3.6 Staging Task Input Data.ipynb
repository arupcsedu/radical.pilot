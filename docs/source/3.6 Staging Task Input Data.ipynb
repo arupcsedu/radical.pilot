{
 "cells": [
  {
   "cell_type": "markdown",
   "id": "ce675879",
   "metadata": {},
   "source": [
    "<h1>3.6 Staging Task Input Data</h1>"
   ]
  },
  {
   "cell_type": "markdown",
   "id": "75637dd6",
   "metadata": {},
   "source": [
    "The vast majority of applications operate on data, and many of those read input data from files. Since RP provides an abstraction above the resource layer, it can run a task on any pilot the application created (see Selecting a Task Scheduler). To ensure that the task finds the data it needs on the resource where it runs, RP provides a mechanism to stage input data automatically.\n",
    "\n",
    "For each task, the application can specify   \n",
    " - source: what data files need to be staged;\n",
    " - target: what should the path be in the context of the task execution;\n",
    " - action: how should data be staged.\n",
    "\n",
    "If <i>source</i> and <i>target</i> file names are the same, and if action is the default rp.TRANSFER, then you can simply specify task input data by giving a list of file names (we’ll discuss more complex staging directives in a later example):\n",
    "\n"
   ]
  },
  {
   "cell_type": "code",
   "execution_count": null,
   "id": "4bb56d8d",
   "metadata": {},
   "outputs": [],
   "source": [
    "cud = rp.TaskDescription()\n",
    "cud.executable     = '/usr/bin/wc'\n",
    "cud.arguments      = ['-c', 'input.dat']\n",
    "cud.input_staging  = ['input.dat']"
   ]
  },
  {
   "cell_type": "markdown",
   "id": "a92f3f01",
   "metadata": {},
   "source": [
    "<h2> 3.6.1 Running the Example </h2>"
   ]
  },
  {
   "cell_type": "markdown",
   "id": "2b1a1d08",
   "metadata": {},
   "source": [
    "Below is an example application which uses the above code block. It otherwise does not differ from our earlier examples (but only adds on-th-fly creation of input.dat).\n",
    "\n",
    "The result of this example’s execution is straight forward, as expected, but proves that the file staging happened as planned. You will likely notice though that the code runs significantly longer than earlier ones, because of the file staging overhead."
   ]
  },
  {
   "cell_type": "markdown",
   "id": "5e8cf378",
   "metadata": {},
   "source": [
    "We start by importing the radical.pilot module and initializing the reporter facility used for printing well formatted runtime and progress information."
   ]
  },
  {
   "cell_type": "code",
   "execution_count": null,
   "id": "23cc011d",
   "metadata": {},
   "outputs": [],
   "source": [
    "import os\n",
    "import sys\n",
    "\n",
    "verbose  = os.environ.get('RADICAL_PILOT_VERBOSE', 'REPORT')\n",
    "os.environ['RADICAL_PILOT_VERBOSE'] = verbose\n",
    "\n",
    "import radical.pilot as rp\n",
    "import radical.utils as ru\n",
    "\n",
    "report = ru.Reporter(name='radical.pilot')\n",
    "report.title('Getting Started (RP version %s)' % rp.version)"
   ]
  },
  {
   "cell_type": "markdown",
   "id": "69e758cc",
   "metadata": {},
   "source": [
    "We will now import the dotenv module for fetching our environment variables. To create a new Session, you need to provide the URL of a MongoDB server which we will fetch from our .env file.\n",
    "\n",
    "We will set the resource value to 'local.localhost'. Using a resource key other than local.localhost implicitly tells RADICAL-Pilot that it is targeting a remote resource."
   ]
  },
  {
   "cell_type": "code",
   "execution_count": null,
   "id": "7a0b2f70",
   "metadata": {},
   "outputs": [],
   "source": [
    "from dotenv import load_dotenv\n",
    "load_dotenv()\n",
    "\n",
    "RADICAL_PILOT_DBURL = os.getenv(\"RADICAL_PILOT_DBURL\")\n",
    "os.environ['RADICAL_PILOT_DBURL'] = RADICAL_PILOT_DBURL\n",
    "resources = 'local.localhost'\n",
    "session = rp.Session()"
   ]
  },
  {
   "cell_type": "markdown",
   "id": "d1076c4d",
   "metadata": {},
   "source": [
    "All other pilot code is now tried/excepted. If an exception is caught, we can rely on the session object to exist and be valid, and we can thus tear the whole RP stack down via a <i>'session.close()'</i> call in the <i>'finally'</i> clause."
   ]
  },
  {
   "cell_type": "code",
   "execution_count": null,
   "id": "9d7b3448",
   "metadata": {},
   "outputs": [],
   "source": [
    "def initialize_desc_object(resources):\n",
    "    report.info('read config')\n",
    "    config = ru.read_json('../config.json')\n",
    "    report.ok('>>ok\\n')\n",
    "    report.header('submit pilots')\n",
    "    pdescs = list()\n",
    "    pd_init = {\n",
    "               'resource'      : resource,\n",
    "               'runtime'       : 15,  # pilot runtime (min)\n",
    "               'exit_on_error' : True,\n",
    "               'project'       : config[resource].get('project', None),\n",
    "               'queue'         : config[resource].get('queue', None),\n",
    "               'access_schema' : config[resource].get('schema', None),\n",
    "               'cores'         : config[resource].get('cores', 1),\n",
    "               'gpus'          : config[resource].get('gpus', 0),\n",
    "              }\n",
    "    pdesc = rp.PilotDescription(pd_init)\n",
    "    return pdesc"
   ]
  },
  {
   "cell_type": "code",
   "execution_count": null,
   "id": "66e44910",
   "metadata": {},
   "outputs": [],
   "source": [
    "def launch_pilots(session,pdesc):\n",
    "    pmgr = rp.PilotManager(session=session)\n",
    "    pilots = pmgr.submit_pilots(pdesc)\n",
    "    return pilots    "
   ]
  },
  {
   "cell_type": "markdown",
   "id": "4fbaf92a",
   "metadata": {},
   "source": [
    "In this function, we first register the pilot in a TaskManager object. We then create a workload of char-counting a simple file. For this we create a the file right here and then use it as task input data for each task.\n",
    "\n",
    "After this we initialize the number of tasks(n=128) and create a new Task description.\n",
    "We submit the previously created Task descriptions to the PilotManager. This will trigger the selected scheduler to start assigning Tasks to the Pilots."
   ]
  },
  {
   "cell_type": "code",
   "execution_count": null,
   "id": "286521e8",
   "metadata": {},
   "outputs": [],
   "source": [
    "def submit_tasks(pilots):\n",
    "    report.header('submit tasks')\n",
    "\n",
    "    tmgr = rp.TaskManager(session=session)\n",
    "    tmgr.add_pilots(pilots)\n",
    "\n",
    "    os.system('hostname >  input.dat')\n",
    "    os.system('date     >> input.dat')\n",
    "\n",
    "    n = 128 \n",
    "    report.info('create %d task description(s)\\n\\t' % n)\n",
    "\n",
    "    tds = list()\n",
    "    for i in range(0, n):\n",
    "        td = rp.TaskDescription()\n",
    "        td.executable     = '/usr/bin/wc'\n",
    "        td.arguments      = ['-c', 'input.dat']\n",
    "        td.input_staging  = {'source': 'client:///input.dat',\n",
    "                             'target': 'task:///input.dat',\n",
    "                             'action': rp.TRANSFER}\n",
    "        tds.append(td)\n",
    "        report.progress()\n",
    "    report.ok('>>ok\\n')\n",
    "    tasks = tmgr.submit_tasks(tds)\n",
    "\n",
    "    report.header('gather results')\n",
    "    tmgr.wait_tasks()\n",
    "    return tasks  "
   ]
  },
  {
   "cell_type": "markdown",
   "id": "f63bb0ab",
   "metadata": {},
   "source": [
    "We create the <i>report_task_progress</i> function to report the task status of each task"
   ]
  },
  {
   "cell_type": "code",
   "execution_count": null,
   "id": "7afb24cf",
   "metadata": {},
   "outputs": [],
   "source": [
    "def report_task_progress(tasks):\n",
    "    report.info('\\n')\n",
    "    for task in tasks:\n",
    "        report.plain('  * %s: %s, exit: %3s, out: %s\\n'\n",
    "                % (task.uid, task.state[:4],\n",
    "                    task.exit_code, task.stdout.strip()[:35]))\n",
    "    os.system('rm input.dat')"
   ]
  },
  {
   "cell_type": "markdown",
   "id": "8d17590b",
   "metadata": {},
   "source": [
    "We put all function calls inside a try except block.  Finally, always clean up the session no matter if we caught an exception or not. This will kill all the remaining pilots."
   ]
  },
  {
   "cell_type": "code",
   "execution_count": null,
   "id": "75bb3710",
   "metadata": {},
   "outputs": [],
   "source": [
    "try:\n",
    "    pdesc = initialize_desc_object(resources)\n",
    "    pilots = launch_pilots(session,pdesc)\n",
    "    tasks = submit_tasks(pilots)\n",
    "    report_task_progress(tasks)\n",
    "except Exception as e:\n",
    "    report.error('caught Exception: %s\\n' % e)\n",
    "    raise\n",
    "\n",
    "except (KeyboardInterrupt, SystemExit):\n",
    "    report.warn('exit requested\\n')\n",
    "\n",
    "finally:\n",
    "    report.header('finalize')\n",
    "    session.close(cleanup=False)\n",
    "\n",
    "report.header()"
   ]
  },
  {
   "cell_type": "code",
   "execution_count": null,
   "id": "1578f6df",
   "metadata": {},
   "outputs": [],
   "source": []
  }
 ],
 "metadata": {
  "kernelspec": {
   "display_name": "Python 3 (ipykernel)",
   "language": "python",
   "name": "python3"
  },
  "language_info": {
   "codemirror_mode": {
    "name": "ipython",
    "version": 3
   },
   "file_extension": ".py",
   "mimetype": "text/x-python",
   "name": "python",
   "nbconvert_exporter": "python",
   "pygments_lexer": "ipython3",
   "version": "3.8.10"
  }
 },
 "nbformat": 4,
 "nbformat_minor": 5
}
