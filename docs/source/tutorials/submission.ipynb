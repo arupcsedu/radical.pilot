{
 "cells": [
  {
   "attachments": {},
   "cell_type": "markdown",
   "metadata": {},
   "source": [
    "RADICAL-Pilot (RP) provides users with the flexibility to access any HPC system in two different ways, namely remote submission and interactive submission. With remote submission, users can access the remote machine from their private computers or laptops via SSH, making it easy to use and manage resources from a familiar environment. On the other hand, interactive submission enables users to run RADICAL-Pilot from within the HPC platform."
   ]
  },
  {
   "attachments": {},
   "cell_type": "markdown",
   "metadata": {},
   "source": [
    "### 1. Remote Submission via SSH:\n",
    "\n",
    "In order for RP to interact with any HPC platform, it is required to have a valid paswordless SSH connection to the remote machine. To setup a passwordless `SSH` connection, please refer to this [link](https://www.tecmint.com/ssh-passwordless-login-using-ssh-keygen-in-5-easy-steps/)."
   ]
  },
  {
   "attachments": {},
   "cell_type": "markdown",
   "metadata": {},
   "source": [
    "After setting up the passwordless `SSH` connection, from within your local desktop or computer you can instruct RP to run with the remote submission mode by specifying the type of the access and the hostname of the machine, the example below shows that step bt step:"
   ]
  },
  {
   "attachments": {},
   "cell_type": "markdown",
   "metadata": {},
   "source": [
    "##### a. Create a pilot description object:"
   ]
  },
  {
   "cell_type": "code",
   "execution_count": null,
   "metadata": {
    "vscode": {
     "languageId": "plaintext"
    }
   },
   "outputs": [],
   "source": [
    "import radical.pilot as rp\n",
    "pilot_desc = rp.PilotDescription()"
   ]
  },
  {
   "attachments": {},
   "cell_type": "markdown",
   "metadata": {},
   "source": [
    "##### b. Specify the targeted machine name and the access schema in the pilot description:"
   ]
  },
  {
   "cell_type": "code",
   "execution_count": null,
   "metadata": {
    "vscode": {
     "languageId": "plaintext"
    }
   },
   "outputs": [],
   "source": [
    "pilot_desc['resource']      = \"tacc.frontera\"\n",
    "pilot_desc['access_schema'] = \"ssh\" "
   ]
  },
  {
   "attachments": {},
   "cell_type": "markdown",
   "metadata": {},
   "source": [
    "##### The example below shows a complete pilot description that access [TACC Frontera](https://www.tacc.utexas.edu/systems/frontera) HPC via `SSH`: "
   ]
  },
  {
   "cell_type": "code",
   "execution_count": null,
   "metadata": {
    "vscode": {
     "languageId": "plaintext"
    }
   },
   "outputs": [],
   "source": [
    "import radical.pilot as rp\n",
    "\n",
    "pilot_desc = rp.PilotDescription()\n",
    "pilot_desc['resource']      = \"tacc.frontera\"\n",
    "pilot_desc['access_schema'] = \"ssh\"\n",
    "pilot_desc['cores']         = 64\n",
    "pilot_desc['gpus']          = 0\n",
    "pilot_desc['runtime']       = 60 # minutes"
   ]
  },
  {
   "attachments": {},
   "cell_type": "markdown",
   "metadata": {},
   "source": [
    "### 2. Interactive Submission:\n",
    "\n",
    "##### RP gives the felxiblitry to users to interact with HPC machines interactively via two methods:\n",
    "* Interactive compute node(s) job.\n",
    "* SBATCH job."
   ]
  },
  {
   "attachments": {},
   "cell_type": "markdown",
   "metadata": {},
   "source": [
    "#### Interactive compute node(s) job\n",
    "\n",
    "To run RP in an interactive computing mode, you must request the required resources and time for your tasks. The example below shows step by step how to run RP interactively on `TACC Frontera`:"
   ]
  },
  {
   "attachments": {},
   "cell_type": "markdown",
   "metadata": {},
   "source": [
    "##### a. request the compute resources:\n",
    "Here we ask for 1 compute node for 1 hour:"
   ]
  },
  {
   "cell_type": "code",
   "execution_count": null,
   "metadata": {
    "vscode": {
     "languageId": "plaintext"
    }
   },
   "outputs": [],
   "source": [
    "login1$ srun --pty -N 1 -n 56 -t 1:00:00 -p normal /bin/bash -l"
   ]
  },
  {
   "attachments": {},
   "cell_type": "markdown",
   "metadata": {},
   "source": [
    "##### b. Specify the targeted machine name and the access schema in the pilot description:\n",
    "Note that for the `access_schema` we use `interactive` instead of `ssh`:"
   ]
  },
  {
   "cell_type": "code",
   "execution_count": null,
   "metadata": {
    "vscode": {
     "languageId": "plaintext"
    }
   },
   "outputs": [],
   "source": [
    "import radical.pilot as rp\n",
    "\n",
    "pilot_desc = rp.PilotDescription()\n",
    "pilot_desc['resource']      = \"tacc.frontera\"\n",
    "pilot_desc['access_schema'] = \"interactive\"\n",
    "pilot_desc['cores']         = 20\n",
    "pilot_desc['gpus']          = 0\n",
    "pilot_desc['runtime']       = 60 # minutes"
   ]
  },
  {
   "attachments": {},
   "cell_type": "markdown",
   "metadata": {},
   "source": [
    "#### Interactive `SBATCH` job\n",
    "\n",
    "To run RP in an interactive as an `SBATCH` job, you must create an `.sbatch` script that specifies your resource requirements and time, including the RP script that you want to execute The example below shows step-by-step how to do that on `TACC Frontera`:"
   ]
  },
  {
   "attachments": {},
   "cell_type": "markdown",
   "metadata": {},
   "source": [
    "##### a. Use the same pilot description as in the example earlier (interactive)"
   ]
  },
  {
   "cell_type": "code",
   "execution_count": null,
   "metadata": {
    "vscode": {
     "languageId": "plaintext"
    }
   },
   "outputs": [],
   "source": [
    "import radical.pilot as rp\n",
    "\n",
    "pilot_desc = rp.PilotDescription()\n",
    "pilot_desc['resource']      = \"tacc.frontera\"\n",
    "pilot_desc['access_schema'] = \"interactive\"\n",
    "pilot_desc['cores']         = 20\n",
    "pilot_desc['gpus']          = 0\n",
    "pilot_desc['runtime']       = 60 # minutes"
   ]
  },
  {
   "attachments": {},
   "cell_type": "markdown",
   "metadata": {},
   "source": [
    "##### b. Create an `myjobscript.sbatch` file and add your resource requirements:\n",
    "Here we ask for 1 compute node for 1 hour:"
   ]
  },
  {
   "cell_type": "code",
   "execution_count": null,
   "metadata": {
    "vscode": {
     "languageId": "plaintext"
    }
   },
   "outputs": [],
   "source": [
    "#SBATCH -J myjob           # Job name\n",
    "#SBATCH -o myjob.o%j       # Name of stdout output file\n",
    "#SBATCH -e myjob.e%j       # Name of stderr error file\n",
    "#SBATCH -p small           # Queue (partition) name\n",
    "#SBATCH -N 1               # Total # of nodes (must be 1 for serial)\n",
    "#SBATCH -n 56              # Total # of mpi tasks (should be 1 for serial)\n",
    "#SBATCH -t 01:30:00        # Run time (hh:mm:ss)\n",
    "#SBATCH --mail-type=all    # Send email at begin and end of job\n",
    "#SBATCH -A myproject       # Project/Allocation name (req'd if you have more than 1)\n",
    "export RADICAL_PILOT_DBURL=mongodb://user:password@ip:port/db_name\n",
    "\n",
    "python 00_getting_started.py"
   ]
  },
  {
   "attachments": {},
   "cell_type": "markdown",
   "metadata": {},
   "source": [
    "##### c. Submit `myjobscript.sbatch` to the HPC resource manager:"
   ]
  },
  {
   "cell_type": "code",
   "execution_count": null,
   "metadata": {
    "vscode": {
     "languageId": "plaintext"
    }
   },
   "outputs": [],
   "source": [
    "sbatch myjobscript.sbatch"
   ]
  }
 ],
 "metadata": {
  "language_info": {
   "name": "python"
  },
  "orig_nbformat": 4
 },
 "nbformat": 4,
 "nbformat_minor": 2
}
