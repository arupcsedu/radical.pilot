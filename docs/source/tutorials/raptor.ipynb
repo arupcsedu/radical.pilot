{
 "cells": [
  {
   "attachments": {},
   "cell_type": "markdown",
   "id": "67521807",
   "metadata": {},
   "source": [
    "# Executing Tasks with RAPTOR\n",
    "\n",
    "This notebook introduces you to RAPTOR, a high-throughput RADICAL-Pilot's subsystem that executes **function** tasks and non-MPI executable tasks at scale on [supported HPC platforms](../supported.rst). This tutorial will guide you through the setup and configuration of RAPTOR and through the specification and execution of a variety of task types.\n",
    "\n",
    "<div class=\"alert alert-warning\">\n",
    "\n",
    "__Warning:__ We assume you have already worked through our [getting started](getting_started.ipynb) and [describing tasks](describing_tasks.ipynb) tutorials.\n",
    "\n",
    "</div>\n",
    "\n",
    "<div class=\"alert alert-warning\">\n",
    "\n",
    "__Warning:__ All examples in this notebook are executed locally on your machine.  You need to have installed MPI before executing these examples. RADICAL-Pilot and RAPTOR support OpenMPI, MPICH, MVAPICH or any other MPI flavor that provides a standards compliant `mpiexec` command.\n",
    "\n",
    "</div>\n",
    "\n",
    "## When Using RAPTOR\n",
    "\n",
    "Use RAPTOR when you want to concurrently execute free/serialized Python functions, Python class methods and shell commands. For example, you want to concurrently execute up to 10^5 machine learning functions across thousands or GPUs. RAPTOR supports single, multi-process and MPI Python functions.\n",
    "\n",
    "You should also use RAPTOR when your application requires non-MPI tasks which execute for less than 5 minutes. You could use RADICAL-Pilot without RAPTOR for that workload but you would incur into high schedulign and launching overheads.\n",
    "\n",
    "## What is RAPTOR\n",
    "\n",
    "RAPTOR is a subsystem of RP, thus you have to execute RP in orer to use RAPTOR.  RAPTOR launches a configurable number of masters and workers on the resources you acquired via RP. Once up and running, each RAPTOR's master\n",
    "will receive task execution requests from RP. In turn, each master will dispatch those requests to the workers which are optimized to execute small, short-running tasks at scale.\n",
    "\n",
    "Different from RP's 'normal' task, RAPTOR can execute a variety of task types:\n",
    "\n",
    "- executables: similar to RP's native task execution, but without MPI support\n",
    "- free Python functions\n",
    "- Python class methods\n",
    "- serialized Python functions\n",
    "- plain Python code\n",
    "- shell commands\n",
    "\n",
    "Importantly, all function invocations can make use of MPI by defining multiple ranks.  \n",
    "\n",
    "RAPTOR has a number of advanced capabilities, such as:\n",
    "\n",
    "- new task types can be added by applications\n",
    "- the RAPTOR Master class can be overloaded by applications\n",
    "- the RAPTOR Worker class can be overloaded by applications\n",
    "- Master and Worker layout can be tuned in a variety of ways\n",
    "- different Worker implementations are available with different capabilities and scaling properties\n",
    "- workload execution can mix RAPTOR task execution and 'normal' RP task execution\n",
    "  \n",
    "Those topics will not be covered in this basic tutorial.\n",
    "\n",
    "## RAPTOR Master Script\n",
    "\n",
    "Using RAPTOR as an RP execution overlay requires some preparation.  Specifically you need to code a RAPTOR Master script which is executed as an RP task and hosts the `Master` class instance.  You write that script to a file which is then staged to the pilot for execution.  Note how, in the following code, the master script's main method submits the RAPTOR workers. Here, we hardcode 8 ranks per workers and request the startup of two workers for each master."
   ]
  },
  {
   "cell_type": "code",
   "execution_count": 1,
   "id": "ffdf7ae1",
   "metadata": {},
   "outputs": [],
   "source": [
    "import os\n",
    "\n",
    "master_script = '''#!/usr/bin/env python3\n",
    "\n",
    "import radical.pilot as rp\n",
    "\n",
    "if __name__ == '__main__':\n",
    "\n",
    "    master = rp.raptor.Master()\n",
    "\n",
    "    master.submit_workers(descr={'ranks': 8, 'named_env': 'raptor_env'}, count=4)\n",
    "\n",
    "    master.start()\n",
    "    master.join()\n",
    "    master.stop()\n",
    "\n",
    "'''\n",
    "\n",
    "user_id = os.getuid()\n",
    "with open('/tmp/raptor_master_%d.py' % user_id, 'w') as fout:\n",
    "    fout.write(master_script)    "
   ]
  },
  {
   "cell_type": "markdown",
   "id": "5958a7c2",
   "metadata": {},
   "source": [
    "\n",
    "## Prepare a RP pilot to host RAPTOR\n",
    "\n",
    "Now that we have prepared the master script, we will launch a pilot with sufficient resources to run both that master script (using 1 core) and the two worker instances (each yusing 8 cores) started by that master script.  The master needs to run in an environment which has `radical.pilot` installed, so we prepare that environment before submission:\n"
   ]
  },
  {
   "cell_type": "code",
   "execution_count": 2,
   "id": "c8b8387d",
   "metadata": {
    "scrolled": false
   },
   "outputs": [
    {
     "name": "stderr",
     "output_type": "stream",
     "text": [
      "\u001b[94mnew session: \u001b[39m\u001b[0m[rp.session.rivendell.merzky.019443.0013]\u001b[39m\u001b[0m\u001b[94m                         \\\n",
      "database   : \u001b[39m\u001b[0m[mongodb://localhost/am]\u001b[39m\u001b[0m\u001b[92m                                         ok\n",
      "\u001b[39m\u001b[0m\u001b[94mcreate pilot manager\u001b[39m\u001b[0m\u001b[92m                                                          ok\n",
      "\u001b[39m\u001b[0m\u001b[94mcreate task manager\u001b[39m\u001b[0m\u001b[92m                                                           ok\n",
      "\u001b[39m\u001b[0m\u001b[94msubmit 1 pilot(s)\u001b[39m\u001b[0m\n",
      "        pilot.0000   local.localhost          17 cores       0 gpus\u001b[39m\u001b[0m\u001b[92m           ok\n",
      "\u001b[39m\u001b[0m"
     ]
    },
    {
     "name": "stdout",
     "output_type": "stream",
     "text": [
      "prepare raptor environment\n",
      "pilot is up and running\n"
     ]
    }
   ],
   "source": [
    "\n",
    "# do not use animated output in notebooks\n",
    "os.environ['RADICAL_REPORT_ANIME'] = 'False'\n",
    "\n",
    "import radical.pilot as rp\n",
    "import radical.utils as ru\n",
    "\n",
    "# determine the path of the currently active ve to simplify some examples below\n",
    "ve_path = os.path.dirname(os.path.dirname(ru.which('python3')))\n",
    "\n",
    "# create session and managers\n",
    "session = rp.Session()\n",
    "pmgr    = rp.PilotManager(session)\n",
    "tmgr    = rp.TaskManager(session)\n",
    "\n",
    "# submit a pilot\n",
    "pilot = pmgr.submit_pilots(rp.PilotDescription({'resource'     : 'local.localhost', \n",
    "                                                'runtime'      : 60, \n",
    "                                                'cores'        : 17, \n",
    "                                                'exit_on_error': True}))\n",
    "\n",
    "\n",
    "print('prepare raptor environment')\n",
    "pilot.prepare_env(env_name='raptor_env', \n",
    "                  env_spec={'type' :  'venv', \n",
    "                            'setup': ['/home/merzky/radical/radical.pilot.work']})\n",
    "\n",
    "# add the pilot to the task manager and wait for the pilot to become active\n",
    "tmgr.add_pilots(pilot)\n",
    "pilot.wait(rp.PMGR_ACTIVE)\n",
    "print('pilot is up and running')\n"
   ]
  },
  {
   "cell_type": "markdown",
   "id": "50b5bb36",
   "metadata": {},
   "source": [
    "\n",
    "We now have an active pilot with sufficient resource and can start executing the RAPTOR overlay:\n"
   ]
  },
  {
   "cell_type": "code",
   "execution_count": 3,
   "id": "b1c41c91",
   "metadata": {},
   "outputs": [
    {
     "name": "stderr",
     "output_type": "stream",
     "text": [
      "submit: \u001b[39m\u001b[0m#\u001b[39m\u001b[0m#\u001b[39m\u001b[0m#\u001b[39m\u001b[0m#\u001b[39m\u001b[0m#\u001b[39m\u001b[0m#\u001b[39m\u001b[0m#\u001b[39m\u001b[0m#\u001b[39m\u001b[0m#\u001b[39m\u001b[0m#\u001b[39m\u001b[0m#\u001b[39m\u001b[0m#\u001b[39m\u001b[0m#\u001b[39m\u001b[0m#\u001b[39m\u001b[0m#\u001b[39m\u001b[0m#\u001b[39m\u001b[0m#\u001b[39m\u001b[0m#\u001b[39m\u001b[0m#\u001b[39m\u001b[0m#\u001b[39m\u001b[0m#\u001b[39m\u001b[0m#\u001b[39m\u001b[0m#\u001b[39m\u001b[0m#\u001b[39m\u001b[0m#\u001b[39m\u001b[0m#\u001b[39m\u001b[0m#\u001b[39m\u001b[0m#\u001b[39m\u001b[0m#\u001b[39m\u001b[0m#\u001b[39m\u001b[0m#\u001b[39m\u001b[0m#\u001b[39m\u001b[0m#\u001b[39m\u001b[0m#\u001b[39m\u001b[0m#\u001b[39m\u001b[0m#\u001b[39m\u001b[0m#\u001b[39m\u001b[0m#\u001b[39m\u001b[0m#\u001b[39m\u001b[0m#\u001b[39m\u001b[0m#\u001b[39m\u001b[0m#\u001b[39m\u001b[0m#\u001b[39m\u001b[0m#\u001b[39m\u001b[0m#\u001b[39m\u001b[0m#\u001b[39m\u001b[0m#\u001b[39m\u001b[0m#\u001b[39m\u001b[0m#\u001b[39m\u001b[0m#\u001b[39m\u001b[0m#\u001b[39m\u001b[0m#\u001b[39m\u001b[0m#\u001b[39m\u001b[0m#\u001b[39m\u001b[0m#\u001b[39m\u001b[0m#\u001b[39m\u001b[0m#\u001b[39m\u001b[0m#\u001b[39m\u001b[0m#\u001b[39m\u001b[0m#\u001b[39m\u001b[0m#\u001b[39m\u001b[0m#\u001b[39m\u001b[0m#\u001b[39m\u001b[0m#\u001b[39m\u001b[0m#\u001b[39m\u001b[0m#\u001b[39m\u001b[0m#\u001b[39m\u001b[0m#\u001b[39m\u001b[0m#\u001b[39m\u001b[0m#\u001b[39m\u001b[0m#\u001b[39m\u001b[0m#\u001b[39m\u001b[0m\n",
      "\u001b[39m\u001b[0m"
     ]
    }
   ],
   "source": [
    "\n",
    "td = rp.TaskDescription({'mode'         : rp.RAPTOR_MASTER,\n",
    "                         'input_staging': [{'source': '/tmp/raptor_master_%d.py' % user_id, \n",
    "                                            'target': 'raptor_master.py'}],\n",
    "                         'executable'   : 'python3', \n",
    "                         'arguments'    : ['raptor_master.py'],\n",
    "                         'named_env'    : 'raptor_env'})\n",
    "master = tmgr.submit_tasks(td)\n"
   ]
  },
  {
   "cell_type": "markdown",
   "id": "1ce411cb",
   "metadata": {},
   "source": [
    "### Task execution\n",
    "\n",
    "At this point we have the pilot set up and running, we started the master task, and the master will upon initialization start the worker tasks: the RAPTOR overlay is now ready to execute a Python function.  The default RAPTOR Worker has a `test` function defined which we can use for proof of concept:\n"
   ]
  },
  {
   "cell_type": "code",
   "execution_count": 4,
   "id": "1ba782cd",
   "metadata": {},
   "outputs": [
    {
     "name": "stderr",
     "output_type": "stream",
     "text": [
      "submit: \u001b[39m\u001b[0m#\u001b[39m\u001b[0m#\u001b[39m\u001b[0m#\u001b[39m\u001b[0m#\u001b[39m\u001b[0m#\u001b[39m\u001b[0m#\u001b[39m\u001b[0m#\u001b[39m\u001b[0m#\u001b[39m\u001b[0m#\u001b[39m\u001b[0m#\u001b[39m\u001b[0m#\u001b[39m\u001b[0m#\u001b[39m\u001b[0m#\u001b[39m\u001b[0m#\u001b[39m\u001b[0m#\u001b[39m\u001b[0m#\u001b[39m\u001b[0m#\u001b[39m\u001b[0m#\u001b[39m\u001b[0m#\u001b[39m\u001b[0m#\u001b[39m\u001b[0m#\u001b[39m\u001b[0m#\u001b[39m\u001b[0m#\u001b[39m\u001b[0m#\u001b[39m\u001b[0m#\u001b[39m\u001b[0m#\u001b[39m\u001b[0m#\u001b[39m\u001b[0m#\u001b[39m\u001b[0m#\u001b[39m\u001b[0m#\u001b[39m\u001b[0m#\u001b[39m\u001b[0m#\u001b[39m\u001b[0m#\u001b[39m\u001b[0m#\u001b[39m\u001b[0m#\u001b[39m\u001b[0m#\u001b[39m\u001b[0m#\u001b[39m\u001b[0m#\u001b[39m\u001b[0m#\u001b[39m\u001b[0m#\u001b[39m\u001b[0m#\u001b[39m\u001b[0m#\u001b[39m\u001b[0m#\u001b[39m\u001b[0m#\u001b[39m\u001b[0m#\u001b[39m\u001b[0m#\u001b[39m\u001b[0m#\u001b[39m\u001b[0m#\u001b[39m\u001b[0m#\u001b[39m\u001b[0m#\u001b[39m\u001b[0m#\u001b[39m\u001b[0m#\u001b[39m\u001b[0m#\u001b[39m\u001b[0m#\u001b[39m\u001b[0m#\u001b[39m\u001b[0m#\u001b[39m\u001b[0m#\u001b[39m\u001b[0m#\u001b[39m\u001b[0m#\u001b[39m\u001b[0m#\u001b[39m\u001b[0m#\u001b[39m\u001b[0m#\u001b[39m\u001b[0m#\u001b[39m\u001b[0m#\u001b[39m\u001b[0m#\u001b[39m\u001b[0m#\u001b[39m\u001b[0m#\u001b[39m\u001b[0m#\u001b[39m\u001b[0m#\u001b[39m\u001b[0m#\u001b[39m\u001b[0m#\u001b[39m\u001b[0m#\u001b[39m\u001b[0m\n",
      "\u001b[39m\u001b[0m"
     ]
    }
   ],
   "source": [
    "# create a minimal executable task\n",
    "td   = rp.TaskDescription({'mode'     : rp.TASK_FUNCTION,\n",
    "                           'function' : 'test', \n",
    "                           'args'     : [1, 2], \n",
    "                           'scheduler': master.uid})\n",
    "task = tmgr.submit_tasks(td)\n"
   ]
  },
  {
   "cell_type": "markdown",
   "id": "03112275",
   "metadata": {},
   "source": [
    "The task will be scheduled for execution on the pilot we created above.  We now wait for the task to complete, i.e., to reach one of the final states `DONE`, `CANCELED` or `FAILED`:"
   ]
  },
  {
   "cell_type": "code",
   "execution_count": 7,
   "id": "5f2ea29b",
   "metadata": {},
   "outputs": [
    {
     "name": "stderr",
     "output_type": "stream",
     "text": [
      "wait  : \u001b[39m\u001b[0m\n",
      "\u001b[39m\u001b[0m\u001b[94m\tDONE      :     1\n",
      "\u001b[39m\u001b[0m\u001b[93m                                                                         timeout\n",
      "\u001b[39m\u001b[0m"
     ]
    },
    {
     "name": "stdout",
     "output_type": "stream",
     "text": [
      "id: task.000001 [DONE]:\n",
      "    out:\n",
      "start idx 1: 1679911847.6\n",
      "stop  idx 1: 1679911849.6\n",
      "\n",
      "    ret: None\n",
      "\n"
     ]
    }
   ],
   "source": [
    "tmgr.wait_tasks([task.uid])\n",
    "print('id: %s [%s]:\\n    out:\\n%s\\n    ret: %s\\n'\n",
    "     % (task.uid, task.state, task.stdout, task.return_value))\n"
   ]
  },
  {
   "cell_type": "code",
   "execution_count": 6,
   "id": "9c914fc2",
   "metadata": {
    "pycharm": {
     "name": "#%%\n"
    }
   },
   "outputs": [
    {
     "name": "stderr",
     "output_type": "stream",
     "text": [
      "\u001b[94mclosing session rp.session.rivendell.merzky.019443.0013\u001b[39m\u001b[0m\u001b[94m                        \\\n",
      "close task manager\u001b[39m\u001b[0m\u001b[92m                                                            ok\n",
      "\u001b[39m\u001b[0m\u001b[94mclose pilot manager\u001b[39m\u001b[0m\u001b[94m                                                            \\\n",
      "wait for 1 pilot(s)\n",
      "        \u001b[39m\u001b[0m\u001b[93m                                                                 timeout\n",
      "\u001b[39m\u001b[0m\u001b[92m                                                                              ok\n",
      "\u001b[39m\u001b[0m\u001b[94msession lifetime: 106.4s\u001b[39m\u001b[0m\u001b[92m                                                      ok\n",
      "\u001b[39m\u001b[0m"
     ]
    }
   ],
   "source": [
    "session.close()"
   ]
  }
 ],
 "metadata": {
  "kernelspec": {
   "display_name": "Python 3",
   "language": "python",
   "name": "python3"
  },
  "language_info": {
   "codemirror_mode": {
    "name": "ipython",
    "version": 3
   },
   "file_extension": ".py",
   "mimetype": "text/x-python",
   "name": "python",
   "nbconvert_exporter": "python",
   "pygments_lexer": "ipython3",
   "version": "3.6.9"
  },
  "varInspector": {
   "cols": {
    "lenName": 16,
    "lenType": 16,
    "lenVar": 40
   },
   "kernels_config": {
    "python": {
     "delete_cmd_postfix": "",
     "delete_cmd_prefix": "del ",
     "library": "var_list.py",
     "varRefreshCmd": "print(var_dic_list())"
    },
    "r": {
     "delete_cmd_postfix": ") ",
     "delete_cmd_prefix": "rm(",
     "library": "var_list.r",
     "varRefreshCmd": "cat(var_dic_list()) "
    }
   },
   "types_to_exclude": [
    "module",
    "function",
    "builtin_function_or_method",
    "instance",
    "_Feature"
   ],
   "window_display": false
  }
 },
 "nbformat": 4,
 "nbformat_minor": 5
}
